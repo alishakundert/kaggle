{
 "cells": [
  {
   "cell_type": "markdown",
   "metadata": {},
   "source": [
    "# Kaggle: Titanic\n",
    "\n",
    "Kaggle Problem: [Titanic: Machine Learning from Disaster](https://www.kaggle.com/c/titanic)\n",
    "        \n",
    "Objective: predict whether a passenger aboard the Titanic is likely to survive or not survive\n",
    "\n",
    "Evaluation metric: accuracy of classification \n",
    "\n",
    "Modeling methods:\n",
    "- I fit RidgeClassifier, KNeighborsClassifier, RandomForestClassifier, XGBClassifier, and SVC models with tuned hyperparameters.\n",
    "- The predictions of the best models were then combined in a voting ensemble.\n",
    "\n",
    "Results:\n",
    "- The most important features used by my models to predict whether a passenger on the Titanic survived include: title, gender, and passenger class.\n",
    "- My voting ensemble achieved an accuracy of 0.80382 on the Kaggle public leaderboard (top 8% score)."
   ]
  },
  {
   "cell_type": "markdown",
   "metadata": {},
   "source": [
    "# Organization:\n",
    "\n",
    "1. [The data](#'section_1') \n",
    "    1. [Reading in training and test data](#section_1.1)  \n",
    "    + [Numerical and categorical features](#section_1.2) \n",
    "\n",
    "+ [Data cleaning](#section_2)\n",
    "    1. [Missing data](#section_2.1)   \n",
    "    + [Outliers](#section_2.2) \n",
    "\n",
    "+ [Exploratory data analysis](#section3) \n",
    "    1. [Distribution of the target variable](#section_3.1)  \n",
    "    + [Analysis of features](#section_3.2)     \n",
    "    + [Correlation analysis](#section_3.3)\n",
    "        1. [Feature - Target Correlation](#section_3.3.1)  \n",
    "        + [Feature - Feature Correlation](#section_3.3.2)        \n",
    "        \n",
    "+ [Feature engineering](#section4)\n",
    "    1. [Splitting up 'Cabin': deck, room number, number of rooms](#section_4.1)  \n",
    "    + [Splitting up 'Ticket': ticket prefix and ticket suffix](#section_4.2)  \n",
    "    + [Passenger title from 'Name'](#section_4.3)  \n",
    "    + [Number of traveling companions](#section_4.4)  \n",
    "    + [Binning 'Age' and 'Fare'](#section_4.5)  \n",
    "    + [Summary of new features](#section_4.6)      \n",
    "    \n",
    "+ [Data pre-processing](#section_5)\n",
    "    1. [Skewed features and log transforms](#section_5.1)   \n",
    "    + [sklearn Pipeline for pre-processing](#section_5.2)  \n",
    "    + [Final prepping of the data before modeling](#section_5.3)  \n",
    "    \n",
    "+ [Modeling](#section_6)\n",
    "    1. [RidgeClassifier](#section_6.1)  \n",
    "    + [KNeighborsClassifier](#section_6.2)  \n",
    "    + [RandomForestClassifier](#section_6.3)  \n",
    "    + [XGBClassifier](#section_6.4)  \n",
    "    + [SVC](#section_6.5)  \n",
    "\n",
    "+ [Model ensembling and final results](#section_7)\n",
    "    1. [Comparing model fits](#section_7.1)  \n",
    "    + [Voting ensemble](#section_7.2)  \n",
    "    + [Final predictions from voting ensemble](#section_7.3)  \n",
    "    + [Feature importances](#section_7.4)"
   ]
  },
  {
   "cell_type": "code",
   "execution_count": 1,
   "metadata": {},
   "outputs": [],
   "source": [
    "import numpy as np\n",
    "import pandas as pd\n",
    "import matplotlib.pyplot as plt\n",
    "import seaborn as sns\n",
    "%matplotlib inline"
   ]
  },
  {
   "cell_type": "markdown",
   "metadata": {},
   "source": [
    "# 1. The Data <a id='section_1'></a>\n",
    "- [1.1 Reading in training and test data](#section_1.1)  \n",
    "- [1.2 Numerical and categorical features](#section_1.2)   "
   ]
  },
  {
   "cell_type": "markdown",
   "metadata": {},
   "source": [
    "## 1.1 Reading in training and test data <a id='section_1.1'></a>"
   ]
  },
  {
   "cell_type": "code",
   "execution_count": 2,
   "metadata": {},
   "outputs": [],
   "source": [
    "# Read in the training and test data sets\n",
    "X = pd.read_csv('./input/train.csv', index_col='PassengerId')  # training data\n",
    "X_test = pd.read_csv('./input/test.csv', index_col='PassengerId')  # test data\n",
    "\n",
    "# Remove any rows from the training set where there is no target\n",
    "X.dropna(axis=0, subset=['Survived'], inplace=True)\n",
    "\n",
    "# Separate out the target in the training set\n",
    "y = X['Survived'] # target"
   ]
  },
  {
   "cell_type": "code",
   "execution_count": 3,
   "metadata": {},
   "outputs": [
    {
     "data": {
      "text/html": [
       "<div>\n",
       "<style scoped>\n",
       "    .dataframe tbody tr th:only-of-type {\n",
       "        vertical-align: middle;\n",
       "    }\n",
       "\n",
       "    .dataframe tbody tr th {\n",
       "        vertical-align: top;\n",
       "    }\n",
       "\n",
       "    .dataframe thead th {\n",
       "        text-align: right;\n",
       "    }\n",
       "</style>\n",
       "<table border=\"1\" class=\"dataframe\">\n",
       "  <thead>\n",
       "    <tr style=\"text-align: right;\">\n",
       "      <th></th>\n",
       "      <th>Survived</th>\n",
       "      <th>Pclass</th>\n",
       "      <th>Name</th>\n",
       "      <th>Sex</th>\n",
       "      <th>Age</th>\n",
       "      <th>SibSp</th>\n",
       "      <th>Parch</th>\n",
       "      <th>Ticket</th>\n",
       "      <th>Fare</th>\n",
       "      <th>Cabin</th>\n",
       "      <th>Embarked</th>\n",
       "    </tr>\n",
       "    <tr>\n",
       "      <th>PassengerId</th>\n",
       "      <th></th>\n",
       "      <th></th>\n",
       "      <th></th>\n",
       "      <th></th>\n",
       "      <th></th>\n",
       "      <th></th>\n",
       "      <th></th>\n",
       "      <th></th>\n",
       "      <th></th>\n",
       "      <th></th>\n",
       "      <th></th>\n",
       "    </tr>\n",
       "  </thead>\n",
       "  <tbody>\n",
       "    <tr>\n",
       "      <th>1</th>\n",
       "      <td>0</td>\n",
       "      <td>3</td>\n",
       "      <td>Braund, Mr. Owen Harris</td>\n",
       "      <td>male</td>\n",
       "      <td>22.0</td>\n",
       "      <td>1</td>\n",
       "      <td>0</td>\n",
       "      <td>A/5 21171</td>\n",
       "      <td>7.2500</td>\n",
       "      <td>NaN</td>\n",
       "      <td>S</td>\n",
       "    </tr>\n",
       "    <tr>\n",
       "      <th>2</th>\n",
       "      <td>1</td>\n",
       "      <td>1</td>\n",
       "      <td>Cumings, Mrs. John Bradley (Florence Briggs Th...</td>\n",
       "      <td>female</td>\n",
       "      <td>38.0</td>\n",
       "      <td>1</td>\n",
       "      <td>0</td>\n",
       "      <td>PC 17599</td>\n",
       "      <td>71.2833</td>\n",
       "      <td>C85</td>\n",
       "      <td>C</td>\n",
       "    </tr>\n",
       "    <tr>\n",
       "      <th>3</th>\n",
       "      <td>1</td>\n",
       "      <td>3</td>\n",
       "      <td>Heikkinen, Miss. Laina</td>\n",
       "      <td>female</td>\n",
       "      <td>26.0</td>\n",
       "      <td>0</td>\n",
       "      <td>0</td>\n",
       "      <td>STON/O2. 3101282</td>\n",
       "      <td>7.9250</td>\n",
       "      <td>NaN</td>\n",
       "      <td>S</td>\n",
       "    </tr>\n",
       "    <tr>\n",
       "      <th>4</th>\n",
       "      <td>1</td>\n",
       "      <td>1</td>\n",
       "      <td>Futrelle, Mrs. Jacques Heath (Lily May Peel)</td>\n",
       "      <td>female</td>\n",
       "      <td>35.0</td>\n",
       "      <td>1</td>\n",
       "      <td>0</td>\n",
       "      <td>113803</td>\n",
       "      <td>53.1000</td>\n",
       "      <td>C123</td>\n",
       "      <td>S</td>\n",
       "    </tr>\n",
       "    <tr>\n",
       "      <th>5</th>\n",
       "      <td>0</td>\n",
       "      <td>3</td>\n",
       "      <td>Allen, Mr. William Henry</td>\n",
       "      <td>male</td>\n",
       "      <td>35.0</td>\n",
       "      <td>0</td>\n",
       "      <td>0</td>\n",
       "      <td>373450</td>\n",
       "      <td>8.0500</td>\n",
       "      <td>NaN</td>\n",
       "      <td>S</td>\n",
       "    </tr>\n",
       "  </tbody>\n",
       "</table>\n",
       "</div>"
      ],
      "text/plain": [
       "             Survived  Pclass  \\\n",
       "PassengerId                     \n",
       "1                   0       3   \n",
       "2                   1       1   \n",
       "3                   1       3   \n",
       "4                   1       1   \n",
       "5                   0       3   \n",
       "\n",
       "                                                          Name     Sex   Age  \\\n",
       "PassengerId                                                                    \n",
       "1                                      Braund, Mr. Owen Harris    male  22.0   \n",
       "2            Cumings, Mrs. John Bradley (Florence Briggs Th...  female  38.0   \n",
       "3                                       Heikkinen, Miss. Laina  female  26.0   \n",
       "4                 Futrelle, Mrs. Jacques Heath (Lily May Peel)  female  35.0   \n",
       "5                                     Allen, Mr. William Henry    male  35.0   \n",
       "\n",
       "             SibSp  Parch            Ticket     Fare Cabin Embarked  \n",
       "PassengerId                                                          \n",
       "1                1      0         A/5 21171   7.2500   NaN        S  \n",
       "2                1      0          PC 17599  71.2833   C85        C  \n",
       "3                0      0  STON/O2. 3101282   7.9250   NaN        S  \n",
       "4                1      0            113803  53.1000  C123        S  \n",
       "5                0      0            373450   8.0500   NaN        S  "
      ]
     },
     "execution_count": 3,
     "metadata": {},
     "output_type": "execute_result"
    }
   ],
   "source": [
    "X.head()"
   ]
  },
  {
   "cell_type": "markdown",
   "metadata": {},
   "source": [
    "For convenience, I combine the training and test sets while performing data cleaning, exploratory data analysis, and feature engineering."
   ]
  },
  {
   "cell_type": "code",
   "execution_count": 4,
   "metadata": {},
   "outputs": [],
   "source": [
    "# Combining train and test data sets\n",
    "X_all = pd.concat([X, X_test], axis=0, sort=False)"
   ]
  },
  {
   "cell_type": "markdown",
   "metadata": {},
   "source": [
    "## 1.2 Numerical and categorical features <a id='section_1.2'></a>"
   ]
  },
  {
   "cell_type": "code",
   "execution_count": 5,
   "metadata": {},
   "outputs": [
    {
     "data": {
      "text/plain": [
       "Survived    float64\n",
       "Pclass        int64\n",
       "Name         object\n",
       "Sex          object\n",
       "Age         float64\n",
       "SibSp         int64\n",
       "Parch         int64\n",
       "Ticket       object\n",
       "Fare        float64\n",
       "Cabin        object\n",
       "Embarked     object\n",
       "dtype: object"
      ]
     },
     "execution_count": 5,
     "metadata": {},
     "output_type": "execute_result"
    }
   ],
   "source": [
    "X_all.dtypes"
   ]
  },
  {
   "cell_type": "code",
   "execution_count": 6,
   "metadata": {},
   "outputs": [],
   "source": [
    "# Distinguish between features of different data types\n",
    "\n",
    "object_cols = [col for col in X.columns if\n",
    "               X[col].dtype == \"object\"]\n",
    "\n",
    "intfloat_cols = [col for col in X.columns if \n",
    "                X[col].dtype in ['int64', 'float64'] and col!='Survived']\n"
   ]
  },
  {
   "cell_type": "code",
   "execution_count": 7,
   "metadata": {},
   "outputs": [
    {
     "name": "stdout",
     "output_type": "stream",
     "text": [
      "Numerical features: ['Pclass', 'Age', 'SibSp', 'Parch', 'Fare']\n",
      "Categorical features: ['Name', 'Sex', 'Ticket', 'Cabin', 'Embarked']\n"
     ]
    }
   ],
   "source": [
    "# Categorical-Nominal features\n",
    "catnom_cols = list(object_cols)\n",
    "\n",
    "# Numerical features\n",
    "num_cols = list(intfloat_cols)\n",
    "\n",
    "print('Numerical features:', num_cols)\n",
    "print('Categorical features:', catnom_cols)"
   ]
  },
  {
   "cell_type": "markdown",
   "metadata": {},
   "source": [
    "# 2. Data Cleaning <a id='section_2'></a>\n",
    "\n",
    "- [2.1 Missing data](#section_2.1)   \n",
    "- [2.2 Outliers](#section_2.2) "
   ]
  },
  {
   "cell_type": "markdown",
   "metadata": {},
   "source": [
    "## 2.1 Missing data <a id='section_2.1'></a>"
   ]
  },
  {
   "cell_type": "code",
   "execution_count": 8,
   "metadata": {},
   "outputs": [
    {
     "name": "stdout",
     "output_type": "stream",
     "text": [
      "Age 263 0.2\n",
      "Fare 1 0.0\n",
      "Cabin 1014 0.77\n",
      "Embarked 2 0.0\n"
     ]
    }
   ],
   "source": [
    "for col in num_cols+catnom_cols:\n",
    "    if X_all[col].isnull().any():\n",
    "        print(col, sum(X_all[col].isnull()), np.round(sum(X_all[col].isnull())/len(X_all),2))"
   ]
  },
  {
   "cell_type": "markdown",
   "metadata": {},
   "source": [
    "** Missing values: 'Embarked' and 'Fare' ** \n",
    "\n",
    "'Embarked' and 'Fare' are only missing two values and one value respectively. 'Embarked' is a categorical variable so I'll impute the missing data with the most frequent value for this feature. For 'Fare', a continuous numerical variable, I'll impute with the median."
   ]
  },
  {
   "cell_type": "code",
   "execution_count": 9,
   "metadata": {},
   "outputs": [],
   "source": [
    "from sklearn.impute import SimpleImputer\n",
    "\n",
    "X_all['Embarked'] = SimpleImputer(strategy='most_frequent').fit_transform(X_all[['Embarked']]).ravel()\n",
    "X_all['Fare'] = SimpleImputer(strategy='median').fit_transform(X_all[['Fare']]).ravel()"
   ]
  },
  {
   "cell_type": "markdown",
   "metadata": {},
   "source": [
    "** Missing values: 'Cabin' **"
   ]
  },
  {
   "cell_type": "markdown",
   "metadata": {},
   "source": [
    "'Cabin' is a categorical feature which consists of 77% missing data. Since there is such a signigicant amount of missing values, I'll replace np.nan with 'None' so that missing data is treated as its own category during encoding."
   ]
  },
  {
   "cell_type": "code",
   "execution_count": 10,
   "metadata": {},
   "outputs": [],
   "source": [
    "X_all['Cabin'] = X_all['Cabin'].fillna(value='None')"
   ]
  },
  {
   "cell_type": "markdown",
   "metadata": {},
   "source": [
    "** Missing values: 'Age' **  "
   ]
  },
  {
   "cell_type": "markdown",
   "metadata": {},
   "source": [
    "The 'Age' feature consists of 20% missing data. I'll impute these missing values through KNN imputation. I determine the number of neighbors for the imputation by iterating over a range of possible n_neighbors values and choosing the value that produces the highest accuracy score using a baseline model of Ridge classification."
   ]
  },
  {
   "cell_type": "code",
   "execution_count": 11,
   "metadata": {},
   "outputs": [],
   "source": [
    "from sklearn.linear_model import RidgeClassifier\n",
    "from sklearn.linear_model import RidgeClassifierCV\n",
    "\n",
    "# function to quickly fit a simple baseline model\n",
    "def get_score(X,y):\n",
    "    model = RidgeClassifierCV()\n",
    "    model.fit(X, y)\n",
    "    return model.score(X, y)"
   ]
  },
  {
   "cell_type": "code",
   "execution_count": 12,
   "metadata": {},
   "outputs": [
    {
     "data": {
      "image/png": "[encoded data removed]",
      "text/plain": [
       "<Figure size 432x288 with 1 Axes>"
      ]
     },
     "metadata": {
      "needs_background": "light"
     },
     "output_type": "display_data"
    }
   ],
   "source": [
    "from sklearn.impute import KNNImputer\n",
    "\n",
    "score_list = []\n",
    "n_neighbors_list = np.arange(2,20,1)\n",
    "for n_neighbors in n_neighbors_list:\n",
    "    X_temp = X_all.loc[:X.shape[0], num_cols].copy()\n",
    "    X_temp[num_cols] = KNNImputer(n_neighbors=n_neighbors).fit_transform(X_temp)\n",
    "    score_list.append(get_score(X_temp, y))\n",
    "\n",
    "plt.plot(n_neighbors_list, score_list)\n",
    "plt.xlabel('n_neighbors for KNNImputer')\n",
    "plt.ylabel('Accuracy');   "
   ]
  },
  {
   "cell_type": "markdown",
   "metadata": {},
   "source": [
    "KNN Imputation with two neighbors results in the highest accuracy score using a baseline model."
   ]
  },
  {
   "cell_type": "code",
   "execution_count": 13,
   "metadata": {},
   "outputs": [],
   "source": [
    "X_all[num_cols] = KNNImputer(n_neighbors=2).fit_transform(X_all[num_cols])"
   ]
  },
  {
   "cell_type": "markdown",
   "metadata": {},
   "source": [
    "## 2.2 Outliers <a id='section_2.2'></a>\n",
    "The distribution of 'Fare' contains visible outliers for 'Fare'>500."
   ]
  },
  {
   "cell_type": "code",
   "execution_count": 14,
   "metadata": {},
   "outputs": [
    {
     "data": {
      "image/png": "[encoded data removed]",
      "text/plain": [
       "<Figure size 432x288 with 1 Axes>"
      ]
     },
     "metadata": {
      "needs_background": "light"
     },
     "output_type": "display_data"
    }
   ],
   "source": [
    "plt.scatter(X_all['Age'], X_all['Fare'])\n",
    "plt.xlabel('Age')\n",
    "plt.ylabel('Fare');"
   ]
  },
  {
   "cell_type": "code",
   "execution_count": 15,
   "metadata": {},
   "outputs": [
    {
     "data": {
      "text/html": [
       "<div>\n",
       "<style scoped>\n",
       "    .dataframe tbody tr th:only-of-type {\n",
       "        vertical-align: middle;\n",
       "    }\n",
       "\n",
       "    .dataframe tbody tr th {\n",
       "        vertical-align: top;\n",
       "    }\n",
       "\n",
       "    .dataframe thead th {\n",
       "        text-align: right;\n",
       "    }\n",
       "</style>\n",
       "<table border=\"1\" class=\"dataframe\">\n",
       "  <thead>\n",
       "    <tr style=\"text-align: right;\">\n",
       "      <th></th>\n",
       "      <th>Survived</th>\n",
       "      <th>Pclass</th>\n",
       "      <th>Name</th>\n",
       "      <th>Sex</th>\n",
       "      <th>Age</th>\n",
       "      <th>SibSp</th>\n",
       "      <th>Parch</th>\n",
       "      <th>Ticket</th>\n",
       "      <th>Fare</th>\n",
       "      <th>Cabin</th>\n",
       "      <th>Embarked</th>\n",
       "    </tr>\n",
       "    <tr>\n",
       "      <th>PassengerId</th>\n",
       "      <th></th>\n",
       "      <th></th>\n",
       "      <th></th>\n",
       "      <th></th>\n",
       "      <th></th>\n",
       "      <th></th>\n",
       "      <th></th>\n",
       "      <th></th>\n",
       "      <th></th>\n",
       "      <th></th>\n",
       "      <th></th>\n",
       "    </tr>\n",
       "  </thead>\n",
       "  <tbody>\n",
       "    <tr>\n",
       "      <th>259</th>\n",
       "      <td>1.0</td>\n",
       "      <td>1.0</td>\n",
       "      <td>Ward, Miss. Anna</td>\n",
       "      <td>female</td>\n",
       "      <td>35.0</td>\n",
       "      <td>0.0</td>\n",
       "      <td>0.0</td>\n",
       "      <td>PC 17755</td>\n",
       "      <td>512.3292</td>\n",
       "      <td>None</td>\n",
       "      <td>C</td>\n",
       "    </tr>\n",
       "    <tr>\n",
       "      <th>680</th>\n",
       "      <td>1.0</td>\n",
       "      <td>1.0</td>\n",
       "      <td>Cardeza, Mr. Thomas Drake Martinez</td>\n",
       "      <td>male</td>\n",
       "      <td>36.0</td>\n",
       "      <td>0.0</td>\n",
       "      <td>1.0</td>\n",
       "      <td>PC 17755</td>\n",
       "      <td>512.3292</td>\n",
       "      <td>B51 B53 B55</td>\n",
       "      <td>C</td>\n",
       "    </tr>\n",
       "    <tr>\n",
       "      <th>738</th>\n",
       "      <td>1.0</td>\n",
       "      <td>1.0</td>\n",
       "      <td>Lesurer, Mr. Gustave J</td>\n",
       "      <td>male</td>\n",
       "      <td>35.0</td>\n",
       "      <td>0.0</td>\n",
       "      <td>0.0</td>\n",
       "      <td>PC 17755</td>\n",
       "      <td>512.3292</td>\n",
       "      <td>B101</td>\n",
       "      <td>C</td>\n",
       "    </tr>\n",
       "    <tr>\n",
       "      <th>1235</th>\n",
       "      <td>NaN</td>\n",
       "      <td>1.0</td>\n",
       "      <td>Cardeza, Mrs. James Warburton Martinez (Charlo...</td>\n",
       "      <td>female</td>\n",
       "      <td>58.0</td>\n",
       "      <td>0.0</td>\n",
       "      <td>1.0</td>\n",
       "      <td>PC 17755</td>\n",
       "      <td>512.3292</td>\n",
       "      <td>B51 B53 B55</td>\n",
       "      <td>C</td>\n",
       "    </tr>\n",
       "  </tbody>\n",
       "</table>\n",
       "</div>"
      ],
      "text/plain": [
       "             Survived  Pclass  \\\n",
       "PassengerId                     \n",
       "259               1.0     1.0   \n",
       "680               1.0     1.0   \n",
       "738               1.0     1.0   \n",
       "1235              NaN     1.0   \n",
       "\n",
       "                                                          Name     Sex   Age  \\\n",
       "PassengerId                                                                    \n",
       "259                                           Ward, Miss. Anna  female  35.0   \n",
       "680                         Cardeza, Mr. Thomas Drake Martinez    male  36.0   \n",
       "738                                     Lesurer, Mr. Gustave J    male  35.0   \n",
       "1235         Cardeza, Mrs. James Warburton Martinez (Charlo...  female  58.0   \n",
       "\n",
       "             SibSp  Parch    Ticket      Fare        Cabin Embarked  \n",
       "PassengerId                                                          \n",
       "259            0.0    0.0  PC 17755  512.3292         None        C  \n",
       "680            0.0    1.0  PC 17755  512.3292  B51 B53 B55        C  \n",
       "738            0.0    0.0  PC 17755  512.3292         B101        C  \n",
       "1235           0.0    1.0  PC 17755  512.3292  B51 B53 B55        C  "
      ]
     },
     "execution_count": 15,
     "metadata": {},
     "output_type": "execute_result"
    }
   ],
   "source": [
    "X_all[X_all['Fare']>500]"
   ]
  },
  {
   "cell_type": "markdown",
   "metadata": {},
   "source": [
    "Four passengers have a recorded 'Fare'>500, and all have the same ticket number of \"PC 17755\". \n",
    "\n",
    "Researching further, Lesurer, Mr. Gustave J and Ward, Miss. Anna were both employed by the Cardeza family and are on the same ticket as  Cardeza, Mr. Thomas Drake Martinez and Cardeza, Mrs. James Warburton Martinez.\n",
    "https://www.encyclopedia-titanica.org/titanic-survivor/thomas-cardeza.html\n",
    "\n",
    "Thus the fare of this ticket seems to account for the price of four people to travel. \n",
    "\n",
    "I tested two options to treat these outlying points:\n",
    "1. removing 'Fare'>500 passengers\n",
    "2. scaling the 'Fare'>500 data points by four, since I have confirmed it represents the combined fare for four passengers\n",
    "\n",
    "Both treatment options slightly reduced the accuracy of a baseline RidgeClassifier model. Since modeling appears to be mostly unaffected by these points, I'll just leave these outliers as they are in the training set."
   ]
  },
  {
   "cell_type": "code",
   "execution_count": null,
   "metadata": {},
   "outputs": [],
   "source": []
  },
  {
   "cell_type": "code",
   "execution_count": null,
   "metadata": {},
   "outputs": [],
   "source": []
  },
  {
   "cell_type": "markdown",
   "metadata": {},
   "source": [
    "# 3. Exploratory data analysis <a id='section_3'></a>\n",
    "\n",
    "[3.1 Distribution of the target variable](#section_3.1)  \n",
    "\n",
    "[3.2 Analysis of features](#section_3.2)     \n",
    "\n",
    "[3.3 Correlation analysis](#section_3.3)\n",
    "- [3.3.1 Feature - Target Correlation](#section_3.3.1)  \n",
    "- [3.3.2 Feature - Feature Correlation](#section_3.3.2)  \n"
   ]
  },
  {
   "cell_type": "markdown",
   "metadata": {},
   "source": [
    "## 3.1 Distribution of the target variable  <a id='section_3.1'></a>"
   ]
  },
  {
   "cell_type": "code",
   "execution_count": 16,
   "metadata": {},
   "outputs": [
    {
     "data": {
      "image/png": "[encoded data removed]",
      "text/plain": [
       "<Figure size 432x288 with 1 Axes>"
      ]
     },
     "metadata": {
      "needs_background": "light"
     },
     "output_type": "display_data"
    }
   ],
   "source": [
    "sns.countplot(x=\"Survived\", hue=None, data=X_all);"
   ]
  },
  {
   "cell_type": "markdown",
   "metadata": {},
   "source": [
    "The majority of passengers on the Titanic did not survive. In the training data set, 38% of passengers survived and 62% of passengers did not."
   ]
  },
  {
   "cell_type": "markdown",
   "metadata": {},
   "source": [
    "## 3.2 EDA: Analysis of features <a id='section_3.2'></a>"
   ]
  },
  {
   "cell_type": "markdown",
   "metadata": {},
   "source": [
    "### EDA: 'Pclass'"
   ]
  },
  {
   "cell_type": "code",
   "execution_count": 17,
   "metadata": {},
   "outputs": [
    {
     "data": {
      "image/png": "[encoded data removed]",
      "text/plain": [
       "<Figure size 1080x360 with 2 Axes>"
      ]
     },
     "metadata": {
      "needs_background": "light"
     },
     "output_type": "display_data"
    }
   ],
   "source": [
    "fig = plt.figure(figsize=(15, 5)) # (width,height)\n",
    "\n",
    "plt.subplot(1,2,1)\n",
    "plt.hist(X['Pclass'])\n",
    "plt.xlabel('Pclass')\n",
    "plt.ylabel('Counts')\n",
    "\n",
    "plt.subplot(1,2,2)\n",
    "sns.countplot(x=\"Pclass\", hue=\"Survived\", data=X_all);"
   ]
  },
  {
   "cell_type": "code",
   "execution_count": 18,
   "metadata": {},
   "outputs": [
    {
     "data": {
      "text/html": [
       "<div>\n",
       "<style scoped>\n",
       "    .dataframe tbody tr th:only-of-type {\n",
       "        vertical-align: middle;\n",
       "    }\n",
       "\n",
       "    .dataframe tbody tr th {\n",
       "        vertical-align: top;\n",
       "    }\n",
       "\n",
       "    .dataframe thead th {\n",
       "        text-align: right;\n",
       "    }\n",
       "</style>\n",
       "<table border=\"1\" class=\"dataframe\">\n",
       "  <thead>\n",
       "    <tr style=\"text-align: right;\">\n",
       "      <th>Survived</th>\n",
       "      <th>0.0</th>\n",
       "      <th>1.0</th>\n",
       "    </tr>\n",
       "    <tr>\n",
       "      <th>Pclass</th>\n",
       "      <th></th>\n",
       "      <th></th>\n",
       "    </tr>\n",
       "  </thead>\n",
       "  <tbody>\n",
       "    <tr>\n",
       "      <th>1.0</th>\n",
       "      <td>0.370370</td>\n",
       "      <td>0.629630</td>\n",
       "    </tr>\n",
       "    <tr>\n",
       "      <th>2.0</th>\n",
       "      <td>0.527174</td>\n",
       "      <td>0.472826</td>\n",
       "    </tr>\n",
       "    <tr>\n",
       "      <th>3.0</th>\n",
       "      <td>0.757637</td>\n",
       "      <td>0.242363</td>\n",
       "    </tr>\n",
       "  </tbody>\n",
       "</table>\n",
       "</div>"
      ],
      "text/plain": [
       "Survived       0.0       1.0\n",
       "Pclass                      \n",
       "1.0       0.370370  0.629630\n",
       "2.0       0.527174  0.472826\n",
       "3.0       0.757637  0.242363"
      ]
     },
     "execution_count": 18,
     "metadata": {},
     "output_type": "execute_result"
    }
   ],
   "source": [
    "pd.crosstab(X_all['Pclass'], X_all['Survived'], normalize='index')"
   ]
  },
  {
   "cell_type": "markdown",
   "metadata": {},
   "source": [
    "Most passengers (54%) are in the third passenger class. First and second class account for 25% and 21% of the passengers respectively.\n",
    "\n",
    "In terms of survivability, only first class has a greater probability of surviving (63%) than not surviving (37%). Second class has near equal probability for surviving (47%) or not surviving (52%). Third class has the lowest survival probability (24%)."
   ]
  },
  {
   "cell_type": "markdown",
   "metadata": {},
   "source": [
    "### EDA: 'Sex '"
   ]
  },
  {
   "cell_type": "code",
   "execution_count": 19,
   "metadata": {},
   "outputs": [
    {
     "data": {
      "image/png": "[encoded data removed]",
      "text/plain": [
       "<Figure size 1080x360 with 2 Axes>"
      ]
     },
     "metadata": {
      "needs_background": "light"
     },
     "output_type": "display_data"
    }
   ],
   "source": [
    "fig = plt.figure(figsize=(15, 5)) # (width,height)\n",
    "\n",
    "plt.subplot(1,2,1)\n",
    "plt.hist(X['Sex'])\n",
    "plt.xlabel('Sex')\n",
    "plt.ylabel('Counts')\n",
    "\n",
    "plt.subplot(1,2,2)\n",
    "sns.countplot(x=\"Sex\", hue=\"Survived\", data=X_all);"
   ]
  },
  {
   "cell_type": "code",
   "execution_count": 20,
   "metadata": {},
   "outputs": [
    {
     "data": {
      "text/html": [
       "<div>\n",
       "<style scoped>\n",
       "    .dataframe tbody tr th:only-of-type {\n",
       "        vertical-align: middle;\n",
       "    }\n",
       "\n",
       "    .dataframe tbody tr th {\n",
       "        vertical-align: top;\n",
       "    }\n",
       "\n",
       "    .dataframe thead th {\n",
       "        text-align: right;\n",
       "    }\n",
       "</style>\n",
       "<table border=\"1\" class=\"dataframe\">\n",
       "  <thead>\n",
       "    <tr style=\"text-align: right;\">\n",
       "      <th>Survived</th>\n",
       "      <th>0.0</th>\n",
       "      <th>1.0</th>\n",
       "    </tr>\n",
       "    <tr>\n",
       "      <th>Sex</th>\n",
       "      <th></th>\n",
       "      <th></th>\n",
       "    </tr>\n",
       "  </thead>\n",
       "  <tbody>\n",
       "    <tr>\n",
       "      <th>female</th>\n",
       "      <td>0.257962</td>\n",
       "      <td>0.742038</td>\n",
       "    </tr>\n",
       "    <tr>\n",
       "      <th>male</th>\n",
       "      <td>0.811092</td>\n",
       "      <td>0.188908</td>\n",
       "    </tr>\n",
       "  </tbody>\n",
       "</table>\n",
       "</div>"
      ],
      "text/plain": [
       "Survived       0.0       1.0\n",
       "Sex                         \n",
       "female    0.257962  0.742038\n",
       "male      0.811092  0.188908"
      ]
     },
     "execution_count": 20,
     "metadata": {},
     "output_type": "execute_result"
    }
   ],
   "source": [
    "pd.crosstab(X_all['Sex'], X_all['Survived'], normalize='index')"
   ]
  },
  {
   "cell_type": "markdown",
   "metadata": {},
   "source": [
    "The gender composition of the training data consists of 36% female, 64% male. \n",
    "\n",
    "There is a substantial gender disparity in survival rates: 74% of female passengers survived, while in comparison only 19% of male passengers survived."
   ]
  },
  {
   "cell_type": "markdown",
   "metadata": {},
   "source": [
    "### EDA: 'Age'"
   ]
  },
  {
   "cell_type": "code",
   "execution_count": 21,
   "metadata": {},
   "outputs": [
    {
     "name": "stderr",
     "output_type": "stream",
     "text": [
      "/Users/alishakundert/Library/Python/3.7/lib/python/site-packages/ipykernel_launcher.py:14: RuntimeWarning: invalid value encountered in true_divide\n",
      "  \n"
     ]
    },
    {
     "data": {
      "image/png": "[encoded data removed]",
      "text/plain": [
       "<Figure size 1080x360 with 2 Axes>"
      ]
     },
     "metadata": {
      "needs_background": "light"
     },
     "output_type": "display_data"
    }
   ],
   "source": [
    "fig = plt.figure(figsize=(15, 5)) # (width,height)\n",
    "\n",
    "plt.subplot(1,2,1)\n",
    "plt.hist(X['Age'][X['Survived']==0], bins=np.arange(0,90,5), alpha=0.5, color='r', label='Survived=0')\n",
    "plt.hist(X['Age'][X['Survived']==1], bins=np.arange(0,90,5), alpha=0.5, color='b', label='Survived=1')\n",
    "plt.xlabel('Age')\n",
    "plt.ylabel('Counts')\n",
    "plt.legend()\n",
    "\n",
    "\n",
    "plt.subplot(1,2,2) \n",
    "counts_total, bin_edges = np.histogram(X['Age'], bins = np.arange(0,90,5))\n",
    "counts_survived, bin_edges = np.histogram(X['Age'][X['Survived']==1], bins = np.arange(0,90,5))\n",
    "plt.plot(bin_edges[:-1]+2.5, counts_survived/counts_total)\n",
    "plt.xlabel('Age')\n",
    "plt.ylabel('Fraction Survived');"
   ]
  },
  {
   "cell_type": "markdown",
   "metadata": {},
   "source": [
    "The probability of survival changes with age. Children have the highest survival rate, and elderly passengers the lowest."
   ]
  },
  {
   "cell_type": "code",
   "execution_count": 22,
   "metadata": {},
   "outputs": [
    {
     "data": {
      "image/png": "[encoded data removed]",
      "text/plain": [
       "<Figure size 1080x360 with 2 Axes>"
      ]
     },
     "metadata": {
      "needs_background": "light"
     },
     "output_type": "display_data"
    }
   ],
   "source": [
    "fig = plt.figure(figsize=(15, 5)) # (width,height)\n",
    "\n",
    "plt.subplot(1,2,1)\n",
    "plt.hist(np.log1p(X['Age'][X['Survived']==0]), bins=np.arange(0,5,0.5), alpha=0.5, color='r', label='Survived=0')\n",
    "plt.hist(np.log1p(X['Age'][X['Survived']==1]), bins=np.arange(0,5,0.5), alpha=0.5, color='b', label='Survived=1')\n",
    "plt.xlabel('log(Age)')\n",
    "plt.ylabel('Counts')\n",
    "plt.legend()\n",
    "\n",
    "\n",
    "plt.subplot(1,2,2) \n",
    "\n",
    "counts_total, bin_edges = np.histogram(np.log1p(X['Age']), bins = np.arange(0,5.5,1))\n",
    "counts_survived, bin_edges = np.histogram(np.log1p(X['Age'][X['Survived']==1]), bins = np.arange(0,5.5,1))\n",
    "plt.plot(bin_edges[:-1]+0.5, counts_survived/counts_total, c='k',label='all')\n",
    "\n",
    "counts_female, bin_edges = np.histogram(np.log1p(X['Age'][X['Sex']=='female']), bins = np.arange(0,5.5,1))\n",
    "counts_survived_female, bin_edges = np.histogram(np.log1p(X['Age'][X['Survived']==1][X['Sex']=='female']), bins = np.arange(0,5.5,1))\n",
    "plt.plot(bin_edges[:-1]+0.5, counts_survived_female/counts_female, c='c', linestyle='--',label='female')\n",
    "\n",
    "counts_male, bin_edges = np.histogram(np.log1p(X['Age'][X['Sex']=='male']), bins = np.arange(0,5.5,1))\n",
    "counts_survived_male, bin_edges = np.histogram(np.log1p(X['Age'][X['Survived']==1][X['Sex']=='male']), bins = np.arange(0,5.5,1))\n",
    "plt.plot(bin_edges[:-1]+0.5, counts_survived_male/counts_male, c='g',linestyle=':',label='male')\n",
    "\n",
    "plt.legend()\n",
    "plt.xlabel('log(Age)')\n",
    "plt.ylabel('Fraction Survived');"
   ]
  },
  {
   "cell_type": "markdown",
   "metadata": {},
   "source": [
    "Interesting trends in the age - survivability relation are apparent when distinguishing by gender. \n",
    "\n",
    "The average age-survivability trend is that the survival fraction declines with age. Because there are more male passengers than female passengers, the average age-survivability pattern follows from the male age-survivability trend.\n",
    "\n",
    "However, when examining the age-survivability pattern for female passengers, we see that both young children and elderly female passengers have a high survival fraction, while elderly male passengergers have the lowest survival fraction."
   ]
  },
  {
   "cell_type": "markdown",
   "metadata": {},
   "source": [
    "### EDA: 'Fare'"
   ]
  },
  {
   "cell_type": "code",
   "execution_count": 23,
   "metadata": {},
   "outputs": [
    {
     "data": {
      "image/png": "[encoded data removed]",
      "text/plain": [
       "<Figure size 1080x360 with 3 Axes>"
      ]
     },
     "metadata": {
      "needs_background": "light"
     },
     "output_type": "display_data"
    }
   ],
   "source": [
    "fig = plt.figure(figsize=(15, 5)) # (width,height)\n",
    "\n",
    "plt.subplot(1,3,1)\n",
    "plt.hist(X['Fare'])\n",
    "plt.xlabel('Fare')\n",
    "plt.ylabel('Counts')\n",
    "\n",
    "plt.subplot(1,3,2)\n",
    "plt.hist(np.log1p(X['Fare']))\n",
    "plt.xlabel('log(Fare)')\n",
    "plt.ylabel('Counts')\n",
    "\n",
    "plt.subplot(1,3,3)\n",
    "counts_total, bin_edges = np.histogram(np.log1p(X['Fare']), bins = np.arange(0,6,1))\n",
    "counts_survived, bin_edges = np.histogram(np.log1p(X['Fare'][X['Survived']==1]), bins = np.arange(0,6,1))\n",
    "plt.plot(bin_edges[:-1]+2.5, counts_survived/counts_total)\n",
    "plt.xlabel('log(Fare)')\n",
    "plt.ylabel('Fraction Survived');"
   ]
  },
  {
   "cell_type": "markdown",
   "metadata": {},
   "source": [
    "Passengers who paid a higher fare have a greater probability of surviving. This seems to match well with previous plots which showed first class passengers have the greatest probability of surviving compared to other passenger classes. "
   ]
  },
  {
   "cell_type": "markdown",
   "metadata": {},
   "source": [
    "### EDA: 'SibSp' and 'Parch'\n",
    "SibSp = # of siblings / spouses aboard the Titanic  \n",
    "Parch = # of parents / children aboard the Titanic"
   ]
  },
  {
   "cell_type": "code",
   "execution_count": 24,
   "metadata": {},
   "outputs": [
    {
     "data": {
      "image/png": "[encoded data removed]",
      "text/plain": [
       "<Figure size 1080x720 with 6 Axes>"
      ]
     },
     "metadata": {
      "needs_background": "light"
     },
     "output_type": "display_data"
    }
   ],
   "source": [
    "fig = plt.figure(figsize=(15, 10)) # (width,height)\n",
    "\n",
    "plt.subplot(2,3,1)\n",
    "plt.hist(X['SibSp'])\n",
    "plt.xlabel('SibSp = # of siblings / spouses aboard')\n",
    "plt.ylabel('Counts')\n",
    "\n",
    "plt.subplot(2,3,2) \n",
    "sns.countplot(x=\"SibSp\", hue=\"Survived\", data=X_all)\n",
    "\n",
    "plt.subplot(2,3,3)\n",
    "SibSp_grouped = X.groupby(['SibSp']).mean()['Survived']\n",
    "plt.plot(SibSp_grouped.index, SibSp_grouped)\n",
    "plt.xlim(0,8)\n",
    "plt.xlabel('SibSp')\n",
    "plt.ylabel('Fraction Surivived')\n",
    "\n",
    "plt.subplot(2,3,4) \n",
    "plt.hist(X['Parch'])\n",
    "plt.xlabel('Parch = # of parents / children aboard')\n",
    "plt.ylabel('Counts')\n",
    "\n",
    "plt.subplot(2,3,5) \n",
    "sns.countplot(x=\"Parch\", hue=\"Survived\", data=X_all)\n",
    "\n",
    "plt.subplot(2,3,6)\n",
    "Parch_grouped = X.groupby(['Parch']).mean()['Survived']\n",
    "plt.plot(Parch_grouped.index, Parch_grouped)\n",
    "plt.xlim(0,8)\n",
    "plt.xlabel('Parch')\n",
    "plt.ylabel('Fraction Surivived');"
   ]
  },
  {
   "cell_type": "markdown",
   "metadata": {},
   "source": [
    "'Parch' and 'SibSp' show similar trends with survivability. The highest probability of survival occurs for those passengers traveling with 1-3 companions. The second best rate of survival occurs for those traveling by themselves. The worst survival fraction occurs for those traveling with 4+ companions."
   ]
  },
  {
   "cell_type": "code",
   "execution_count": 25,
   "metadata": {
    "scrolled": true
   },
   "outputs": [
    {
     "data": {
      "image/png": "[encoded data removed]",
      "text/plain": [
       "<Figure size 432x288 with 1 Axes>"
      ]
     },
     "metadata": {
      "needs_background": "light"
     },
     "output_type": "display_data"
    }
   ],
   "source": [
    "X_temp = X.copy()\n",
    "X_temp['N_companions'] = X['Parch']+X['SibSp']\n",
    "companions_grouped = X_temp.groupby(['N_companions']).mean()['Survived']\n",
    "plt.plot(Parch_grouped.index, Parch_grouped)\n",
    "plt.xlabel('N companions = SibSp + Parch')\n",
    "plt.ylabel('Fraction Surivived');"
   ]
  },
  {
   "cell_type": "markdown",
   "metadata": {},
   "source": [
    "Combining 'SibSp' and 'Parch' creates the total number of traveling companions identified as siblings, spouses, parents, or children of the passenger. In general we see that 1-3 companions is ideal with 50-60% probability of survival, traveling alone decreases survivability to about ~35%, and traveling with 4 or more companions has the worst survivability of 0-20%. "
   ]
  },
  {
   "cell_type": "markdown",
   "metadata": {},
   "source": [
    "### EDA: 'Embarked'\n",
    "C = Cherbourg, Q = Queenstown, S = Southampton"
   ]
  },
  {
   "cell_type": "code",
   "execution_count": 26,
   "metadata": {},
   "outputs": [
    {
     "data": {
      "image/png": "[encoded data removed]",
      "text/plain": [
       "<Figure size 1080x360 with 3 Axes>"
      ]
     },
     "metadata": {
      "needs_background": "light"
     },
     "output_type": "display_data"
    }
   ],
   "source": [
    "fig = plt.figure(figsize=(15, 5)) # (width,height)\n",
    "\n",
    "plt.subplot(1,3,1) \n",
    "plt.hist(X_all['Embarked'][X_all['Embarked'].notnull()])\n",
    "plt.xlabel('Embarked')\n",
    "plt.ylabel('Counts')\n",
    "\n",
    "plt.subplot(1,3,2) \n",
    "sns.countplot(x=\"Embarked\", hue=\"Survived\", data=X_all)\n",
    "\n",
    "plt.subplot(1,3,3)\n",
    "sns.countplot(x=\"Embarked\", hue=\"Pclass\", data=X_all);"
   ]
  },
  {
   "cell_type": "code",
   "execution_count": 27,
   "metadata": {},
   "outputs": [
    {
     "data": {
      "text/html": [
       "<div>\n",
       "<style scoped>\n",
       "    .dataframe tbody tr th:only-of-type {\n",
       "        vertical-align: middle;\n",
       "    }\n",
       "\n",
       "    .dataframe tbody tr th {\n",
       "        vertical-align: top;\n",
       "    }\n",
       "\n",
       "    .dataframe thead th {\n",
       "        text-align: right;\n",
       "    }\n",
       "</style>\n",
       "<table border=\"1\" class=\"dataframe\">\n",
       "  <thead>\n",
       "    <tr style=\"text-align: right;\">\n",
       "      <th>Survived</th>\n",
       "      <th>0.0</th>\n",
       "      <th>1.0</th>\n",
       "    </tr>\n",
       "    <tr>\n",
       "      <th>Embarked</th>\n",
       "      <th></th>\n",
       "      <th></th>\n",
       "    </tr>\n",
       "  </thead>\n",
       "  <tbody>\n",
       "    <tr>\n",
       "      <th>C</th>\n",
       "      <td>0.446429</td>\n",
       "      <td>0.553571</td>\n",
       "    </tr>\n",
       "    <tr>\n",
       "      <th>Q</th>\n",
       "      <td>0.610390</td>\n",
       "      <td>0.389610</td>\n",
       "    </tr>\n",
       "    <tr>\n",
       "      <th>S</th>\n",
       "      <td>0.660991</td>\n",
       "      <td>0.339009</td>\n",
       "    </tr>\n",
       "  </tbody>\n",
       "</table>\n",
       "</div>"
      ],
      "text/plain": [
       "Survived       0.0       1.0\n",
       "Embarked                    \n",
       "C         0.446429  0.553571\n",
       "Q         0.610390  0.389610\n",
       "S         0.660991  0.339009"
      ]
     },
     "execution_count": 27,
     "metadata": {},
     "output_type": "execute_result"
    }
   ],
   "source": [
    "pd.crosstab(X_all['Embarked'], X_all['Survived'], normalize='index')"
   ]
  },
  {
   "cell_type": "markdown",
   "metadata": {},
   "source": [
    "There is likely no inherent reason a port itself has an influence on survival probability. However, each port has different demographics in terms of passenger class, age, and gender which do have an influence on survival probability.\n",
    "\n",
    "More passengers depart from Southampton than the other two ports combined, and this port is associated with a survival fraction of 0.34, similar to the overall survival fraction.\n",
    "\n",
    "Cherbourg has nearly equal probabilities of surviving or not surviving, and passengers departing from this port are classified as mostly first or third class passengers, with few second class passengers.\n",
    "\n",
    "Queenstown passengers are mostly identified as third class, and this port is associated with a survival fraction of 0.39."
   ]
  },
  {
   "cell_type": "markdown",
   "metadata": {},
   "source": [
    "## 3.3 EDA: Correlation analysis <a id='section_3.3'></a>\n",
    "\n",
    "- [3.3.1 Feature - Target Correlation](#section_3.3.1)  \n",
    "- [3.3.2 Feature - Feature Correlation](#section_3.3.2)  "
   ]
  },
  {
   "cell_type": "markdown",
   "metadata": {},
   "source": [
    "### 3.3.1 Feature  - Target Correlation <a id='section_3.3.1'></a>"
   ]
  },
  {
   "cell_type": "code",
   "execution_count": 28,
   "metadata": {},
   "outputs": [
    {
     "name": "stdout",
     "output_type": "stream",
     "text": [
      "Fare      0.257307\n",
      "Parch     0.081629\n",
      "SibSp    -0.035322\n",
      "Age      -0.074546\n",
      "Pclass   -0.338481\n",
      "dtype: float64\n"
     ]
    }
   ],
   "source": [
    "# Calculate Pearson correlation between the target and numerical features\n",
    "corr = X_all[num_cols].corrwith(y)\n",
    "print(corr.sort_values(ascending=False))\n",
    "\n",
    "# List of features most strongly correlated with target\n",
    "corr_top = list(np.abs(corr).sort_values(ascending=False).keys())"
   ]
  },
  {
   "cell_type": "markdown",
   "metadata": {},
   "source": [
    "The features most strongly correlated with the target variable 'Survived' are: 'Pclass' (r=-0.34) and 'Fare' (r=0.26).\n",
    "\n",
    "First class passengers have the greatest probability of surviving, while third class passengers have the lowest. Passengers who paid a higher fare have a greater probability of surviving compared to passengers who paid a lower fare. Furthermore, the corollary -  first class passengers are associated with paying a higher fare, and third class passengers are associated with paying a lower fare - is indicated by the strong correlation between 'Pclass' and 'Fare' (r=-0.558)."
   ]
  },
  {
   "cell_type": "markdown",
   "metadata": {},
   "source": [
    "### 3.3.2 Feature  - Feature Correlation <a id='section_3.3.2'></a>"
   ]
  },
  {
   "cell_type": "code",
   "execution_count": 29,
   "metadata": {},
   "outputs": [
    {
     "data": {
      "image/png": "[encoded data removed]",
      "text/plain": [
       "<Figure size 720x720 with 2 Axes>"
      ]
     },
     "metadata": {
      "needs_background": "light"
     },
     "output_type": "display_data"
    }
   ],
   "source": [
    "# Plot correlation map of features\n",
    "\n",
    "fig = plt.figure(figsize=(10, 10)) # (width,height)\n",
    "corr_map = X_all[num_cols].corr()\n",
    "sns.heatmap(corr_map, cmap='viridis', square=True, \n",
    "            annot=True, annot_kws={'size': 10}, cbar_kws={'shrink': 0.8,'label': 'correlation'});"
   ]
  },
  {
   "cell_type": "code",
   "execution_count": 30,
   "metadata": {},
   "outputs": [],
   "source": [
    "# Identify collinearity in features\n",
    "\n",
    "corr = X_all[num_cols].corr()\n",
    "df_corr = pd.DataFrame(columns=['feat1','feat2','corr(feat1,feat2)'])\n",
    "corr_high = corr[(np.abs(corr)<1)&(np.abs(corr)>0.)]\n",
    "for col in corr_high.columns: \n",
    "    if corr_high[col].count()>0:\n",
    "        dat = corr_high[col]\n",
    "        for ii in range(0,len(dat[dat.notnull()].keys())):\n",
    "            df_corr = df_corr.append({'feat1': col,\n",
    "                                      'feat2': dat[dat.notnull()].keys()[ii], \n",
    "                                      'corr(feat1,feat2)': dat[dat.notnull()].values[ii]}, \n",
    "                                      ignore_index=True)\n",
    "cols_collinear = df_corr['feat1'].unique()\n",
    "df_corr = df_corr.sort_values(by='corr(feat1,feat2)', ascending=False).drop_duplicates(subset='corr(feat1,feat2)', keep='first')"
   ]
  },
  {
   "cell_type": "code",
   "execution_count": 31,
   "metadata": {},
   "outputs": [
    {
     "data": {
      "text/html": [
       "<div>\n",
       "<style scoped>\n",
       "    .dataframe tbody tr th:only-of-type {\n",
       "        vertical-align: middle;\n",
       "    }\n",
       "\n",
       "    .dataframe tbody tr th {\n",
       "        vertical-align: top;\n",
       "    }\n",
       "\n",
       "    .dataframe thead th {\n",
       "        text-align: right;\n",
       "    }\n",
       "</style>\n",
       "<table border=\"1\" class=\"dataframe\">\n",
       "  <thead>\n",
       "    <tr style=\"text-align: right;\">\n",
       "      <th></th>\n",
       "      <th>feat1</th>\n",
       "      <th>feat2</th>\n",
       "      <th>corr(feat1,feat2)</th>\n",
       "    </tr>\n",
       "  </thead>\n",
       "  <tbody>\n",
       "    <tr>\n",
       "      <th>10</th>\n",
       "      <td>SibSp</td>\n",
       "      <td>Parch</td>\n",
       "      <td>0.373587</td>\n",
       "    </tr>\n",
       "    <tr>\n",
       "      <th>15</th>\n",
       "      <td>Parch</td>\n",
       "      <td>Fare</td>\n",
       "      <td>0.221635</td>\n",
       "    </tr>\n",
       "    <tr>\n",
       "      <th>7</th>\n",
       "      <td>Age</td>\n",
       "      <td>Fare</td>\n",
       "      <td>0.169310</td>\n",
       "    </tr>\n",
       "    <tr>\n",
       "      <th>11</th>\n",
       "      <td>SibSp</td>\n",
       "      <td>Fare</td>\n",
       "      <td>0.160349</td>\n",
       "    </tr>\n",
       "    <tr>\n",
       "      <th>8</th>\n",
       "      <td>SibSp</td>\n",
       "      <td>Pclass</td>\n",
       "      <td>0.060832</td>\n",
       "    </tr>\n",
       "    <tr>\n",
       "      <th>12</th>\n",
       "      <td>Parch</td>\n",
       "      <td>Pclass</td>\n",
       "      <td>0.018322</td>\n",
       "    </tr>\n",
       "    <tr>\n",
       "      <th>6</th>\n",
       "      <td>Age</td>\n",
       "      <td>Parch</td>\n",
       "      <td>-0.113767</td>\n",
       "    </tr>\n",
       "    <tr>\n",
       "      <th>5</th>\n",
       "      <td>Age</td>\n",
       "      <td>SibSp</td>\n",
       "      <td>-0.169631</td>\n",
       "    </tr>\n",
       "    <tr>\n",
       "      <th>4</th>\n",
       "      <td>Age</td>\n",
       "      <td>Pclass</td>\n",
       "      <td>-0.385134</td>\n",
       "    </tr>\n",
       "    <tr>\n",
       "      <th>3</th>\n",
       "      <td>Pclass</td>\n",
       "      <td>Fare</td>\n",
       "      <td>-0.558683</td>\n",
       "    </tr>\n",
       "  </tbody>\n",
       "</table>\n",
       "</div>"
      ],
      "text/plain": [
       "     feat1   feat2  corr(feat1,feat2)\n",
       "10   SibSp   Parch           0.373587\n",
       "15   Parch    Fare           0.221635\n",
       "7      Age    Fare           0.169310\n",
       "11   SibSp    Fare           0.160349\n",
       "8    SibSp  Pclass           0.060832\n",
       "12   Parch  Pclass           0.018322\n",
       "6      Age   Parch          -0.113767\n",
       "5      Age   SibSp          -0.169631\n",
       "4      Age  Pclass          -0.385134\n",
       "3   Pclass    Fare          -0.558683"
      ]
     },
     "execution_count": 31,
     "metadata": {},
     "output_type": "execute_result"
    }
   ],
   "source": [
    "df_corr"
   ]
  },
  {
   "cell_type": "markdown",
   "metadata": {},
   "source": [
    "The greatest feature-feature correlation is between 'Pclass' and 'Fare' with a -0.56 correlation indicating that greater fares were associated with first class passengers and lesser fares were associated with third class passengers. \n",
    "\n",
    "A somewhat weaker correlation (r=-0.39) exists between 'Pclass' and 'Age'. First class passengers have a median age of 40 y, second class passengers have a median age of 30 y, and third class passengers have a median of 27 y."
   ]
  },
  {
   "cell_type": "code",
   "execution_count": null,
   "metadata": {},
   "outputs": [],
   "source": []
  },
  {
   "cell_type": "code",
   "execution_count": null,
   "metadata": {},
   "outputs": [],
   "source": []
  },
  {
   "cell_type": "markdown",
   "metadata": {},
   "source": [
    "# 4. Feature Engineering <a id='section_4'></a>\n",
    "[4.1 Splitting up 'Cabin': deck, room number, number of rooms](#section_4.1)  \n",
    "[4.2 Splitting up 'Ticket': ticket prefix and ticket suffix](#section_4.2)  \n",
    "[4.3 Passenger title from 'Name'](#section_4.3)  \n",
    "[4.4 Number of traveling companions](#section_4.4)  \n",
    "[4.5 Binning 'Age' and 'Fare'](#section_4.5)  \n",
    "[4.6 Summary of new features](#section_4.6)  "
   ]
  },
  {
   "cell_type": "markdown",
   "metadata": {},
   "source": [
    "## 4.1 Splitting up 'Cabin': deck, room number, number of rooms <a id='section_4.1'></a>"
   ]
  },
  {
   "cell_type": "code",
   "execution_count": 32,
   "metadata": {},
   "outputs": [],
   "source": [
    "deck = X_all['Cabin'].copy()\n",
    "room_number = X_all['Cabin'].copy()\n",
    "N_cabin = pd.Series(np.zeros(len(X_all)), name='NCabin', index=X_all.index)\n",
    "cabin_bool = pd.Series(np.zeros(len(X_all)), name='CabinBool', index=X_all.index)\n",
    "for index in X_all[X_all['Cabin']!='None'].index:\n",
    "    \n",
    "    # Some passengers are listed with more than one cabin\n",
    "    cabins = X_all.loc[index,'Cabin'].split(' ')\n",
    "    \n",
    "    # Record number of cabins\n",
    "    N_cabin[index] = len(cabins)\n",
    "    cabin_bool[index] = 1\n",
    "    \n",
    "    # Assign deck and room number based on first entry in cabins\n",
    "    deck.loc[index] = cabins[0][0]\n",
    "    if len(cabins[0])>1:\n",
    "        room_number[index] = int(cabins[0][1:])\n",
    "    else:\n",
    "        room_number[index] = None\n",
    "\n",
    "room_number = room_number.replace(to_replace='None', value=-1)\n",
    "X_all['Deck'] = deck\n",
    "X_all['NCabin'] = N_cabin\n",
    "X_all['CabinBool'] = cabin_bool\n",
    "\n",
    "# Instead of adding RoomNumber, add instead CabinBool\n",
    "#X_all['RoomNumber'] = RoomNumber.apply(pd.to_numeric)\n",
    "\n",
    "# Don't need 'Cabin' anymore\n",
    "X_all = X_all.drop('Cabin', axis=1) "
   ]
  },
  {
   "cell_type": "code",
   "execution_count": 33,
   "metadata": {},
   "outputs": [
    {
     "data": {
      "image/png": "[encoded data removed]",
      "text/plain": [
       "<Figure size 1080x360 with 2 Axes>"
      ]
     },
     "metadata": {
      "needs_background": "light"
     },
     "output_type": "display_data"
    }
   ],
   "source": [
    "fig = plt.figure(figsize=(15, 5)) # (width,height)\n",
    "\n",
    "plt.subplot(1,2,1)\n",
    "plt.hist(X_all['Deck'][X_all['Deck'].notnull()])\n",
    "\n",
    "plt.subplot(1,2,2) \n",
    "sns.countplot(x=\"Deck\", hue=\"Survived\", data=X_all);"
   ]
  },
  {
   "cell_type": "markdown",
   "metadata": {},
   "source": [
    "The relation of 'Deck' to survival probability may be related to the staggered flooding times of the decks or varying distances to the lifeboats from different decks. "
   ]
  },
  {
   "cell_type": "code",
   "execution_count": 34,
   "metadata": {},
   "outputs": [
    {
     "data": {
      "text/html": [
       "<div>\n",
       "<style scoped>\n",
       "    .dataframe tbody tr th:only-of-type {\n",
       "        vertical-align: middle;\n",
       "    }\n",
       "\n",
       "    .dataframe tbody tr th {\n",
       "        vertical-align: top;\n",
       "    }\n",
       "\n",
       "    .dataframe thead th {\n",
       "        text-align: right;\n",
       "    }\n",
       "</style>\n",
       "<table border=\"1\" class=\"dataframe\">\n",
       "  <thead>\n",
       "    <tr style=\"text-align: right;\">\n",
       "      <th>Survived</th>\n",
       "      <th>0.0</th>\n",
       "      <th>1.0</th>\n",
       "    </tr>\n",
       "    <tr>\n",
       "      <th>Deck</th>\n",
       "      <th></th>\n",
       "      <th></th>\n",
       "    </tr>\n",
       "  </thead>\n",
       "  <tbody>\n",
       "    <tr>\n",
       "      <th>A</th>\n",
       "      <td>0.533333</td>\n",
       "      <td>0.466667</td>\n",
       "    </tr>\n",
       "    <tr>\n",
       "      <th>B</th>\n",
       "      <td>0.255319</td>\n",
       "      <td>0.744681</td>\n",
       "    </tr>\n",
       "    <tr>\n",
       "      <th>C</th>\n",
       "      <td>0.406780</td>\n",
       "      <td>0.593220</td>\n",
       "    </tr>\n",
       "    <tr>\n",
       "      <th>D</th>\n",
       "      <td>0.242424</td>\n",
       "      <td>0.757576</td>\n",
       "    </tr>\n",
       "    <tr>\n",
       "      <th>E</th>\n",
       "      <td>0.250000</td>\n",
       "      <td>0.750000</td>\n",
       "    </tr>\n",
       "    <tr>\n",
       "      <th>F</th>\n",
       "      <td>0.384615</td>\n",
       "      <td>0.615385</td>\n",
       "    </tr>\n",
       "    <tr>\n",
       "      <th>G</th>\n",
       "      <td>0.500000</td>\n",
       "      <td>0.500000</td>\n",
       "    </tr>\n",
       "    <tr>\n",
       "      <th>None</th>\n",
       "      <td>0.700146</td>\n",
       "      <td>0.299854</td>\n",
       "    </tr>\n",
       "    <tr>\n",
       "      <th>T</th>\n",
       "      <td>1.000000</td>\n",
       "      <td>0.000000</td>\n",
       "    </tr>\n",
       "  </tbody>\n",
       "</table>\n",
       "</div>"
      ],
      "text/plain": [
       "Survived       0.0       1.0\n",
       "Deck                        \n",
       "A         0.533333  0.466667\n",
       "B         0.255319  0.744681\n",
       "C         0.406780  0.593220\n",
       "D         0.242424  0.757576\n",
       "E         0.250000  0.750000\n",
       "F         0.384615  0.615385\n",
       "G         0.500000  0.500000\n",
       "None      0.700146  0.299854\n",
       "T         1.000000  0.000000"
      ]
     },
     "execution_count": 34,
     "metadata": {},
     "output_type": "execute_result"
    }
   ],
   "source": [
    "pd.crosstab(X_all['Deck'], X_all['Survived'], normalize='index')"
   ]
  },
  {
   "cell_type": "markdown",
   "metadata": {},
   "source": [
    "## 4.2 Splitting up 'Ticket': ticket prefix and ticket suffix <a id='section_4.2'></a>\n",
    "'Ticket' values can come in two varieties: \n",
    "- a string of numbers (e.g., '36568') \n",
    "- a combination of a prefix containing letters (or letters and numbers) followed by a suffix consisting of just numbers (e.g., 'A/4 48871')"
   ]
  },
  {
   "cell_type": "code",
   "execution_count": 35,
   "metadata": {},
   "outputs": [],
   "source": [
    "ticket_prefix = []\n",
    "ticket_suffix = []\n",
    "ticket_prefix_bool = [] # indicates if a ticket_prefix was recorded\n",
    "for index in X_all.index:\n",
    "    ticket = X_all.loc[index,'Ticket']\n",
    "    \n",
    "    # Both prefix and suffix in ticket string\n",
    "    if (' ' in ticket):\n",
    "        ws_index = ticket.rfind(' ') \n",
    "        ticket_prefix.append(ticket[:ws_index])\n",
    "        ticket_suffix.append(int(ticket[ws_index+1:]))\n",
    "        ticket_prefix_bool.append(1)             \n",
    "    \n",
    "    # Just numerical suffix in ticket string\n",
    "    else:\n",
    "        ticket_prefix.append('None')\n",
    "        ticket_prefix_bool.append(0)\n",
    "        try:\n",
    "            ticket_suffix.append(int(ticket))\n",
    "        except:\n",
    "            ticket_suffix.append(None)\n",
    "\n",
    "X_all['TicketPrefix'] = ticket_prefix\n",
    "X_all['TicketPrefixBool'] = ticket_prefix_bool\n",
    "\n",
    "# No real benefit to adding the ticket suffix\n",
    "#X_all['Ticket_suffix'] = ticket_suffix\n",
    "\n",
    "# Don't need to keep original 'Ticket' column\n",
    "X_all = X_all.drop('Ticket', axis=1)"
   ]
  },
  {
   "cell_type": "code",
   "execution_count": 36,
   "metadata": {},
   "outputs": [],
   "source": [
    "# Standardizing the spelling of the ticket prefixes\n",
    "for index in X_all.loc[X_all[X_all['TicketPrefix']!='None'].index,'TicketPrefix'].index:\n",
    "    X_all.loc[index,'TicketPrefix'] = X_all.loc[index,'TicketPrefix'].replace('.', '').replace('/', '').replace(' ', '')"
   ]
  },
  {
   "cell_type": "code",
   "execution_count": 37,
   "metadata": {},
   "outputs": [],
   "source": [
    "# Combining a few similar ticket prefixes by hand\n",
    "X_all['TicketPrefix'] = X_all['TicketPrefix'].replace('SCParis', 'SCPARIS')\n",
    "X_all['TicketPrefix'] = X_all['TicketPrefix'].replace('SOTONO2', 'STONO2')\n",
    "X_all['TicketPrefix'] = X_all['TicketPrefix'].replace('STONOQ', 'SOTONOQ')\n",
    "X_all['TicketPrefix'] = X_all['TicketPrefix'].replace('CASOTON', 'CA')\n",
    "\n",
    "\n",
    "# If less than four instances of a ticket prefix occur, replace with 'other'\n",
    "val_counts = X_all['TicketPrefix'].value_counts()\n",
    "for prefix in val_counts.keys()[val_counts.values<=4]:\n",
    "    X_all.loc[X_all['TicketPrefix']==prefix, 'TicketPrefix'] = 'other'"
   ]
  },
  {
   "cell_type": "code",
   "execution_count": 38,
   "metadata": {},
   "outputs": [
    {
     "data": {
      "text/plain": [
       "None       961\n",
       "PC          92\n",
       "CA          69\n",
       "other       34\n",
       "A5          28\n",
       "SOTONOQ     25\n",
       "STONO2      24\n",
       "SCPARIS     19\n",
       "WC          15\n",
       "A4          10\n",
       "FCC          9\n",
       "C            8\n",
       "SOC          8\n",
       "SOPP         7\n",
       "Name: TicketPrefix, dtype: int64"
      ]
     },
     "execution_count": 38,
     "metadata": {},
     "output_type": "execute_result"
    }
   ],
   "source": [
    "X_all['TicketPrefix'].value_counts()"
   ]
  },
  {
   "cell_type": "markdown",
   "metadata": {},
   "source": [
    "## 4.3 Passenger title from 'Name' <a id='section_4.3'></a>"
   ]
  },
  {
   "cell_type": "code",
   "execution_count": 39,
   "metadata": {},
   "outputs": [],
   "source": [
    "title = []\n",
    "for index in X_all.index:\n",
    "    \n",
    "    name = X_all.loc[index,'Name'].split()\n",
    "    \n",
    "    if 'Mr.' in name:\n",
    "        title.append('Mr.')\n",
    "    elif 'Master.' in name:\n",
    "        title.append('Master.') \n",
    "        \n",
    "    elif 'Miss.' in name:\n",
    "        title.append('Miss.')\n",
    "    elif ('Ms.' in name) or ('Mlle.' in name):\n",
    "        title.append('Ms.')\n",
    "    elif 'Mrs.' in name:\n",
    "        title.append('Mrs.')\n",
    "    elif 'Mme.' in name:\n",
    "        title.append('Mme.')\n",
    "        \n",
    "\n",
    "    elif 'Rev.' in name:\n",
    "        title.append('Rev.')\n",
    "    elif 'Dr.' in name:\n",
    "        title.append('Dr.')\n",
    "    elif ('Major.' in name) or ('Capt.' in name) or ('Col.' in name):\n",
    "        title.append('Military')\n",
    "    elif ('Don.' in name) or ('Sir.' in name)  or ('Jonkheer.' in name) \\\n",
    "        or ('Lady.' in name) or ('Countess.' in name) or ('Dona.' in name):\n",
    "        title.append('Nobility')\n",
    "        \n",
    "    else:\n",
    "        title.append(None)\n",
    "\n",
    "X_all['Title'] = title\n",
    "\n",
    "# Don't need 'Name' anymore\n",
    "X_all = X_all.drop('Name', axis=1)"
   ]
  },
  {
   "cell_type": "code",
   "execution_count": 40,
   "metadata": {},
   "outputs": [
    {
     "data": {
      "image/png": "[encoded data removed]",
      "text/plain": [
       "<Figure size 1080x360 with 2 Axes>"
      ]
     },
     "metadata": {
      "needs_background": "light"
     },
     "output_type": "display_data"
    }
   ],
   "source": [
    "fig = plt.figure(figsize=(15, 5)) # (width,height)\n",
    "\n",
    "plt.subplot(1,2,1)\n",
    "plt.hist(X_all['Title'][X_all['Title'].notnull()])\n",
    "plt.xlabel('Title')\n",
    "plt.ylabel('Counts')\n",
    "\n",
    "plt.subplot(1,2,2)\n",
    "sns.boxplot(x=\"Title\", y=\"Age\", hue=None, data=X_all);"
   ]
  },
  {
   "cell_type": "code",
   "execution_count": 41,
   "metadata": {},
   "outputs": [],
   "source": [
    "# Combining some low frequency titles\n",
    "X_all.loc[X_all['Title']=='Ms.', 'Title'] = 'Miss.'\n",
    "X_all.loc[X_all['Title']=='Mme.', 'Title'] = 'Mrs.'\n",
    "\n",
    "X_all.loc[X_all['Title']=='Rev.', 'Title'] = 'Profession'\n",
    "X_all.loc[X_all['Title']=='Dr.', 'Title'] = 'Profession'\n",
    "X_all.loc[X_all['Title']=='Military', 'Title'] = 'Profession'"
   ]
  },
  {
   "cell_type": "code",
   "execution_count": 42,
   "metadata": {},
   "outputs": [
    {
     "data": {
      "text/html": [
       "<div>\n",
       "<style scoped>\n",
       "    .dataframe tbody tr th:only-of-type {\n",
       "        vertical-align: middle;\n",
       "    }\n",
       "\n",
       "    .dataframe tbody tr th {\n",
       "        vertical-align: top;\n",
       "    }\n",
       "\n",
       "    .dataframe thead th {\n",
       "        text-align: right;\n",
       "    }\n",
       "</style>\n",
       "<table border=\"1\" class=\"dataframe\">\n",
       "  <thead>\n",
       "    <tr style=\"text-align: right;\">\n",
       "      <th>Survived</th>\n",
       "      <th>0.0</th>\n",
       "      <th>1.0</th>\n",
       "    </tr>\n",
       "    <tr>\n",
       "      <th>Title</th>\n",
       "      <th></th>\n",
       "      <th></th>\n",
       "    </tr>\n",
       "  </thead>\n",
       "  <tbody>\n",
       "    <tr>\n",
       "      <th>Master.</th>\n",
       "      <td>0.425000</td>\n",
       "      <td>0.575000</td>\n",
       "    </tr>\n",
       "    <tr>\n",
       "      <th>Miss.</th>\n",
       "      <td>0.297297</td>\n",
       "      <td>0.702703</td>\n",
       "    </tr>\n",
       "    <tr>\n",
       "      <th>Mr.</th>\n",
       "      <td>0.843327</td>\n",
       "      <td>0.156673</td>\n",
       "    </tr>\n",
       "    <tr>\n",
       "      <th>Mrs.</th>\n",
       "      <td>0.206349</td>\n",
       "      <td>0.793651</td>\n",
       "    </tr>\n",
       "    <tr>\n",
       "      <th>Nobility</th>\n",
       "      <td>0.400000</td>\n",
       "      <td>0.600000</td>\n",
       "    </tr>\n",
       "    <tr>\n",
       "      <th>Profession</th>\n",
       "      <td>0.722222</td>\n",
       "      <td>0.277778</td>\n",
       "    </tr>\n",
       "  </tbody>\n",
       "</table>\n",
       "</div>"
      ],
      "text/plain": [
       "Survived         0.0       1.0\n",
       "Title                         \n",
       "Master.     0.425000  0.575000\n",
       "Miss.       0.297297  0.702703\n",
       "Mr.         0.843327  0.156673\n",
       "Mrs.        0.206349  0.793651\n",
       "Nobility    0.400000  0.600000\n",
       "Profession  0.722222  0.277778"
      ]
     },
     "execution_count": 42,
     "metadata": {},
     "output_type": "execute_result"
    }
   ],
   "source": [
    "pd.crosstab(X_all['Title'], X_all['Survived'], normalize='index')"
   ]
  },
  {
   "cell_type": "markdown",
   "metadata": {},
   "source": [
    "## 4.4 Number of traveling companions <a id='section_4.4'></a>\n",
    "How many siblings, spouses, parents, or children are traveling with a given passenger?"
   ]
  },
  {
   "cell_type": "code",
   "execution_count": 43,
   "metadata": {},
   "outputs": [],
   "source": [
    "N_companions = [] # how many people is the passenger traveling with?\n",
    "companions = [] # boolean, yes for traveling companions, no for none\n",
    "\n",
    "for index in X_all.index:\n",
    "    parch = X_all.loc[index,'Parch']\n",
    "    sibsp = X_all.loc[index,'SibSp']\n",
    "    \n",
    "    N_companions.append(parch+sibsp)\n",
    "    \n",
    "    if parch+sibsp==0:\n",
    "        companions.append(0)\n",
    "    else:\n",
    "        companions.append(1)\n",
    "\n",
    "X_all['NCompanions'] = N_companions\n",
    "X_all['CompanionsBool'] = companions"
   ]
  },
  {
   "cell_type": "markdown",
   "metadata": {},
   "source": [
    "## 4.5 Binning 'Age' and 'Fare' <a id='section_4.5'></a>"
   ]
  },
  {
   "cell_type": "markdown",
   "metadata": {},
   "source": [
    "### Binning: 'Age'"
   ]
  },
  {
   "cell_type": "markdown",
   "metadata": {},
   "source": [
    "Age is related to survivability - children have the highest survival fraction while elderly passengers have, on average, the lowest. I'll create age categories based how the fraction of survived passengers changes with age."
   ]
  },
  {
   "cell_type": "code",
   "execution_count": 44,
   "metadata": {},
   "outputs": [
    {
     "name": "stderr",
     "output_type": "stream",
     "text": [
      "/Users/alishakundert/Library/Python/3.7/lib/python/site-packages/ipykernel_launcher.py:4: RuntimeWarning: invalid value encountered in true_divide\n",
      "  after removing the cwd from sys.path.\n"
     ]
    },
    {
     "data": {
      "image/png": "[encoded data removed]",
      "text/plain": [
       "<Figure size 432x288 with 1 Axes>"
      ]
     },
     "metadata": {
      "needs_background": "light"
     },
     "output_type": "display_data"
    }
   ],
   "source": [
    "plt.subplot(1,1,1) \n",
    "counts_total, bin_edges = np.histogram(X['Age'], bins = np.arange(0,90,5))\n",
    "counts_survived, bin_edges = np.histogram(X['Age'][X['Survived']==1], bins = np.arange(0,90,5))\n",
    "plt.plot(bin_edges[:-1]+2.5, counts_survived/counts_total)\n",
    "plt.xlabel('Age')\n",
    "plt.ylabel('Fraction Survived');"
   ]
  },
  {
   "cell_type": "markdown",
   "metadata": {},
   "source": [
    "Based on this plot, it seems reasonable to implement age categories as: \n",
    "(0, 5], (5, 10], (10, 22], (22, 38], (38, 68], (68, 90]"
   ]
  },
  {
   "cell_type": "code",
   "execution_count": 45,
   "metadata": {},
   "outputs": [],
   "source": [
    "# Binning Age based on relation between age and survivability\n",
    "\n",
    "X_all['AgeBin'] = pd.cut(X_all['Age'],bins=[0,5,10,22,38,68,90]).values\n",
    "\n",
    "rank = 1\n",
    "for age_bin in pd.unique(X_all['AgeBin'].sort_values()):\n",
    "    X_all['AgeBin'] = X_all['AgeBin'].replace(to_replace=age_bin, value=rank)\n",
    "    rank+=1"
   ]
  },
  {
   "cell_type": "markdown",
   "metadata": {},
   "source": [
    "### Binning: 'Fare'\n",
    "Higher fares are associated with a greater probability of survival. This relation is quite clear when looking at the relation between log('Fare') and fraction survived, so I'll create bins of 'Fare' in log space."
   ]
  },
  {
   "cell_type": "code",
   "execution_count": 46,
   "metadata": {},
   "outputs": [
    {
     "data": {
      "image/png": "[encoded data removed]",
      "text/plain": [
       "<Figure size 432x288 with 1 Axes>"
      ]
     },
     "metadata": {
      "needs_background": "light"
     },
     "output_type": "display_data"
    }
   ],
   "source": [
    "from sklearn.preprocessing import KBinsDiscretizer\n",
    "\n",
    "n_bins_list = [2,3,4,5,6,7]\n",
    "score_list = []\n",
    "for n_bin in n_bins_list:\n",
    "    X_temp = X_all.loc[X_all['Survived'].notnull(),num_cols].copy()\n",
    "    est = KBinsDiscretizer(n_bins=n_bin, encode='ordinal', strategy='uniform')\n",
    "    X_temp['FareBin'] = est.fit_transform(np.log1p(X_temp[['Fare']])).ravel()\n",
    "    \n",
    "    score_list.append(get_score(X_temp,y))\n",
    "    \n",
    "\n",
    "plt.plot(n_bins_list, score_list)\n",
    "plt.xlabel('n_bins for KBinsDiscretizer')\n",
    "plt.ylabel('Accuracy');"
   ]
  },
  {
   "cell_type": "markdown",
   "metadata": {},
   "source": [
    "The best accuracy is achieved when dividing log('Fare') into 3 bins of uniform widths."
   ]
  },
  {
   "cell_type": "code",
   "execution_count": 47,
   "metadata": {},
   "outputs": [],
   "source": [
    "est = KBinsDiscretizer(n_bins=n_bin, encode='ordinal', strategy='uniform')\n",
    "X_all['FareBin'] = est.fit_transform(np.log1p(X_all[['Fare']])).ravel()"
   ]
  },
  {
   "cell_type": "markdown",
   "metadata": {},
   "source": [
    "## 4.6 Summary of new created features <a id='section_4.6'></a>"
   ]
  },
  {
   "cell_type": "code",
   "execution_count": 48,
   "metadata": {},
   "outputs": [],
   "source": [
    "# New features list\n",
    "new_cols = list(set(X_all.columns)-set(X.columns))\n",
    "\n",
    "\n",
    "# New nominal features - need to be encoded like nominal data\n",
    "catnom_cols_new = [col for col in new_cols if\n",
    "                   X_all[col].dtype == \"object\"]\n",
    "\n",
    "# New numerical features\n",
    "num_cols_new = [col for col in new_cols if \n",
    "                X_all[col].dtype in ['int64', 'float64']]\n"
   ]
  },
  {
   "cell_type": "code",
   "execution_count": 49,
   "metadata": {},
   "outputs": [
    {
     "data": {
      "text/plain": [
       "['Title',\n",
       " 'Deck',\n",
       " 'NCabin',\n",
       " 'TicketPrefix',\n",
       " 'FareBin',\n",
       " 'NCompanions',\n",
       " 'CabinBool',\n",
       " 'CompanionsBool',\n",
       " 'AgeBin',\n",
       " 'TicketPrefixBool']"
      ]
     },
     "execution_count": 49,
     "metadata": {},
     "output_type": "execute_result"
    }
   ],
   "source": [
    "new_cols"
   ]
  },
  {
   "cell_type": "code",
   "execution_count": 50,
   "metadata": {},
   "outputs": [
    {
     "data": {
      "text/plain": [
       "['NCabin',\n",
       " 'FareBin',\n",
       " 'NCompanions',\n",
       " 'CabinBool',\n",
       " 'CompanionsBool',\n",
       " 'AgeBin',\n",
       " 'TicketPrefixBool']"
      ]
     },
     "execution_count": 50,
     "metadata": {},
     "output_type": "execute_result"
    }
   ],
   "source": [
    "num_cols_new"
   ]
  },
  {
   "cell_type": "code",
   "execution_count": 51,
   "metadata": {},
   "outputs": [
    {
     "name": "stdout",
     "output_type": "stream",
     "text": [
      "Check train and test index labels match originals: {True} {True}\n"
     ]
    }
   ],
   "source": [
    "# Separate train and test data\n",
    "X_new = X_all[:X.shape[0]].drop('Survived', axis=1)\n",
    "X_test_new = X_all[X.shape[0]:].drop('Survived', axis=1)\n",
    "print('Check train and test index labels match originals:', set(X_new.index==X.index), set(X_test_new.index==X_test.index))"
   ]
  },
  {
   "cell_type": "code",
   "execution_count": null,
   "metadata": {},
   "outputs": [],
   "source": []
  },
  {
   "cell_type": "code",
   "execution_count": null,
   "metadata": {},
   "outputs": [],
   "source": []
  },
  {
   "cell_type": "markdown",
   "metadata": {},
   "source": [
    "# 5. Data pre-processing <a id='section_5'></a>\n",
    " \n",
    "[5.1 Skewed features and log transforms](#section_5.1)   \n",
    "[5.2 sklearn Pipeline for pre-processing](#section_5.2)  \n",
    "[5.3 Final prepping of the data before modeling](#section_5.3)  "
   ]
  },
  {
   "cell_type": "markdown",
   "metadata": {},
   "source": [
    "## 5.1 Skewed features and log transforms <a id='section_5.1'></a>\n",
    "Determine the skew of numeric features and assess if performing a log(1+x) transform is effective at reducing skew."
   ]
  },
  {
   "cell_type": "code",
   "execution_count": 52,
   "metadata": {},
   "outputs": [
    {
     "data": {
      "text/html": [
       "<div>\n",
       "<style scoped>\n",
       "    .dataframe tbody tr th:only-of-type {\n",
       "        vertical-align: middle;\n",
       "    }\n",
       "\n",
       "    .dataframe tbody tr th {\n",
       "        vertical-align: top;\n",
       "    }\n",
       "\n",
       "    .dataframe thead th {\n",
       "        text-align: right;\n",
       "    }\n",
       "</style>\n",
       "<table border=\"1\" class=\"dataframe\">\n",
       "  <thead>\n",
       "    <tr style=\"text-align: right;\">\n",
       "      <th></th>\n",
       "      <th>features</th>\n",
       "      <th>skewtest_pval</th>\n",
       "      <th>col_skew</th>\n",
       "      <th>log1p_skew</th>\n",
       "      <th>yj_skew</th>\n",
       "      <th>pdiff(col_skew,log1p_skew)</th>\n",
       "      <th>change</th>\n",
       "    </tr>\n",
       "  </thead>\n",
       "  <tbody>\n",
       "    <tr>\n",
       "      <th>4</th>\n",
       "      <td>Fare</td>\n",
       "      <td>9.927930e-185</td>\n",
       "      <td>4.369510</td>\n",
       "      <td>0.542617</td>\n",
       "      <td>-0.056882</td>\n",
       "      <td>8.758174e-01</td>\n",
       "      <td>1</td>\n",
       "    </tr>\n",
       "    <tr>\n",
       "      <th>2</th>\n",
       "      <td>SibSp</td>\n",
       "      <td>6.953736e-166</td>\n",
       "      <td>3.844220</td>\n",
       "      <td>1.636821</td>\n",
       "      <td>0.795656</td>\n",
       "      <td>5.742125e-01</td>\n",
       "      <td>0</td>\n",
       "    </tr>\n",
       "    <tr>\n",
       "      <th>3</th>\n",
       "      <td>Parch</td>\n",
       "      <td>2.663001e-159</td>\n",
       "      <td>3.669078</td>\n",
       "      <td>1.789762</td>\n",
       "      <td>1.255973</td>\n",
       "      <td>5.122039e-01</td>\n",
       "      <td>1</td>\n",
       "    </tr>\n",
       "    <tr>\n",
       "      <th>7</th>\n",
       "      <td>NCompanions</td>\n",
       "      <td>2.293659e-126</td>\n",
       "      <td>2.853078</td>\n",
       "      <td>1.184768</td>\n",
       "      <td>0.536436</td>\n",
       "      <td>5.847406e-01</td>\n",
       "      <td>1</td>\n",
       "    </tr>\n",
       "    <tr>\n",
       "      <th>5</th>\n",
       "      <td>NCabin</td>\n",
       "      <td>7.085303e-121</td>\n",
       "      <td>2.726190</td>\n",
       "      <td>1.713223</td>\n",
       "      <td>1.314939</td>\n",
       "      <td>3.715688e-01</td>\n",
       "      <td>1</td>\n",
       "    </tr>\n",
       "    <tr>\n",
       "      <th>8</th>\n",
       "      <td>CabinBool</td>\n",
       "      <td>1.540364e-52</td>\n",
       "      <td>1.316125</td>\n",
       "      <td>1.316125</td>\n",
       "      <td>1.314616</td>\n",
       "      <td>3.374219e-16</td>\n",
       "      <td>0</td>\n",
       "    </tr>\n",
       "    <tr>\n",
       "      <th>11</th>\n",
       "      <td>TicketPrefixBool</td>\n",
       "      <td>3.466481e-39</td>\n",
       "      <td>1.061224</td>\n",
       "      <td>1.061224</td>\n",
       "      <td>1.060008</td>\n",
       "      <td>2.092343e-16</td>\n",
       "      <td>0</td>\n",
       "    </tr>\n",
       "    <tr>\n",
       "      <th>6</th>\n",
       "      <td>FareBin</td>\n",
       "      <td>4.370474e-30</td>\n",
       "      <td>0.884130</td>\n",
       "      <td>-0.647407</td>\n",
       "      <td>0.069220</td>\n",
       "      <td>2.677464e-01</td>\n",
       "      <td>0</td>\n",
       "    </tr>\n",
       "    <tr>\n",
       "      <th>9</th>\n",
       "      <td>CompanionsBool</td>\n",
       "      <td>1.557160e-09</td>\n",
       "      <td>0.423711</td>\n",
       "      <td>0.423711</td>\n",
       "      <td>0.423226</td>\n",
       "      <td>5.240468e-16</td>\n",
       "      <td>0</td>\n",
       "    </tr>\n",
       "    <tr>\n",
       "      <th>1</th>\n",
       "      <td>Age</td>\n",
       "      <td>7.852941e-07</td>\n",
       "      <td>0.342004</td>\n",
       "      <td>-2.118551</td>\n",
       "      <td>-0.001077</td>\n",
       "      <td>5.194524e+00</td>\n",
       "      <td>0</td>\n",
       "    </tr>\n",
       "    <tr>\n",
       "      <th>0</th>\n",
       "      <td>Pclass</td>\n",
       "      <td>1.669315e-16</td>\n",
       "      <td>-0.598647</td>\n",
       "      <td>-0.741973</td>\n",
       "      <td>-0.418415</td>\n",
       "      <td>2.394169e-01</td>\n",
       "      <td>0</td>\n",
       "    </tr>\n",
       "    <tr>\n",
       "      <th>10</th>\n",
       "      <td>AgeBin</td>\n",
       "      <td>3.103297e-34</td>\n",
       "      <td>-0.965553</td>\n",
       "      <td>-1.893206</td>\n",
       "      <td>-0.100659</td>\n",
       "      <td>9.607472e-01</td>\n",
       "      <td>0</td>\n",
       "    </tr>\n",
       "  </tbody>\n",
       "</table>\n",
       "</div>"
      ],
      "text/plain": [
       "            features  skewtest_pval  col_skew  log1p_skew   yj_skew  \\\n",
       "4               Fare  9.927930e-185  4.369510    0.542617 -0.056882   \n",
       "2              SibSp  6.953736e-166  3.844220    1.636821  0.795656   \n",
       "3              Parch  2.663001e-159  3.669078    1.789762  1.255973   \n",
       "7        NCompanions  2.293659e-126  2.853078    1.184768  0.536436   \n",
       "5             NCabin  7.085303e-121  2.726190    1.713223  1.314939   \n",
       "8          CabinBool   1.540364e-52  1.316125    1.316125  1.314616   \n",
       "11  TicketPrefixBool   3.466481e-39  1.061224    1.061224  1.060008   \n",
       "6            FareBin   4.370474e-30  0.884130   -0.647407  0.069220   \n",
       "9     CompanionsBool   1.557160e-09  0.423711    0.423711  0.423226   \n",
       "1                Age   7.852941e-07  0.342004   -2.118551 -0.001077   \n",
       "0             Pclass   1.669315e-16 -0.598647   -0.741973 -0.418415   \n",
       "10            AgeBin   3.103297e-34 -0.965553   -1.893206 -0.100659   \n",
       "\n",
       "    pdiff(col_skew,log1p_skew) change  \n",
       "4                 8.758174e-01      1  \n",
       "2                 5.742125e-01      0  \n",
       "3                 5.122039e-01      1  \n",
       "7                 5.847406e-01      1  \n",
       "5                 3.715688e-01      1  \n",
       "8                 3.374219e-16      0  \n",
       "11                2.092343e-16      0  \n",
       "6                 2.677464e-01      0  \n",
       "9                 5.240468e-16      0  \n",
       "1                 5.194524e+00      0  \n",
       "0                 2.394169e-01      0  \n",
       "10                9.607472e-01      0  "
      ]
     },
     "execution_count": 52,
     "metadata": {},
     "output_type": "execute_result"
    }
   ],
   "source": [
    "from scipy.stats import skew\n",
    "from scipy.stats import skewtest\n",
    "from scipy.stats import boxcox\n",
    "from scipy.stats import pearsonr\n",
    "from scipy.stats import yeojohnson\n",
    "\n",
    "df = pd.DataFrame(columns=['features', 'skewtest_pval', 'col_skew', 'log1p_skew', 'yj_skew', \n",
    "                           'pdiff(col_skew,log1p_skew)', 'change'])\n",
    "for i, col in enumerate(num_cols+num_cols_new):\n",
    "\n",
    "    transform = 'log_transform' #yj_transform, log_transform\n",
    "    \n",
    "    pval = skewtest(X_all[col])[1]\n",
    "    col_skew = X_all[col].skew()\n",
    "    \n",
    "    lp_skew = np.log1p(X_all[col]).skew() # log(1+x) transform\n",
    "    \n",
    "    \n",
    "    pdiff = np.abs(np.abs(col_skew)-np.abs(lp_skew))/np.abs(col_skew) # percent difference\n",
    "    \n",
    "    yj_skew = skew(yeojohnson(X_all[col])[0]) # yeo-johnson transform\n",
    "    pdiff2 =np.abs(np.abs(col_skew)-np.abs(yj_skew))/np.abs(col_skew)\n",
    "    \n",
    "    r2before = np.round(X_all[col].corr(y),decimals=2)\n",
    "    \n",
    "    # is a transform of the column effective at reducing skew?\n",
    "    change=0\n",
    "    if transform == 'log_transform':\n",
    "        r2after = np.round(np.log1p(X_all[col]).corr(y), decimals=2)\n",
    "        if (pval<0.05) and (pdiff>0.1) and (np.abs(lp_skew)<np.abs(col_skew)) \\\n",
    "            and (np.abs(r2after)>=np.abs(r2before)): # for log(1+x) transform\n",
    "            change=1\n",
    "        \n",
    "    if transform == 'yj_transform':\n",
    "        if (pval<0.05) and (pdiff2>0.1) and (np.abs(yj_skew)<np.abs(col_skew)): # yeo-johnson transform\n",
    "            change=1\n",
    "               \n",
    "    df.loc[i]=[col, pval, col_skew, lp_skew, yj_skew, pdiff, change]\n",
    "\n",
    "df = df.sort_values(by='col_skew', ascending=False)\n",
    "\n",
    "skewed_cols = list(set(df[df['change']==1]['features']))\n",
    "\n",
    "df"
   ]
  },
  {
   "cell_type": "code",
   "execution_count": 53,
   "metadata": {},
   "outputs": [
    {
     "name": "stdout",
     "output_type": "stream",
     "text": [
      "Features that benefit from a log transform: \n",
      " ['Fare', 'NCompanions', 'NCabin', 'Parch']\n"
     ]
    }
   ],
   "source": [
    "print('Features that benefit from a log transform: \\n',skewed_cols)"
   ]
  },
  {
   "cell_type": "markdown",
   "metadata": {},
   "source": [
    "## 5.2 sklearn Pipeline for pre-processing <a id='section_5.2'></a>\n",
    "\n",
    "This pipeline setup will take care of imputation, scaling, and encoding of features within the cross-validation of a model."
   ]
  },
  {
   "cell_type": "code",
   "execution_count": 54,
   "metadata": {},
   "outputs": [],
   "source": [
    "from sklearn.compose import ColumnTransformer\n",
    "from sklearn.impute import SimpleImputer\n",
    "from sklearn.preprocessing import OneHotEncoder\n",
    "from sklearn.impute import KNNImputer\n",
    "from sklearn.pipeline import Pipeline\n",
    "from sklearn.preprocessing import PowerTransformer\n",
    "from sklearn.preprocessing import StandardScaler\n",
    "from sklearn.preprocessing import RobustScaler\n",
    "\n",
    "# Preprocessing for numerical data\n",
    "numerical_transformer = Pipeline(steps=[\n",
    "    ('scaler', RobustScaler())\n",
    "])  \n",
    "\n",
    "\n",
    "# Preproessing for categorical-nominal dta\n",
    "nominal_transformer = Pipeline(steps=[\n",
    "    ('onehot', OneHotEncoder(handle_unknown='ignore'))\n",
    "])  \n",
    "\n",
    "\n",
    "# Preprocessing for numerical and categorical data\n",
    "preprocessor = ColumnTransformer(\n",
    "    transformers=[\n",
    "        ('num', numerical_transformer, num_cols),\n",
    "        ('catnom', nominal_transformer, catnom_cols)\n",
    "    ])"
   ]
  },
  {
   "cell_type": "markdown",
   "metadata": {},
   "source": [
    "## 5.3 Final prepping of the data before modeling <a id='section_5.3'></a>"
   ]
  },
  {
   "cell_type": "code",
   "execution_count": 55,
   "metadata": {},
   "outputs": [],
   "source": [
    "X_clean = X_new.copy()\n",
    "y_clean = y.copy()\n",
    "X_test_clean = X_test_new.copy()\n",
    "\n",
    "# Transforming skewed columns \n",
    "for col in skewed_cols:\n",
    "    X_clean[col] = np.log1p(X_clean[col]) \n",
    "    X_test_clean[col] = np.log1p(X_test_clean[col]) \n",
    "    \n",
    "# Removing columns for any reason\n",
    "cols_remove = []\n",
    "X_clean = X_clean.drop(cols_remove, axis=1)\n",
    "X_test_clean = X_test_clean.drop(cols_remove, axis=1)\n",
    "\n",
    "# Revising list of features to take into account the addition of new features\n",
    "num_cols_final = [x for x in list(set(list(num_cols)+list(num_cols_new))-set(cols_remove)) if x in X_clean.columns]\n",
    "catnom_cols_final = [x for x in list(set(list(catnom_cols)+list(catnom_cols_new))-set(cols_remove)) if x in X_clean.columns]"
   ]
  },
  {
   "cell_type": "code",
   "execution_count": null,
   "metadata": {},
   "outputs": [],
   "source": []
  },
  {
   "cell_type": "code",
   "execution_count": null,
   "metadata": {},
   "outputs": [],
   "source": []
  },
  {
   "cell_type": "markdown",
   "metadata": {},
   "source": [
    "# 6. Modeling <a id='section_6'></a>\n",
    "\n",
    "[6.1 RidgeClassifier](#section_6.1)  \n",
    "[6.2 KNeighborsClassifier](#section_6.2)  \n",
    "[6.3 RandomForestClassifier](#section_6.3)  \n",
    "[6.4 XGBClassifier](#section_6.4)  \n",
    "[6.5 SVC](#section_6.5)  \n",
    "\n",
    "Model hyperparameters have been tuned using RandomizedSearchCV to produce the highest mean cross-validated accuracy score."
   ]
  },
  {
   "cell_type": "code",
   "execution_count": 56,
   "metadata": {},
   "outputs": [],
   "source": [
    "# Table to compare the results of fitting different models\n",
    "models_fit_df=pd.DataFrame(columns=['model','model_clf','mean(CV)', 'stdev(CV)', 'accuracy'])"
   ]
  },
  {
   "cell_type": "markdown",
   "metadata": {},
   "source": [
    "## 6.1 RidgeClassifier <a id='section_6.1'></a>"
   ]
  },
  {
   "cell_type": "code",
   "execution_count": 57,
   "metadata": {},
   "outputs": [
    {
     "name": "stdout",
     "output_type": "stream",
     "text": [
      "Ridge Cross-validation scores: [0.8603352  0.85393258 0.81460674 0.78089888 0.80337079]\n",
      "\n",
      "Ridge Mean CV score: 0.82263 +/- 0.0303\n"
     ]
    }
   ],
   "source": [
    "from sklearn.linear_model import RidgeClassifierCV\n",
    "from sklearn.linear_model import RidgeClassifier\n",
    "from sklearn.model_selection import cross_val_score\n",
    "from sklearn.model_selection import KFold\n",
    "from sklearn.model_selection import StratifiedKFold\n",
    "from sklearn.metrics import accuracy_score\n",
    "\n",
    "\n",
    "# Define model\n",
    "#model = RidgeClassifierCV(alphas=np.arange(10,15,0.01))\n",
    "model = RidgeClassifier(alpha=14.26)\n",
    "\n",
    "# Preprocessing for numerical and categorical data\n",
    "preprocessor = ColumnTransformer(\n",
    "    transformers=[\n",
    "        ('num', numerical_transformer, num_cols_final),\n",
    "        ('catnom', nominal_transformer, catnom_cols_final)  \n",
    "    ])\n",
    "\n",
    "# Pipeline for preprocessing and modeling\n",
    "ridge_clf = Pipeline(steps=[('preprocessor', preprocessor),\n",
    "                            ('model', model)\n",
    "                           ])\n",
    "\n",
    "# Apply preprocessing and train model \n",
    "ridge_clf.fit(X_clean, y_clean)\n",
    "\n",
    "# Cross validation scores for model\n",
    "scores = cross_val_score(ridge_clf, \n",
    "                         X_clean, y_clean, \n",
    "                         scoring='accuracy', \n",
    "                         cv=StratifiedKFold(n_splits=5, shuffle=True, random_state=0)) \n",
    "\n",
    "#print('Ridge model: best alpha =', ridge_clf.named_steps['model'].alpha_)\n",
    "print(\"Ridge Cross-validation scores: {}\".format(scores))\n",
    "print()\n",
    "print(\"Ridge Mean CV score: {} +/- {}\".format(np.round(np.mean(scores),5),np.round(np.std(scores),4)))\n",
    "\n",
    "models_fit_df.loc[len(models_fit_df)] = ['Ridge', ridge_clf.named_steps['model'],\n",
    "                                         np.round(np.mean(scores),3), np.round(np.std(scores),3),\n",
    "                                         np.round(accuracy_score(y_clean,ridge_clf.predict(X_clean)),3)]"
   ]
  },
  {
   "cell_type": "code",
   "execution_count": 58,
   "metadata": {},
   "outputs": [
    {
     "name": "stdout",
     "output_type": "stream",
     "text": [
      "Features selected by Ridge: 46 / 46\n",
      "Fraction of features selected by Ridge: 1.0\n"
     ]
    }
   ],
   "source": [
    "# Feature names from the preprocessor pipeline\n",
    "clf_num = ridge_clf.named_steps['preprocessor'].transformers_[0][2]\n",
    "clf_catnom = ridge_clf.named_steps['preprocessor'].transformers_[1][1]['onehot'].get_feature_names(catnom_cols_final) \n",
    "\n",
    "# Creating a dataframe of features sorted by importance\n",
    "ridge_coef = pd.concat([pd.Series(list(clf_num)+list(clf_catnom), name='features'), \n",
    "                        pd.Series(ridge_clf.named_steps['model'].coef_[0], name='coef')], axis=1).sort_values(by='coef')\n",
    "\n",
    "print('Features selected by Ridge:', len(np.where(ridge_coef['coef']!=0)[0]), '/', len(ridge_coef))\n",
    "print('Fraction of features selected by Ridge:', np.round(len(np.where(ridge_coef['coef']!=0)[0])/len(ridge_coef), 2))"
   ]
  },
  {
   "cell_type": "code",
   "execution_count": 59,
   "metadata": {},
   "outputs": [],
   "source": [
    "# Saving Ridge predictions on the test data\n",
    "y_test_ridge = ridge_clf.predict(X_test_clean)\n",
    "output = pd.DataFrame({'PassengerId': X_test_clean.index, \n",
    "                       'Survived': y_test_ridge})\n",
    "output.to_csv('./output/submission_ridge.csv', index=False)"
   ]
  },
  {
   "cell_type": "markdown",
   "metadata": {},
   "source": [
    "## 6.2 KNeighborsClassifier <a id='section_6.2'></a>"
   ]
  },
  {
   "cell_type": "code",
   "execution_count": 60,
   "metadata": {},
   "outputs": [
    {
     "name": "stdout",
     "output_type": "stream",
     "text": [
      "Best n_neighbors: 38\n"
     ]
    },
    {
     "data": {
      "image/png": "[encoded data removed]",
      "text/plain": [
       "<Figure size 432x288 with 1 Axes>"
      ]
     },
     "metadata": {
      "needs_background": "light"
     },
     "output_type": "display_data"
    }
   ],
   "source": [
    "from sklearn.neighbors import KNeighborsClassifier\n",
    "\n",
    "nn_list = [int(x) for x in np.arange(2,50,2)]\n",
    "score_list = []\n",
    "for nn in nn_list:\n",
    "    model = KNeighborsClassifier(n_neighbors=nn)\n",
    "\n",
    "    # Pipeline for preprocessing and modeling\n",
    "    kn_clf = Pipeline(steps=[('preprocessor', preprocessor),\n",
    "                             ('model', model)\n",
    "                            ])\n",
    "\n",
    "    # Apply preprocessing and train model \n",
    "    kn_clf.fit(X_clean, y_clean)\n",
    "\n",
    "    # Cross validation scores for model\n",
    "    scores = cross_val_score(kn_clf, \n",
    "                             X_clean, y_clean, \n",
    "                             scoring='accuracy', \n",
    "                             cv=StratifiedKFold(n_splits=5, shuffle=True, random_state=0)) \n",
    "    score_list.append(np.mean(scores))\n",
    " \n",
    "# Results of parameter tuning\n",
    "max_ind = np.where(score_list==max(score_list))[0][0]\n",
    "print('Best n_neighbors:',np.array(nn_list)[max_ind])\n",
    "\n",
    "plt.plot(nn_list,score_list)\n",
    "plt.xlabel('n_neighbors for KNeighborsClassifier')\n",
    "plt.ylabel('Mean CV score');"
   ]
  },
  {
   "cell_type": "code",
   "execution_count": 61,
   "metadata": {},
   "outputs": [
    {
     "name": "stdout",
     "output_type": "stream",
     "text": [
      "KNeighbors Mean CV score: 0.80694 +/- 0.0347\n"
     ]
    }
   ],
   "source": [
    "from sklearn.neighbors import KNeighborsClassifier\n",
    "\n",
    "\n",
    "model = KNeighborsClassifier(n_neighbors=38)\n",
    "\n",
    "# Preprocessing for numerical and categorical data\n",
    "preprocessor = ColumnTransformer(\n",
    "    transformers=[\n",
    "        ('num', numerical_transformer, num_cols_final),\n",
    "        ('catnom', nominal_transformer, catnom_cols_final)\n",
    "    ])\n",
    "\n",
    "# Pipeline for preprocessing and modeling\n",
    "kn_clf = Pipeline(steps=[('preprocessor', preprocessor),\n",
    "                          ('model', model)\n",
    "                         ])\n",
    "\n",
    "# Apply preprocessing and train model \n",
    "kn_clf.fit(X_clean, y_clean)\n",
    "\n",
    "# Cross validation scores for model\n",
    "scores = cross_val_score(kn_clf, \n",
    "                         X_clean, y_clean, \n",
    "                         scoring='accuracy', \n",
    "                         cv=StratifiedKFold(n_splits=5, shuffle=True, random_state=0)) \n",
    "\n",
    "\n",
    "print(\"KNeighbors Mean CV score: {} +/- {}\".format(np.round(np.mean(scores),5),np.round(np.std(scores),4)))\n",
    "\n",
    "models_fit_df.loc[len(models_fit_df)] = ['KNeighbors', kn_clf.named_steps['model'],\n",
    "                                         np.round(np.mean(scores),3), np.round(np.std(scores),3),\n",
    "                                         np.round(accuracy_score(y_clean,kn_clf.predict(X_clean)),3)]\n"
   ]
  },
  {
   "cell_type": "code",
   "execution_count": 62,
   "metadata": {},
   "outputs": [],
   "source": [
    "# Saving KNeighbors predictions on the test data\n",
    "y_test_kn = kn_clf.predict(X_test_clean)\n",
    "output = pd.DataFrame({'PassengerId': X_test_clean.index, \n",
    "                       'Survived': y_test_kn})\n",
    "output.to_csv('./output/submission_kn.csv', index=False)"
   ]
  },
  {
   "cell_type": "markdown",
   "metadata": {},
   "source": [
    "## 6.3 RandomForestClassifier <a id='section_6.3'></a>"
   ]
  },
  {
   "cell_type": "code",
   "execution_count": 63,
   "metadata": {},
   "outputs": [
    {
     "name": "stdout",
     "output_type": "stream",
     "text": [
      "RandomForest Mean CV score: 0.83051 +/- 0.0329\n"
     ]
    }
   ],
   "source": [
    "from sklearn.ensemble import RandomForestClassifier\n",
    "\n",
    "model = RandomForestClassifier(n_estimators=200,\n",
    "                               max_features=22,\n",
    "                               max_depth=3,\n",
    "                               oob_score=True,\n",
    "                               n_jobs=-1,\n",
    "                               random_state=0)\n",
    "\n",
    "# Preprocessing for numerical and categorical data\n",
    "preprocessor = ColumnTransformer(\n",
    "    transformers=[\n",
    "        ('num', numerical_transformer, num_cols_final),\n",
    "        ('catnom', nominal_transformer, catnom_cols_final)\n",
    "    ])\n",
    "\n",
    "# Pipeline for preprocessing and modeling\n",
    "rf_clf = Pipeline(steps=[('preprocessor', preprocessor),\n",
    "                         ('model', model)\n",
    "                         ])\n",
    "\n",
    "# Apply preprocessing and train model \n",
    "rf_clf.fit(X_clean, y_clean)\n",
    "\n",
    "# Cross validation scores for model\n",
    "scores = cross_val_score(rf_clf, \n",
    "                         X_clean, y_clean, \n",
    "                         scoring='accuracy', \n",
    "                         cv=StratifiedKFold(n_splits=5, shuffle=True, random_state=0)) \n",
    "\n",
    "print(\"RandomForest Mean CV score: {} +/- {}\".format(np.round(np.mean(scores),5),np.round(np.std(scores),4)))\n",
    "\n",
    "models_fit_df.loc[len(models_fit_df)] = ['RandomForestClassifier', rf_clf.named_steps['model'],\n",
    "                                         np.round(np.mean(scores),3), np.round(np.std(scores),3),\n",
    "                                         np.round(accuracy_score(y_clean,rf_clf.predict(X_clean)),3)]"
   ]
  },
  {
   "cell_type": "code",
   "execution_count": 64,
   "metadata": {},
   "outputs": [
    {
     "data": {
      "text/plain": [
       "0.8282828282828283"
      ]
     },
     "execution_count": 64,
     "metadata": {},
     "output_type": "execute_result"
    }
   ],
   "source": [
    "rf_clf.named_steps['model'].oob_score_"
   ]
  },
  {
   "cell_type": "code",
   "execution_count": 65,
   "metadata": {},
   "outputs": [
    {
     "name": "stdout",
     "output_type": "stream",
     "text": [
      "Features selected by RandomForest: 39 / 46\n",
      "Fraction of features selected by RandomForest: 0.85\n",
      "Minimum feature importance: 2.2216509576160075e-05\n"
     ]
    },
    {
     "data": {
      "text/html": [
       "<div>\n",
       "<style scoped>\n",
       "    .dataframe tbody tr th:only-of-type {\n",
       "        vertical-align: middle;\n",
       "    }\n",
       "\n",
       "    .dataframe tbody tr th {\n",
       "        vertical-align: top;\n",
       "    }\n",
       "\n",
       "    .dataframe thead th {\n",
       "        text-align: right;\n",
       "    }\n",
       "</style>\n",
       "<table border=\"1\" class=\"dataframe\">\n",
       "  <thead>\n",
       "    <tr style=\"text-align: right;\">\n",
       "      <th></th>\n",
       "      <th>feature</th>\n",
       "      <th>importance</th>\n",
       "    </tr>\n",
       "  </thead>\n",
       "  <tbody>\n",
       "    <tr>\n",
       "      <th>14</th>\n",
       "      <td>Title_Mr.</td>\n",
       "      <td>0.231429</td>\n",
       "    </tr>\n",
       "    <tr>\n",
       "      <th>44</th>\n",
       "      <td>Sex_female</td>\n",
       "      <td>0.208170</td>\n",
       "    </tr>\n",
       "    <tr>\n",
       "      <th>45</th>\n",
       "      <td>Sex_male</td>\n",
       "      <td>0.197113</td>\n",
       "    </tr>\n",
       "    <tr>\n",
       "      <th>2</th>\n",
       "      <td>Pclass</td>\n",
       "      <td>0.091710</td>\n",
       "    </tr>\n",
       "    <tr>\n",
       "      <th>6</th>\n",
       "      <td>NCompanions</td>\n",
       "      <td>0.050114</td>\n",
       "    </tr>\n",
       "  </tbody>\n",
       "</table>\n",
       "</div>"
      ],
      "text/plain": [
       "        feature  importance\n",
       "14    Title_Mr.    0.231429\n",
       "44   Sex_female    0.208170\n",
       "45     Sex_male    0.197113\n",
       "2        Pclass    0.091710\n",
       "6   NCompanions    0.050114"
      ]
     },
     "execution_count": 65,
     "metadata": {},
     "output_type": "execute_result"
    }
   ],
   "source": [
    "# Feature names from the preprocessor \n",
    "clf_num = rf_clf.named_steps['preprocessor'].transformers_[0][2] \n",
    "clf_catnom = rf_clf.named_steps['preprocessor'].transformers_[1][1]['onehot'].get_feature_names(catnom_cols_final) \n",
    "\n",
    "# Creating dataframe of features sorted by importance\n",
    "rf_fi = pd.concat([pd.Series(list(clf_num)+list(clf_catnom), name='feature'), \n",
    "                    pd.Series(rf_clf.named_steps['model'].feature_importances_, name='importance')], \n",
    "                    axis=1).sort_values(by='importance', ascending=False)\n",
    "\n",
    "print('Features selected by RandomForest:', len(np.where(rf_fi['importance']!=0)[0]), '/', len(rf_fi))\n",
    "print('Fraction of features selected by RandomForest:', np.round(len(np.where(rf_fi['importance']!=0)[0])/len(rf_fi),2))\n",
    "print('Minimum feature importance:',min(rf_fi['importance'][rf_fi['importance']!=0]))\n",
    "rf_fi[:5]"
   ]
  },
  {
   "cell_type": "code",
   "execution_count": 66,
   "metadata": {},
   "outputs": [],
   "source": [
    "# Saving RandomForest predictions on the test data\n",
    "y_test_rf = rf_clf.predict(X_test_clean)\n",
    "output = pd.DataFrame({'PassengerId': X_test_clean.index, \n",
    "                       'Survived': y_test_rf})\n",
    "output.to_csv('./output/submission_rf.csv', index=False)"
   ]
  },
  {
   "cell_type": "markdown",
   "metadata": {},
   "source": [
    "## 6.4 XGBClassifier <a id='section_6.4'></a>"
   ]
  },
  {
   "cell_type": "code",
   "execution_count": 67,
   "metadata": {},
   "outputs": [
    {
     "name": "stdout",
     "output_type": "stream",
     "text": [
      "XGBoost Mean CV score: 0.82827 +/- 0.0263\n"
     ]
    }
   ],
   "source": [
    "from xgboost import XGBClassifier\n",
    "\n",
    "model = XGBClassifier(n_estimators = 400,\n",
    "                      learning_rate = 0.1,\n",
    "                      max_depth = 6,\n",
    "                      min_child_weight = 10,\n",
    "                      subsample = 0.8,\n",
    "                      colsample_bytree = 0.4,\n",
    "                      random_state=0)\n",
    "\n",
    "\n",
    "# Preprocessing for numerical and categorical data\n",
    "preprocessor = ColumnTransformer(\n",
    "    transformers=[\n",
    "        ('num', numerical_transformer, num_cols_final),\n",
    "        ('catnom', nominal_transformer, catnom_cols_final)\n",
    "    ])\n",
    "\n",
    "# Pipeline for preprocessing and modeling\n",
    "xgb_clf = Pipeline(steps=[('preprocessor', preprocessor),\n",
    "                          ('model', model)\n",
    "                         ])\n",
    "\n",
    "# Apply preprocessing and train model \n",
    "xgb_clf.fit(X_clean, y_clean)\n",
    "\n",
    "# Cross validation scores for model\n",
    "scores = cross_val_score(xgb_clf, \n",
    "                         X_clean, y_clean, \n",
    "                         scoring='accuracy', \n",
    "                         cv=StratifiedKFold(n_splits=5, shuffle=True, random_state=0)) \n",
    "\n",
    "print(\"XGBoost Mean CV score: {} +/- {}\".format(np.round(np.mean(scores),5),np.round(np.std(scores),4)))\n",
    "\n",
    "models_fit_df.loc[len(models_fit_df)] = ['XGBClassifier', xgb_clf.named_steps['model'],\n",
    "                                         np.round(np.mean(scores),3), np.round(np.std(scores),3),\n",
    "                                         np.round(accuracy_score(y_clean,xgb_clf.predict(X_clean)),3)]"
   ]
  },
  {
   "cell_type": "code",
   "execution_count": 68,
   "metadata": {},
   "outputs": [
    {
     "name": "stdout",
     "output_type": "stream",
     "text": [
      "Features selected by XGBoost: 22 / 46\n",
      "Fraction of features selected by XGBoost: 0.48\n",
      "Minimum feature importance: 0.011237828060984612\n"
     ]
    },
    {
     "data": {
      "text/html": [
       "<div>\n",
       "<style scoped>\n",
       "    .dataframe tbody tr th:only-of-type {\n",
       "        vertical-align: middle;\n",
       "    }\n",
       "\n",
       "    .dataframe tbody tr th {\n",
       "        vertical-align: top;\n",
       "    }\n",
       "\n",
       "    .dataframe thead th {\n",
       "        text-align: right;\n",
       "    }\n",
       "</style>\n",
       "<table border=\"1\" class=\"dataframe\">\n",
       "  <thead>\n",
       "    <tr style=\"text-align: right;\">\n",
       "      <th></th>\n",
       "      <th>feature</th>\n",
       "      <th>importance</th>\n",
       "    </tr>\n",
       "  </thead>\n",
       "  <tbody>\n",
       "    <tr>\n",
       "      <th>14</th>\n",
       "      <td>Title_Mr.</td>\n",
       "      <td>0.185691</td>\n",
       "    </tr>\n",
       "    <tr>\n",
       "      <th>45</th>\n",
       "      <td>Sex_male</td>\n",
       "      <td>0.125599</td>\n",
       "    </tr>\n",
       "    <tr>\n",
       "      <th>44</th>\n",
       "      <td>Sex_female</td>\n",
       "      <td>0.118612</td>\n",
       "    </tr>\n",
       "    <tr>\n",
       "      <th>42</th>\n",
       "      <td>Embarked_Q</td>\n",
       "      <td>0.081866</td>\n",
       "    </tr>\n",
       "    <tr>\n",
       "      <th>25</th>\n",
       "      <td>Deck_None</td>\n",
       "      <td>0.071592</td>\n",
       "    </tr>\n",
       "  </tbody>\n",
       "</table>\n",
       "</div>"
      ],
      "text/plain": [
       "       feature  importance\n",
       "14   Title_Mr.    0.185691\n",
       "45    Sex_male    0.125599\n",
       "44  Sex_female    0.118612\n",
       "42  Embarked_Q    0.081866\n",
       "25   Deck_None    0.071592"
      ]
     },
     "execution_count": 68,
     "metadata": {},
     "output_type": "execute_result"
    }
   ],
   "source": [
    "# Feature names from the preprocessor \n",
    "clf_num = xgb_clf.named_steps['preprocessor'].transformers_[0][2] \n",
    "clf_catnom = xgb_clf.named_steps['preprocessor'].transformers_[1][1]['onehot'].get_feature_names(catnom_cols_final) \n",
    "\n",
    "# Creating dataframe of features sorted by importance\n",
    "xgb_fi = pd.concat([pd.Series(list(clf_num)+list(clf_catnom), name='feature'), \n",
    "                    pd.Series(xgb_clf.named_steps['model'].feature_importances_, name='importance')], \n",
    "                    axis=1).sort_values(by='importance', ascending=False)\n",
    "\n",
    "print('Features selected by XGBoost:', len(np.where(xgb_fi['importance']!=0)[0]), '/', len(xgb_fi))\n",
    "print('Fraction of features selected by XGBoost:', np.round(len(np.where(xgb_fi['importance']!=0)[0])/len(xgb_fi),2))\n",
    "print('Minimum feature importance:',min(xgb_fi['importance'][xgb_fi['importance']!=0]))\n",
    "xgb_fi[:5]"
   ]
  },
  {
   "cell_type": "code",
   "execution_count": 69,
   "metadata": {},
   "outputs": [],
   "source": [
    "# Saving XGBoost predictions on the test data\n",
    "y_test_xgb = xgb_clf.predict(X_test_clean)\n",
    "output = pd.DataFrame({'PassengerId': X_test_clean.index, \n",
    "                       'Survived': y_test_xgb})\n",
    "output.to_csv('./output/submission_xgb.csv', index=False)"
   ]
  },
  {
   "cell_type": "markdown",
   "metadata": {},
   "source": [
    "## 6.5 SVC <a id='section_6.5'></a>"
   ]
  },
  {
   "cell_type": "code",
   "execution_count": 70,
   "metadata": {},
   "outputs": [
    {
     "name": "stdout",
     "output_type": "stream",
     "text": [
      "SVC Mean CV score: 0.83049 +/- 0.033\n"
     ]
    }
   ],
   "source": [
    "from sklearn.svm import SVC\n",
    "\n",
    "model = SVC(kernel='rbf',\n",
    "            random_state=0)\n",
    "\n",
    "\n",
    "# Preprocessing for numerical and categorical data\n",
    "preprocessor = ColumnTransformer(\n",
    "    transformers=[\n",
    "        ('num', numerical_transformer, num_cols_final),\n",
    "        ('catnom', nominal_transformer, catnom_cols_final)\n",
    "    ])\n",
    "\n",
    "# Pipeline for preprocessing and modeling\n",
    "svc_clf = Pipeline(steps=[('preprocessor', preprocessor),\n",
    "                          ('model', model)\n",
    "                         ])\n",
    "\n",
    "# Apply preprocessing and train model \n",
    "svc_clf.fit(X_clean, y_clean)\n",
    "\n",
    "# Cross validation scores for model\n",
    "scores = cross_val_score(svc_clf, \n",
    "                         X_clean, y_clean, \n",
    "                         scoring='accuracy', \n",
    "                         cv=StratifiedKFold(n_splits=5, shuffle=True, random_state=0)) \n",
    "\n",
    "\n",
    "print(\"SVC Mean CV score: {} +/- {}\".format(np.round(np.mean(scores),5),np.round(np.std(scores),4)))\n",
    "\n",
    "models_fit_df.loc[len(models_fit_df)] = ['SVC', svc_clf.named_steps['model'],\n",
    "                                         np.round(np.mean(scores),3), np.round(np.std(scores),3),\n",
    "                                         np.round(accuracy_score(y_clean,svc_clf.predict(X_clean)),3)]\n"
   ]
  },
  {
   "cell_type": "code",
   "execution_count": 71,
   "metadata": {},
   "outputs": [],
   "source": [
    "# Saving SVC predictions on the test data\n",
    "y_test_svc = svc_clf.predict(X_test_clean)\n",
    "output = pd.DataFrame({'PassengerId': X_test_clean.index, \n",
    "                       'Survived': y_test_svc})\n",
    "output.to_csv('./output/submission_svc.csv', index=False)"
   ]
  },
  {
   "cell_type": "code",
   "execution_count": null,
   "metadata": {},
   "outputs": [],
   "source": []
  },
  {
   "cell_type": "code",
   "execution_count": null,
   "metadata": {},
   "outputs": [],
   "source": []
  },
  {
   "cell_type": "markdown",
   "metadata": {},
   "source": [
    "# 7. Model ensembling and final results <a id='section_7'></a>\n",
    "[7.1 Comparing model fits](#section_7.1)  \n",
    "[7.2 Voting ensemble](#section_7.2)  \n",
    "[7.3 Final predictions from voting ensemble](#section_7.3)  \n",
    "[7.4 Feature importances](#section_7.4)"
   ]
  },
  {
   "cell_type": "markdown",
   "metadata": {},
   "source": [
    "##  7.1 Comparing model fits <a id='section_7.1'></a>"
   ]
  },
  {
   "cell_type": "code",
   "execution_count": 72,
   "metadata": {},
   "outputs": [
    {
     "data": {
      "text/html": [
       "<div>\n",
       "<style scoped>\n",
       "    .dataframe tbody tr th:only-of-type {\n",
       "        vertical-align: middle;\n",
       "    }\n",
       "\n",
       "    .dataframe tbody tr th {\n",
       "        vertical-align: top;\n",
       "    }\n",
       "\n",
       "    .dataframe thead th {\n",
       "        text-align: right;\n",
       "    }\n",
       "</style>\n",
       "<table border=\"1\" class=\"dataframe\">\n",
       "  <thead>\n",
       "    <tr style=\"text-align: right;\">\n",
       "      <th></th>\n",
       "      <th>model</th>\n",
       "      <th>model_clf</th>\n",
       "      <th>mean(CV)</th>\n",
       "      <th>stdev(CV)</th>\n",
       "      <th>accuracy</th>\n",
       "    </tr>\n",
       "  </thead>\n",
       "  <tbody>\n",
       "    <tr>\n",
       "      <th>0</th>\n",
       "      <td>Ridge</td>\n",
       "      <td>RidgeClassifier(alpha=14.26, class_weight=None...</td>\n",
       "      <td>0.823</td>\n",
       "      <td>0.030</td>\n",
       "      <td>0.842</td>\n",
       "    </tr>\n",
       "    <tr>\n",
       "      <th>1</th>\n",
       "      <td>KNeighbors</td>\n",
       "      <td>KNeighborsClassifier(algorithm='auto', leaf_si...</td>\n",
       "      <td>0.807</td>\n",
       "      <td>0.035</td>\n",
       "      <td>0.816</td>\n",
       "    </tr>\n",
       "    <tr>\n",
       "      <th>2</th>\n",
       "      <td>RandomForestClassifier</td>\n",
       "      <td>(DecisionTreeClassifier(ccp_alpha=0.0, class_w...</td>\n",
       "      <td>0.831</td>\n",
       "      <td>0.033</td>\n",
       "      <td>0.836</td>\n",
       "    </tr>\n",
       "    <tr>\n",
       "      <th>3</th>\n",
       "      <td>XGBClassifier</td>\n",
       "      <td>XGBClassifier(base_score=0.5, booster='gbtree'...</td>\n",
       "      <td>0.828</td>\n",
       "      <td>0.026</td>\n",
       "      <td>0.883</td>\n",
       "    </tr>\n",
       "    <tr>\n",
       "      <th>4</th>\n",
       "      <td>SVC</td>\n",
       "      <td>SVC(C=1.0, break_ties=False, cache_size=200, c...</td>\n",
       "      <td>0.830</td>\n",
       "      <td>0.033</td>\n",
       "      <td>0.842</td>\n",
       "    </tr>\n",
       "  </tbody>\n",
       "</table>\n",
       "</div>"
      ],
      "text/plain": [
       "                    model                                          model_clf  \\\n",
       "0                   Ridge  RidgeClassifier(alpha=14.26, class_weight=None...   \n",
       "1              KNeighbors  KNeighborsClassifier(algorithm='auto', leaf_si...   \n",
       "2  RandomForestClassifier  (DecisionTreeClassifier(ccp_alpha=0.0, class_w...   \n",
       "3           XGBClassifier  XGBClassifier(base_score=0.5, booster='gbtree'...   \n",
       "4                     SVC  SVC(C=1.0, break_ties=False, cache_size=200, c...   \n",
       "\n",
       "   mean(CV)  stdev(CV)  accuracy  \n",
       "0     0.823      0.030     0.842  \n",
       "1     0.807      0.035     0.816  \n",
       "2     0.831      0.033     0.836  \n",
       "3     0.828      0.026     0.883  \n",
       "4     0.830      0.033     0.842  "
      ]
     },
     "execution_count": 72,
     "metadata": {},
     "output_type": "execute_result"
    }
   ],
   "source": [
    "models_fit_df"
   ]
  },
  {
   "cell_type": "markdown",
   "metadata": {},
   "source": [
    "All models perform similarly, except for KNeighbors which returns the lowest accuracy score on the training set. Thus, for my final results I'll take the average of the predictions produced by all models except for KNeighbors, i.e. my final averaged results will be from RidgeClassifier, RandomForestClassifier, XGBClassifier, and SVC."
   ]
  },
  {
   "cell_type": "markdown",
   "metadata": {},
   "source": [
    "## 7.2  Voting ensemble  <a id='section_7.2'></a>"
   ]
  },
  {
   "cell_type": "code",
   "execution_count": 73,
   "metadata": {},
   "outputs": [
    {
     "name": "stdout",
     "output_type": "stream",
     "text": [
      "Voting ensemble CV scores: [0.8603352  0.87078652 0.83707865 0.78651685 0.80898876]\n",
      "Voting ensemble Mean CV score: 0.832741196409516\n"
     ]
    }
   ],
   "source": [
    "from sklearn.ensemble import VotingClassifier\n",
    "\n",
    "estimators_list = [('Ridge', ridge_clf),('SVC', svc_clf),\n",
    "                   ('RandomForest', rf_clf),('XGBoost', xgb_clf)]\n",
    "\n",
    "voting_clf = VotingClassifier(estimators=estimators_list,\n",
    "                              voting='hard',\n",
    "                              n_jobs=-1)\n",
    "\n",
    "voting_clf = voting_clf.fit(X_clean, y_clean)\n",
    "\n",
    "scores = cross_val_score(voting_clf, \n",
    "                         X_clean, y_clean, \n",
    "                         scoring='accuracy',\n",
    "                         cv=StratifiedKFold(n_splits=5, shuffle=True, random_state=0))\n",
    "\n",
    "print('Voting ensemble CV scores: {}'.format(scores))\n",
    "print(\"Voting ensemble Mean CV score: {}\".format(np.mean(scores)))\n",
    "\n",
    "models_fit_df.loc[len(models_fit_df)] = ['Voting Ensemble', 'avg(Ridge,RF,SVC,XGB)',\n",
    "                                         np.round(np.mean(scores),3), np.round(np.std(scores),3),\n",
    "                                         np.round(accuracy_score(y_clean,voting_clf.predict(X_clean)),3)]"
   ]
  },
  {
   "cell_type": "code",
   "execution_count": 74,
   "metadata": {},
   "outputs": [],
   "source": [
    "# Saving Ensemble predictions on the test data\n",
    "y_test_voting = voting_clf.predict(X_test_clean)\n",
    "output = pd.DataFrame({'PassengerId': X_test_clean.index, \n",
    "                       'Survived': y_test_voting})\n",
    "output.to_csv('./output/submission_voting.csv', index=False)"
   ]
  },
  {
   "cell_type": "markdown",
   "metadata": {},
   "source": [
    "## 7.3 Final predictions from voting ensemble <a id='section_7.3'></a>"
   ]
  },
  {
   "cell_type": "code",
   "execution_count": 75,
   "metadata": {},
   "outputs": [
    {
     "data": {
      "text/html": [
       "<div>\n",
       "<style scoped>\n",
       "    .dataframe tbody tr th:only-of-type {\n",
       "        vertical-align: middle;\n",
       "    }\n",
       "\n",
       "    .dataframe tbody tr th {\n",
       "        vertical-align: top;\n",
       "    }\n",
       "\n",
       "    .dataframe thead th {\n",
       "        text-align: right;\n",
       "    }\n",
       "</style>\n",
       "<table border=\"1\" class=\"dataframe\">\n",
       "  <thead>\n",
       "    <tr style=\"text-align: right;\">\n",
       "      <th></th>\n",
       "      <th>model</th>\n",
       "      <th>model_clf</th>\n",
       "      <th>mean(CV)</th>\n",
       "      <th>stdev(CV)</th>\n",
       "      <th>accuracy</th>\n",
       "    </tr>\n",
       "  </thead>\n",
       "  <tbody>\n",
       "    <tr>\n",
       "      <th>0</th>\n",
       "      <td>Ridge</td>\n",
       "      <td>RidgeClassifier(alpha=14.26, class_weight=None...</td>\n",
       "      <td>0.823</td>\n",
       "      <td>0.030</td>\n",
       "      <td>0.842</td>\n",
       "    </tr>\n",
       "    <tr>\n",
       "      <th>1</th>\n",
       "      <td>KNeighbors</td>\n",
       "      <td>KNeighborsClassifier(algorithm='auto', leaf_si...</td>\n",
       "      <td>0.807</td>\n",
       "      <td>0.035</td>\n",
       "      <td>0.816</td>\n",
       "    </tr>\n",
       "    <tr>\n",
       "      <th>2</th>\n",
       "      <td>RandomForestClassifier</td>\n",
       "      <td>(DecisionTreeClassifier(ccp_alpha=0.0, class_w...</td>\n",
       "      <td>0.831</td>\n",
       "      <td>0.033</td>\n",
       "      <td>0.836</td>\n",
       "    </tr>\n",
       "    <tr>\n",
       "      <th>3</th>\n",
       "      <td>XGBClassifier</td>\n",
       "      <td>XGBClassifier(base_score=0.5, booster='gbtree'...</td>\n",
       "      <td>0.828</td>\n",
       "      <td>0.026</td>\n",
       "      <td>0.883</td>\n",
       "    </tr>\n",
       "    <tr>\n",
       "      <th>4</th>\n",
       "      <td>SVC</td>\n",
       "      <td>SVC(C=1.0, break_ties=False, cache_size=200, c...</td>\n",
       "      <td>0.830</td>\n",
       "      <td>0.033</td>\n",
       "      <td>0.842</td>\n",
       "    </tr>\n",
       "    <tr>\n",
       "      <th>5</th>\n",
       "      <td>Voting Ensemble</td>\n",
       "      <td>avg(Ridge,RF,SVC,XGB)</td>\n",
       "      <td>0.833</td>\n",
       "      <td>0.031</td>\n",
       "      <td>0.845</td>\n",
       "    </tr>\n",
       "  </tbody>\n",
       "</table>\n",
       "</div>"
      ],
      "text/plain": [
       "                    model                                          model_clf  \\\n",
       "0                   Ridge  RidgeClassifier(alpha=14.26, class_weight=None...   \n",
       "1              KNeighbors  KNeighborsClassifier(algorithm='auto', leaf_si...   \n",
       "2  RandomForestClassifier  (DecisionTreeClassifier(ccp_alpha=0.0, class_w...   \n",
       "3           XGBClassifier  XGBClassifier(base_score=0.5, booster='gbtree'...   \n",
       "4                     SVC  SVC(C=1.0, break_ties=False, cache_size=200, c...   \n",
       "5         Voting Ensemble                              avg(Ridge,RF,SVC,XGB)   \n",
       "\n",
       "   mean(CV)  stdev(CV)  accuracy  \n",
       "0     0.823      0.030     0.842  \n",
       "1     0.807      0.035     0.816  \n",
       "2     0.831      0.033     0.836  \n",
       "3     0.828      0.026     0.883  \n",
       "4     0.830      0.033     0.842  \n",
       "5     0.833      0.031     0.845  "
      ]
     },
     "execution_count": 75,
     "metadata": {},
     "output_type": "execute_result"
    }
   ],
   "source": [
    "models_fit_df"
   ]
  },
  {
   "cell_type": "markdown",
   "metadata": {},
   "source": [
    "On the training set, the voting ensemble model has a mean cross-validation accuracy of 0.83 +/- 0.03. The predictions from this model on the test data set achieved a score of 0.80382 on the Kaggle leaderboard."
   ]
  },
  {
   "cell_type": "code",
   "execution_count": 76,
   "metadata": {},
   "outputs": [
    {
     "data": {
      "image/png": "[encoded data removed]",
      "text/plain": [
       "<Figure size 432x288 with 2 Axes>"
      ]
     },
     "metadata": {
      "needs_background": "light"
     },
     "output_type": "display_data"
    }
   ],
   "source": [
    "from sklearn.metrics import plot_confusion_matrix\n",
    "disp = plot_confusion_matrix(voting_clf, X_clean, y_clean,\n",
    "                             normalize='true',\n",
    "                             cmap=plt.cm.Blues)"
   ]
  },
  {
   "cell_type": "markdown",
   "metadata": {},
   "source": [
    "Investigating the confusion matrix for the training set ensemble predictions, my final model is able to correctly predict 75% of true positives (passengers predicted to survive did survive) and 91% of true negatives (passengers predicted not to survive did not survive). \n",
    "\n",
    "The false negative rate: The probability of predicting passengers not surviving when they did survive occurs for 25% of all true positives.\n",
    "\n",
    "The false positive rate: The probability of predicting passengers would survive when they did not survive occurs for 9.3% of all true negatives."
   ]
  },
  {
   "cell_type": "markdown",
   "metadata": {},
   "source": [
    "## 7.4 Feature importances <a id='section_7.4'></a>"
   ]
  },
  {
   "cell_type": "code",
   "execution_count": 77,
   "metadata": {},
   "outputs": [
    {
     "data": {
      "image/png": "[encoded data removed]",
      "text/plain": [
       "<Figure size 1080x1440 with 3 Axes>"
      ]
     },
     "metadata": {
      "needs_background": "light"
     },
     "output_type": "display_data"
    }
   ],
   "source": [
    "# Plotting feature importances \n",
    "\n",
    "fig = plt.figure(figsize=(15, 20)) # (width,height)\n",
    "\n",
    "\n",
    "'''\n",
    "Ridge coefficients\n",
    "'''\n",
    "ax = plt.subplot(2,3,1)\n",
    "coef_plt = pd.concat([ridge_coef[:5], ridge_coef[-5:]],axis=0)\n",
    "sns.barplot(x=\"coef\", y=\"features\", data=coef_plt, color='b', alpha=0.5)\n",
    "ax.set(ylabel='Ridge: important features')\n",
    "ax.set_title('Ridge');\n",
    "\n",
    "\n",
    "'''\n",
    "RandomForest feature importances\n",
    "'''\n",
    "ax = plt.subplot(2,3,2)\n",
    "rf_fi_plt = rf_fi[:10]\n",
    "sns.barplot(x=\"importance\", y=\"feature\", data=rf_fi_plt, color='b', alpha=0.5)\n",
    "ax.set(ylabel='RandomForest: important features')\n",
    "ax.set_title('RandomForest');\n",
    "\n",
    "\n",
    "'''\n",
    "XGBoost feature importances\n",
    "'''\n",
    "ax = plt.subplot(2,3,3)\n",
    "xgb_fi_plt = xgb_fi[:10]\n",
    "sns.barplot(x=\"importance\", y=\"feature\", data=xgb_fi_plt, color='b', alpha=0.5)\n",
    "ax.set(ylabel='XGBoost: important features')\n",
    "ax.set_title('XGBoost');\n",
    "\n",
    "\n",
    "\n",
    "plt.tight_layout()\n",
    "#plt.subplots_adjust(wspace=0.5)"
   ]
  },
  {
   "cell_type": "markdown",
   "metadata": {},
   "source": [
    "Feature importances are available for the RidgeClassifier, RandomForestClassifier, and XGBClassifier models.\n",
    "\n",
    "Interestingly, a few of the specific ticket prefixes appeared as significant features in the RidgeClassifier model, but were not very important for the tree-based models.\n",
    "\n",
    "The most important features for all three models are: 'Title', 'Sex', and 'Pclass'."
   ]
  },
  {
   "cell_type": "code",
   "execution_count": null,
   "metadata": {},
   "outputs": [],
   "source": []
  },
  {
   "cell_type": "code",
   "execution_count": null,
   "metadata": {},
   "outputs": [],
   "source": []
  },
  {
   "cell_type": "markdown",
   "metadata": {},
   "source": [
    "# Useful References\n",
    "Some resources I found to be especially helpful in preparation of working on this project:\n",
    "\n",
    "- \"Introduction to Machine Learning with Python: A Guide for Data Scientists\" - Andreas C. Müller and Sarah Guido\n",
    "- [Kaggle Tutorials](https://www.kaggle.com/learn/overview)\n",
    "- [\"Predicting the Survival of Titanic Passengers\"](https://towardsdatascience.com/predicting-the-survival-of-titanic-passengers-30870ccc7e8)\n",
    "\n"
   ]
  }
 ],
 "metadata": {
  "kernelspec": {
   "display_name": "Python 3",
   "language": "python",
   "name": "python3"
  },
  "language_info": {
   "codemirror_mode": {
    "name": "ipython",
    "version": 3
   },
   "file_extension": ".py",
   "mimetype": "text/x-python",
   "name": "python",
   "nbconvert_exporter": "python",
   "pygments_lexer": "ipython3",
   "version": "3.7.6"
  }
 },
 "nbformat": 4,
 "nbformat_minor": 2
}
