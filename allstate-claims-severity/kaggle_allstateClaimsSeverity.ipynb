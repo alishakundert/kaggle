{
 "cells": [
  {
   "cell_type": "markdown",
   "metadata": {},
   "source": [
    "# Kaggle: Allstate Claims Severity\n",
    "\n",
    "Kaggle Problem: [Allstate Claims Severity](https://www.kaggle.com/c/allstate-claims-severity/overview)\n",
    "\n",
    "Objective: predict the loss cost associated with insurance claim data\n",
    "\n",
    "Evaluation metric: mean absolute error\n",
    "\n",
    "Modeling methods: \n",
    "- individually fit LightGBM, XGBoost, and Keras regression models\n",
    "- predictions from these regression models were then combined as both a voting ensemble and a stacking ensemble\n",
    "\n",
    "Results:\n",
    "- My best fitting single model was LightGBM with a private leaderboard score of 1135.47485 (top 47%).\n",
    "- An average of the predictions from LightGBM, XGBoost, and Keras models scored 1129.37730 (top 37%).\n",
    "- A stacking ensemble using a Ridge meta-model scored 1128.77685 (top 36%).\n"
   ]
  },
  {
   "cell_type": "markdown",
   "metadata": {},
   "source": [
    "# Organization:\n",
    "\n",
    "1. [The data](#section_1) \n",
    "    1. [Reading in training and test data](#section_1.1)  \n",
    "    + [Numerical and categorical features](#section_1.2) \n",
    "\n",
    "+ [Data cleaning](#section_2)\n",
    "    1. [Missing data](#section_2.1)  \n",
    "    + [Encoding categorical data](#section_2.2)  \n",
    "\n",
    "+ [Exploratory data analysis](#section3) \n",
    "    1. [Distribution of the target variable](#section_3.1)  \n",
    "    + [Multivariate analysis](#section_3.2)\n",
    "        1. [Feature (numerical) - Target Correlation](#section_3.2.1)  \n",
    "        + [Feature (categorical) - Target Correlation](#section_3.2.2)  \n",
    "        \n",
    "+ [Feature engineering](#section4)\n",
    "    1. [Interaction terms](#section_4.1)  \n",
    "    + [Polynomials](#section_4.2)   \n",
    "    + [Summary of new created features](#section_4.3)   \n",
    "    \n",
    "+ [Data pre-processing](#section_5)\n",
    "    1. [Skewed features and log transforms](#section_5.1)  \n",
    "    + [Multicollinearity](#section_5.2)  \n",
    "    + [Final prepping of the data before modeling](#section_5.3)   \n",
    "    \n",
    "+ [Modeling](#section_6)\n",
    "    1. [LGBMRegressor](#section_6.1)   \n",
    "    + [XGBRegressor](#section_6.2)   \n",
    "    + [Keras](#section_6.3)    \n",
    "\n",
    "+ [Model ensembling](#section_7)\n",
    "    1. [Comparing model fits](#section_7.1)   \n",
    "    + [Voting ensemble](#section_7.2)    \n",
    "    + [Stacking ensemble](#section_7.3)  "
   ]
  },
  {
   "cell_type": "code",
   "execution_count": null,
   "metadata": {},
   "outputs": [],
   "source": []
  },
  {
   "cell_type": "code",
   "execution_count": 1,
   "metadata": {},
   "outputs": [],
   "source": [
    "import numpy as np\n",
    "import pandas as pd\n",
    "import matplotlib.pyplot as plt\n",
    "import seaborn as sns\n",
    "%matplotlib inline"
   ]
  },
  {
   "cell_type": "markdown",
   "metadata": {},
   "source": [
    "# 1. The Data <a id='section_1'></a>\n",
    "- [1.1 Reading in training and test data](#section_1.1)  \n",
    "- [1.2 Numerical and categorical features](#section_1.2)   "
   ]
  },
  {
   "cell_type": "markdown",
   "metadata": {},
   "source": [
    "## 1.1 Reading in training and test data <a id='section_1.1'></a>\n"
   ]
  },
  {
   "cell_type": "code",
   "execution_count": 2,
   "metadata": {},
   "outputs": [],
   "source": [
    "# Read in the training and test data sets\n",
    "X = pd.read_csv('./input/train.csv', index_col='id')  # training data\n",
    "X_test = pd.read_csv('./input/test.csv', index_col='id')  # test data\n",
    "\n",
    "# Remove any rows from the training set where there is no target\n",
    "X.dropna(axis=0, subset=['loss'], inplace=True)\n",
    "\n",
    "# Separate out the target in the training set\n",
    "y0 = X['loss'].copy() # target\n",
    "y = np.log1p(y0)\n",
    "\n",
    "X['loss'] = y"
   ]
  },
  {
   "cell_type": "code",
   "execution_count": 3,
   "metadata": {},
   "outputs": [
    {
     "data": {
      "text/html": [
       "<div>\n",
       "<style scoped>\n",
       "    .dataframe tbody tr th:only-of-type {\n",
       "        vertical-align: middle;\n",
       "    }\n",
       "\n",
       "    .dataframe tbody tr th {\n",
       "        vertical-align: top;\n",
       "    }\n",
       "\n",
       "    .dataframe thead th {\n",
       "        text-align: right;\n",
       "    }\n",
       "</style>\n",
       "<table border=\"1\" class=\"dataframe\">\n",
       "  <thead>\n",
       "    <tr style=\"text-align: right;\">\n",
       "      <th></th>\n",
       "      <th>cat1</th>\n",
       "      <th>cat2</th>\n",
       "      <th>cat3</th>\n",
       "      <th>cat4</th>\n",
       "      <th>cat5</th>\n",
       "      <th>cat6</th>\n",
       "      <th>cat7</th>\n",
       "      <th>cat8</th>\n",
       "      <th>cat9</th>\n",
       "      <th>cat10</th>\n",
       "      <th>...</th>\n",
       "      <th>cont6</th>\n",
       "      <th>cont7</th>\n",
       "      <th>cont8</th>\n",
       "      <th>cont9</th>\n",
       "      <th>cont10</th>\n",
       "      <th>cont11</th>\n",
       "      <th>cont12</th>\n",
       "      <th>cont13</th>\n",
       "      <th>cont14</th>\n",
       "      <th>loss</th>\n",
       "    </tr>\n",
       "    <tr>\n",
       "      <th>id</th>\n",
       "      <th></th>\n",
       "      <th></th>\n",
       "      <th></th>\n",
       "      <th></th>\n",
       "      <th></th>\n",
       "      <th></th>\n",
       "      <th></th>\n",
       "      <th></th>\n",
       "      <th></th>\n",
       "      <th></th>\n",
       "      <th></th>\n",
       "      <th></th>\n",
       "      <th></th>\n",
       "      <th></th>\n",
       "      <th></th>\n",
       "      <th></th>\n",
       "      <th></th>\n",
       "      <th></th>\n",
       "      <th></th>\n",
       "      <th></th>\n",
       "      <th></th>\n",
       "    </tr>\n",
       "  </thead>\n",
       "  <tbody>\n",
       "    <tr>\n",
       "      <th>1</th>\n",
       "      <td>A</td>\n",
       "      <td>B</td>\n",
       "      <td>A</td>\n",
       "      <td>B</td>\n",
       "      <td>A</td>\n",
       "      <td>A</td>\n",
       "      <td>A</td>\n",
       "      <td>A</td>\n",
       "      <td>B</td>\n",
       "      <td>A</td>\n",
       "      <td>...</td>\n",
       "      <td>0.718367</td>\n",
       "      <td>0.335060</td>\n",
       "      <td>0.30260</td>\n",
       "      <td>0.67135</td>\n",
       "      <td>0.83510</td>\n",
       "      <td>0.569745</td>\n",
       "      <td>0.594646</td>\n",
       "      <td>0.822493</td>\n",
       "      <td>0.714843</td>\n",
       "      <td>7.702637</td>\n",
       "    </tr>\n",
       "    <tr>\n",
       "      <th>2</th>\n",
       "      <td>A</td>\n",
       "      <td>B</td>\n",
       "      <td>A</td>\n",
       "      <td>A</td>\n",
       "      <td>A</td>\n",
       "      <td>A</td>\n",
       "      <td>A</td>\n",
       "      <td>A</td>\n",
       "      <td>B</td>\n",
       "      <td>B</td>\n",
       "      <td>...</td>\n",
       "      <td>0.438917</td>\n",
       "      <td>0.436585</td>\n",
       "      <td>0.60087</td>\n",
       "      <td>0.35127</td>\n",
       "      <td>0.43919</td>\n",
       "      <td>0.338312</td>\n",
       "      <td>0.366307</td>\n",
       "      <td>0.611431</td>\n",
       "      <td>0.304496</td>\n",
       "      <td>7.158203</td>\n",
       "    </tr>\n",
       "    <tr>\n",
       "      <th>5</th>\n",
       "      <td>A</td>\n",
       "      <td>B</td>\n",
       "      <td>A</td>\n",
       "      <td>A</td>\n",
       "      <td>B</td>\n",
       "      <td>A</td>\n",
       "      <td>A</td>\n",
       "      <td>A</td>\n",
       "      <td>B</td>\n",
       "      <td>B</td>\n",
       "      <td>...</td>\n",
       "      <td>0.289648</td>\n",
       "      <td>0.315545</td>\n",
       "      <td>0.27320</td>\n",
       "      <td>0.26076</td>\n",
       "      <td>0.32446</td>\n",
       "      <td>0.381398</td>\n",
       "      <td>0.373424</td>\n",
       "      <td>0.195709</td>\n",
       "      <td>0.774425</td>\n",
       "      <td>8.008396</td>\n",
       "    </tr>\n",
       "    <tr>\n",
       "      <th>10</th>\n",
       "      <td>B</td>\n",
       "      <td>B</td>\n",
       "      <td>A</td>\n",
       "      <td>B</td>\n",
       "      <td>A</td>\n",
       "      <td>A</td>\n",
       "      <td>A</td>\n",
       "      <td>A</td>\n",
       "      <td>B</td>\n",
       "      <td>A</td>\n",
       "      <td>...</td>\n",
       "      <td>0.440945</td>\n",
       "      <td>0.391128</td>\n",
       "      <td>0.31796</td>\n",
       "      <td>0.32128</td>\n",
       "      <td>0.44467</td>\n",
       "      <td>0.327915</td>\n",
       "      <td>0.321570</td>\n",
       "      <td>0.605077</td>\n",
       "      <td>0.602642</td>\n",
       "      <td>6.846784</td>\n",
       "    </tr>\n",
       "    <tr>\n",
       "      <th>11</th>\n",
       "      <td>A</td>\n",
       "      <td>B</td>\n",
       "      <td>A</td>\n",
       "      <td>B</td>\n",
       "      <td>A</td>\n",
       "      <td>A</td>\n",
       "      <td>A</td>\n",
       "      <td>A</td>\n",
       "      <td>B</td>\n",
       "      <td>B</td>\n",
       "      <td>...</td>\n",
       "      <td>0.178193</td>\n",
       "      <td>0.247408</td>\n",
       "      <td>0.24564</td>\n",
       "      <td>0.22089</td>\n",
       "      <td>0.21230</td>\n",
       "      <td>0.204687</td>\n",
       "      <td>0.202213</td>\n",
       "      <td>0.246011</td>\n",
       "      <td>0.432606</td>\n",
       "      <td>7.924742</td>\n",
       "    </tr>\n",
       "  </tbody>\n",
       "</table>\n",
       "<p>5 rows × 131 columns</p>\n",
       "</div>"
      ],
      "text/plain": [
       "   cat1 cat2 cat3 cat4 cat5 cat6 cat7 cat8 cat9 cat10  ...     cont6  \\\n",
       "id                                                     ...             \n",
       "1     A    B    A    B    A    A    A    A    B     A  ...  0.718367   \n",
       "2     A    B    A    A    A    A    A    A    B     B  ...  0.438917   \n",
       "5     A    B    A    A    B    A    A    A    B     B  ...  0.289648   \n",
       "10    B    B    A    B    A    A    A    A    B     A  ...  0.440945   \n",
       "11    A    B    A    B    A    A    A    A    B     B  ...  0.178193   \n",
       "\n",
       "       cont7    cont8    cont9   cont10    cont11    cont12    cont13  \\\n",
       "id                                                                      \n",
       "1   0.335060  0.30260  0.67135  0.83510  0.569745  0.594646  0.822493   \n",
       "2   0.436585  0.60087  0.35127  0.43919  0.338312  0.366307  0.611431   \n",
       "5   0.315545  0.27320  0.26076  0.32446  0.381398  0.373424  0.195709   \n",
       "10  0.391128  0.31796  0.32128  0.44467  0.327915  0.321570  0.605077   \n",
       "11  0.247408  0.24564  0.22089  0.21230  0.204687  0.202213  0.246011   \n",
       "\n",
       "      cont14      loss  \n",
       "id                      \n",
       "1   0.714843  7.702637  \n",
       "2   0.304496  7.158203  \n",
       "5   0.774425  8.008396  \n",
       "10  0.602642  6.846784  \n",
       "11  0.432606  7.924742  \n",
       "\n",
       "[5 rows x 131 columns]"
      ]
     },
     "execution_count": 3,
     "metadata": {},
     "output_type": "execute_result"
    }
   ],
   "source": [
    "X.head()"
   ]
  },
  {
   "cell_type": "code",
   "execution_count": 4,
   "metadata": {},
   "outputs": [
    {
     "data": {
      "text/plain": [
       "(188318, 131)"
      ]
     },
     "execution_count": 4,
     "metadata": {},
     "output_type": "execute_result"
    }
   ],
   "source": [
    "X.shape"
   ]
  },
  {
   "cell_type": "code",
   "execution_count": 5,
   "metadata": {},
   "outputs": [],
   "source": [
    "# Combining train and test data sets\n",
    "X_all = pd.concat([X, X_test], axis=0, sort=False)"
   ]
  },
  {
   "cell_type": "markdown",
   "metadata": {},
   "source": [
    "## 1.2 Numerical and categorical features <a id='section_1.2'></a>"
   ]
  },
  {
   "cell_type": "code",
   "execution_count": 6,
   "metadata": {},
   "outputs": [
    {
     "data": {
      "text/plain": [
       "cat1       object\n",
       "cat2       object\n",
       "cat3       object\n",
       "cat4       object\n",
       "cat5       object\n",
       "           ...   \n",
       "cont11    float64\n",
       "cont12    float64\n",
       "cont13    float64\n",
       "cont14    float64\n",
       "loss      float64\n",
       "Length: 131, dtype: object"
      ]
     },
     "execution_count": 6,
     "metadata": {},
     "output_type": "execute_result"
    }
   ],
   "source": [
    "X_all.dtypes"
   ]
  },
  {
   "cell_type": "code",
   "execution_count": 7,
   "metadata": {},
   "outputs": [
    {
     "name": "stdout",
     "output_type": "stream",
     "text": [
      "Numerical features:\n",
      " ['cont1', 'cont2', 'cont3', 'cont4', 'cont5', 'cont6', 'cont7', 'cont8', 'cont9', 'cont10', 'cont11', 'cont12', 'cont13', 'cont14']\n",
      "\n",
      "Categorical features:\n",
      " ['cat1', 'cat2', 'cat3', 'cat4', 'cat5', 'cat6', 'cat7', 'cat8', 'cat9', 'cat10', 'cat11', 'cat12', 'cat13', 'cat14', 'cat15', 'cat16', 'cat17', 'cat18', 'cat19', 'cat20', 'cat21', 'cat22', 'cat23', 'cat24', 'cat25', 'cat26', 'cat27', 'cat28', 'cat29', 'cat30', 'cat31', 'cat32', 'cat33', 'cat34', 'cat35', 'cat36', 'cat37', 'cat38', 'cat39', 'cat40', 'cat41', 'cat42', 'cat43', 'cat44', 'cat45', 'cat46', 'cat47', 'cat48', 'cat49', 'cat50', 'cat51', 'cat52', 'cat53', 'cat54', 'cat55', 'cat56', 'cat57', 'cat58', 'cat59', 'cat60', 'cat61', 'cat62', 'cat63', 'cat64', 'cat65', 'cat66', 'cat67', 'cat68', 'cat69', 'cat70', 'cat71', 'cat72', 'cat73', 'cat74', 'cat75', 'cat76', 'cat77', 'cat78', 'cat79', 'cat80', 'cat81', 'cat82', 'cat83', 'cat84', 'cat85', 'cat86', 'cat87', 'cat88', 'cat89', 'cat90', 'cat91', 'cat92', 'cat93', 'cat94', 'cat95', 'cat96', 'cat97', 'cat98', 'cat99', 'cat100', 'cat101', 'cat102', 'cat103', 'cat104', 'cat105', 'cat106', 'cat107', 'cat108', 'cat109', 'cat110', 'cat111', 'cat112', 'cat113', 'cat114', 'cat115', 'cat116']\n"
     ]
    }
   ],
   "source": [
    "# Categorical features\n",
    "cat_cols = list(X.filter(regex='^cat',axis=1).columns)\n",
    "\n",
    "# Numerical features\n",
    "num_cols = list(X.filter(regex='^cont',axis=1).columns)\n",
    "\n",
    "print('Numerical features:\\n', num_cols)\n",
    "print()\n",
    "print('Categorical features:\\n', cat_cols)"
   ]
  },
  {
   "cell_type": "code",
   "execution_count": null,
   "metadata": {},
   "outputs": [],
   "source": []
  },
  {
   "cell_type": "code",
   "execution_count": null,
   "metadata": {},
   "outputs": [],
   "source": []
  },
  {
   "cell_type": "markdown",
   "metadata": {},
   "source": [
    "# 2. Data Cleaning <a id='section_2'></a>\n",
    "\n",
    "[2.1 Missing data](#section_2.1)  \n",
    "[2.2 Encoding categorical data](#section_2.2)   "
   ]
  },
  {
   "cell_type": "markdown",
   "metadata": {},
   "source": [
    "## 2.1 Missing data <a id='section_2.1'></a>"
   ]
  },
  {
   "cell_type": "code",
   "execution_count": 8,
   "metadata": {},
   "outputs": [],
   "source": [
    "# Missing data\n",
    "for col in X.columns:\n",
    "    if X[col].isnull().any():\n",
    "        print(col, sum(X[col].isnull()))"
   ]
  },
  {
   "cell_type": "markdown",
   "metadata": {},
   "source": [
    "No missing data."
   ]
  },
  {
   "cell_type": "markdown",
   "metadata": {},
   "source": [
    "## 2.2 Encoding categorical data <a id='section_2.2'></a>"
   ]
  },
  {
   "cell_type": "code",
   "execution_count": 9,
   "metadata": {},
   "outputs": [],
   "source": [
    "import category_encoders as ce\n",
    "\n",
    "enc = ce.TargetEncoder().fit(X_all[:X.shape[0]].drop('loss', axis=1),y)\n",
    "X_all = enc.transform(X_all.drop('loss',axis=1))"
   ]
  },
  {
   "cell_type": "code",
   "execution_count": null,
   "metadata": {},
   "outputs": [],
   "source": []
  },
  {
   "cell_type": "code",
   "execution_count": null,
   "metadata": {},
   "outputs": [],
   "source": []
  },
  {
   "cell_type": "markdown",
   "metadata": {},
   "source": [
    "# 3. Exploratory data analysis <a id='section_3'></a>\n",
    "\n",
    "[3.1 Distribution of the target variable](#section_3.1)  \n",
    "\n",
    "[3.2 Multivariate analysis](#section_3.2)\n",
    "- [3.2.1 Feature (numerical) - Target Correlation](#section_3.2.1)  \n",
    "- [3.2.2 Feature (categorical) - Target Correlation](#section_3.2.2)  \n"
   ]
  },
  {
   "cell_type": "markdown",
   "metadata": {},
   "source": [
    "## 3.1 Distribution of the target variable  <a id='section_3.1'></a>"
   ]
  },
  {
   "cell_type": "code",
   "execution_count": 10,
   "metadata": {},
   "outputs": [
    {
     "data": {
      "image/png": "[encoded data removed]",
      "text/plain": [
       "<Figure size 1080x360 with 2 Axes>"
      ]
     },
     "metadata": {
      "needs_background": "light"
     },
     "output_type": "display_data"
    }
   ],
   "source": [
    "fig = plt.figure(figsize=(15, 5)) # (width,height)\n",
    "\n",
    "plt.subplot(1,2,1)\n",
    "plt.hist(y0[y0<15000])\n",
    "plt.xlim(0,20000)\n",
    "plt.xlabel('loss')\n",
    "plt.ylabel('Counts')\n",
    "\n",
    "plt.subplot(1,2,2)\n",
    "plt.hist(np.log1p(y0))\n",
    "plt.xlabel('log1p(loss)')\n",
    "plt.ylabel('Counts');"
   ]
  },
  {
   "cell_type": "markdown",
   "metadata": {},
   "source": [
    "A log transform of the target variable makes it more normally distributed. This transform significantly improves model performance."
   ]
  },
  {
   "cell_type": "markdown",
   "metadata": {},
   "source": [
    "## 3.2 Multivariate analysis <a id='section_3.2'></a>\n",
    "Which features are most strongly correlated to the target variable?"
   ]
  },
  {
   "cell_type": "markdown",
   "metadata": {},
   "source": [
    "### 3.2.1 Feature (numerical) - Target Correlation <a id='section_3.2.1'></a>"
   ]
  },
  {
   "cell_type": "code",
   "execution_count": 11,
   "metadata": {},
   "outputs": [
    {
     "name": "stdout",
     "output_type": "stream",
     "text": [
      "cont2     0.104666\n",
      "cont7     0.085095\n",
      "cont3     0.081548\n",
      "cont11    0.072760\n",
      "cont12    0.072266\n",
      "cont8     0.032042\n",
      "cont6     0.031517\n",
      "cont14    0.025948\n",
      "cont9     0.017417\n",
      "cont10    0.010604\n",
      "dtype: float64\n",
      "cont1   -0.007335\n",
      "cont5   -0.014958\n",
      "cont4   -0.027523\n",
      "dtype: float64\n"
     ]
    }
   ],
   "source": [
    "# Numerical features with greatest correlation to target\n",
    "\n",
    "# Calculate pearson correlation between target and numeric features\n",
    "corr = X[num_cols].corrwith(y)\n",
    "print(corr.sort_values(ascending=False)[:10])\n",
    "print(corr.sort_values(ascending=False)[-3:])\n",
    "\n",
    "# List of features most strongly correlated with target\n",
    "corr_top = list(np.abs(corr).sort_values(ascending=False)[:8].keys())"
   ]
  },
  {
   "cell_type": "code",
   "execution_count": 12,
   "metadata": {},
   "outputs": [
    {
     "data": {
      "image/png": "[encoded data removed]",
      "text/plain": [
       "<Figure size 1080x288 with 4 Axes>"
      ]
     },
     "metadata": {
      "needs_background": "light"
     },
     "output_type": "display_data"
    }
   ],
   "source": [
    "# Scatter plots for the features most correlated with the target variable\n",
    "\n",
    "fig = plt.figure(figsize=(15, 4)) # (width,height)\n",
    "for index, col in enumerate(corr_top[:4]):\n",
    "    ax = fig.add_subplot(1, 4, index+1)\n",
    "    plt.scatter(X[col], y, s=2)\n",
    "    c = np.round(X[col].corr(y),decimals=2) # correlation with target for feature\n",
    "    plt.annotate('r = '+str(c), (0.02,0.9), xycoords='axes fraction')\n",
    "    plt.xlabel(col)\n",
    "    plt.ylabel('log(loss)')\n",
    "plt.tight_layout()"
   ]
  },
  {
   "cell_type": "markdown",
   "metadata": {},
   "source": [
    "The numeric features are only weakly correlated with the target variable. The strongest correlation occurs between 'cont2' and the target (r = 0.1)."
   ]
  },
  {
   "cell_type": "markdown",
   "metadata": {},
   "source": [
    "### 3.2.2 Feature (categorical) - Target \"Correlation\" <a id='section_3.2.2'></a>\n",
    "Very useful resource: [An overview of correlation measures between categorical and continuous variables](https://medium.com/@outside2SDs/an-overview-of-correlation-measures-between-categorical-and-continuous-variables-4c7f85610365)"
   ]
  },
  {
   "cell_type": "code",
   "execution_count": 13,
   "metadata": {},
   "outputs": [
    {
     "data": {
      "text/html": [
       "<div>\n",
       "<style scoped>\n",
       "    .dataframe tbody tr th:only-of-type {\n",
       "        vertical-align: middle;\n",
       "    }\n",
       "\n",
       "    .dataframe tbody tr th {\n",
       "        vertical-align: top;\n",
       "    }\n",
       "\n",
       "    .dataframe thead th {\n",
       "        text-align: right;\n",
       "    }\n",
       "</style>\n",
       "<table border=\"1\" class=\"dataframe\">\n",
       "  <thead>\n",
       "    <tr style=\"text-align: right;\">\n",
       "      <th></th>\n",
       "      <th>col</th>\n",
       "      <th>f</th>\n",
       "      <th>p</th>\n",
       "    </tr>\n",
       "  </thead>\n",
       "  <tbody>\n",
       "    <tr>\n",
       "      <th>79</th>\n",
       "      <td>cat80</td>\n",
       "      <td>43584.256807</td>\n",
       "      <td>0.0</td>\n",
       "    </tr>\n",
       "    <tr>\n",
       "      <th>78</th>\n",
       "      <td>cat79</td>\n",
       "      <td>30002.995538</td>\n",
       "      <td>0.0</td>\n",
       "    </tr>\n",
       "    <tr>\n",
       "      <th>100</th>\n",
       "      <td>cat101</td>\n",
       "      <td>27404.608738</td>\n",
       "      <td>0.0</td>\n",
       "    </tr>\n",
       "    <tr>\n",
       "      <th>99</th>\n",
       "      <td>cat100</td>\n",
       "      <td>26549.483536</td>\n",
       "      <td>0.0</td>\n",
       "    </tr>\n",
       "    <tr>\n",
       "      <th>11</th>\n",
       "      <td>cat12</td>\n",
       "      <td>21534.274877</td>\n",
       "      <td>0.0</td>\n",
       "    </tr>\n",
       "  </tbody>\n",
       "</table>\n",
       "</div>"
      ],
      "text/plain": [
       "        col             f    p\n",
       "79    cat80  43584.256807  0.0\n",
       "78    cat79  30002.995538  0.0\n",
       "100  cat101  27404.608738  0.0\n",
       "99   cat100  26549.483536  0.0\n",
       "11    cat12  21534.274877  0.0"
      ]
     },
     "execution_count": 13,
     "metadata": {},
     "output_type": "execute_result"
    }
   ],
   "source": [
    "# Kruskal-Wallis H-test\n",
    "from scipy import stats\n",
    "\n",
    "df_kruskal = pd.DataFrame(columns=['col','f','p'])\n",
    "for index, col in enumerate(cat_cols):\n",
    "    f, p = stats.kruskal(*[y.loc[X[X[col]==x].index] for x in set(X[col])])\n",
    "    df_kruskal = df_kruskal.append({'col': col , 'f': f, 'p': p} , ignore_index=True)\n",
    "df_kruskal = df_kruskal.sort_values(by='f', ascending=False)\n",
    "df_kruskal.head()\n"
   ]
  },
  {
   "cell_type": "code",
   "execution_count": 14,
   "metadata": {},
   "outputs": [
    {
     "data": {
      "image/png": "[encoded data removed]",
      "text/plain": [
       "<Figure size 1080x720 with 6 Axes>"
      ]
     },
     "metadata": {
      "needs_background": "light"
     },
     "output_type": "display_data"
    }
   ],
   "source": [
    "# Boxplots for those features with highest kruskal score\n",
    "\n",
    "fig = plt.figure(figsize=(15, 10)) # (width,height)\n",
    "\n",
    "outlier_marker = dict(markerfacecolor='k', marker='.', markersize=2)\n",
    "\n",
    "for index, col in enumerate(df_kruskal['col'][:6]):\n",
    "    ax = fig.add_subplot(2, 3, index+1)\n",
    "\n",
    "    data = []\n",
    "    x_vals =X[col].unique()\n",
    "    med_list = []\n",
    "    for x in x_vals:\n",
    "        yy = y[X[col]==x].dropna(axis=0).values\n",
    "        data.append(yy)\n",
    "        med_list.append(np.median(yy))\n",
    "        \n",
    "    df_plot = pd.DataFrame({'x_vals': x_vals, 'median': med_list, 'data': data})\n",
    "    df_plot = df_plot.sort_values(by='median')\n",
    "    \n",
    "    plt.boxplot(df_plot['data'], flierprops=outlier_marker)\n",
    "    \n",
    "    locs=ax.get_xticks()\n",
    "    plt.xticks(locs, df_plot['x_vals'])\n",
    "\n",
    "    plt.xlabel(col)\n",
    "    plt.ylabel('log(loss)')\n",
    "plt.tight_layout()"
   ]
  },
  {
   "cell_type": "code",
   "execution_count": null,
   "metadata": {},
   "outputs": [],
   "source": []
  },
  {
   "cell_type": "code",
   "execution_count": null,
   "metadata": {},
   "outputs": [],
   "source": []
  },
  {
   "cell_type": "markdown",
   "metadata": {},
   "source": [
    "# 4. Feature Engineering <a id='section_4'></a>\n",
    "\n",
    "- [4.1 Interaction terms](#section_4.1)  \n",
    "- [4.2 Polynomials](#section_4.2)   \n",
    "- [4.3 Summary of new created features](#section_4.3)   "
   ]
  },
  {
   "cell_type": "markdown",
   "metadata": {},
   "source": [
    "## 4.1 Multiplicative interaction terms <a id='section_4.1'></a>\n",
    "\n",
    "The insurance claim data has been anonymized so that no information is included in the names of the numerical and categorical features. With no sense of what the features are representing, there are no immediate ways to create new features using domain knowledge. However, numerical features that have a high correlation to the target, and categorical features that have a high Kruskal-Wallis H score with the target, are good candidates for being important to predicting the target variable. Thus, here I create new interaction terms by combining some of these potentially important features together.\n",
    "\n",
    "Overall, this seemed to be a good strategy for feature engineering because many of these multiplicative interaction terms were in the top most important features after fitting my regression models.\n"
   ]
  },
  {
   "cell_type": "code",
   "execution_count": 15,
   "metadata": {},
   "outputs": [],
   "source": [
    "# Multiplying together the categorical features with the highest kruskal-wallis score\n",
    "\n",
    "interact_cols = list(df_kruskal['col'][:15].values)\n",
    "for ii,col in enumerate(interact_cols):\n",
    "    if ii==len(interact_cols)-1:\n",
    "        break\n",
    "    for jj in np.arange(ii+1,len(interact_cols),1):\n",
    "        X_all[str(interact_cols[ii])+str(interact_cols[jj])+'_interact'] = \\\n",
    "            X_all[str(interact_cols[ii])]*X_all[str(interact_cols[jj])]"
   ]
  },
  {
   "cell_type": "code",
   "execution_count": 16,
   "metadata": {},
   "outputs": [],
   "source": [
    "# Multiplying together the numerical features most correlated to the target \n",
    "#   with the highest kruskal score categorical features\n",
    "\n",
    "corr = X[num_cols].corrwith(y)\n",
    "corr_top = list(np.abs(corr).sort_values(ascending=False)[:5].keys())\n",
    "for numcol in corr_top:\n",
    "    for catcol in interact_cols:\n",
    "        X_all[numcol+catcol+'_interact'] = X_all[numcol]*X_all[catcol]"
   ]
  },
  {
   "cell_type": "code",
   "execution_count": 17,
   "metadata": {},
   "outputs": [],
   "source": [
    "# Multiplying together the numeric features with the strongest correlations to the target variable\n",
    "\n",
    "corr = X[num_cols].corrwith(y)\n",
    "corr_top = list(np.abs(corr).sort_values(ascending=False)[:5].keys())\n",
    "\n",
    "for ii,col in enumerate(corr_top):\n",
    "    if ii==len(corr_top)-1:\n",
    "        break\n",
    "    for jj in np.arange(ii+1,len(corr_top),1):\n",
    "        X_all[str(corr_top[ii])+str(corr_top[jj])+'_interact'] = \\\n",
    "            X_all[str(corr_top[ii])]*X_all[str(corr_top[jj])]"
   ]
  },
  {
   "cell_type": "markdown",
   "metadata": {},
   "source": [
    "## 4.2 Polynomials <a id='section_4.2'></a>\n",
    "Creating polynomial features for the numeric features with the greatest correlation to the target variable."
   ]
  },
  {
   "cell_type": "code",
   "execution_count": 18,
   "metadata": {},
   "outputs": [
    {
     "name": "stdout",
     "output_type": "stream",
     "text": [
      "Creating polynomial features for: ['cont2', 'cont7', 'cont3']\n"
     ]
    }
   ],
   "source": [
    "# Features with greatest correlation to target\n",
    "\n",
    "# Calculate pearson correlation between target and numerical features\n",
    "corr = X[num_cols].corrwith(y) #old\n",
    "\n",
    "# List of features most strongly correlated with target\n",
    "corr_top = list(np.abs(corr).sort_values(ascending=False)[:3].keys())\n",
    "print('Creating polynomial features for:', corr_top)\n",
    "\n",
    "# Add polynomial features to training and test data sets\n",
    "for feature in corr_top:\n",
    "    X_all[feature+'_2'] = X_all[feature]**2.\n",
    "    X_all[feature+'_3'] = X_all[feature]**3.\n",
    "    X_all[feature+'_sqrt'] = X_all[feature]**0.5"
   ]
  },
  {
   "cell_type": "markdown",
   "metadata": {},
   "source": [
    "## 4.3 Summary of new created features <a id='section_4.3'></a>"
   ]
  },
  {
   "cell_type": "code",
   "execution_count": 19,
   "metadata": {},
   "outputs": [],
   "source": [
    "# New features list\n",
    "new_cols = list(set(X_all.columns)-set(X.columns))\n",
    "\n",
    "\n",
    "# New categorical features\n",
    "cat_cols_new = list(set([col for col in new_cols if X_all[col].dtype == \"object\"])-set(cat_cols))\n",
    "\n",
    "# New numerical features\n",
    "num_cols_new = list(set([col for col in new_cols if X_all[col].dtype in ['int64', 'float64']])-set(num_cols))\n"
   ]
  },
  {
   "cell_type": "code",
   "execution_count": 20,
   "metadata": {},
   "outputs": [
    {
     "name": "stdout",
     "output_type": "stream",
     "text": [
      "Check train and test indicies match originals: {True} {True}\n"
     ]
    }
   ],
   "source": [
    "# Separate train and test data...\n",
    "X_new = X_all[:X.shape[0]]#.drop('loss', axis=1)\n",
    "X_test_new = X_all[X.shape[0]:]#.drop('loss', axis=1)\n",
    "print('Check train and test indicies match originals:', set(X_new.index==X.index), set(X_test_new.index==X_test.index))"
   ]
  },
  {
   "cell_type": "code",
   "execution_count": 21,
   "metadata": {},
   "outputs": [
    {
     "name": "stdout",
     "output_type": "stream",
     "text": [
      "X_new shape: (188318, 329)\n",
      "X_test_new shape: (125546, 329)\n"
     ]
    }
   ],
   "source": [
    "print('X_new shape:', X_new.shape)\n",
    "print('X_test_new shape:', X_test_new.shape)"
   ]
  },
  {
   "cell_type": "code",
   "execution_count": null,
   "metadata": {},
   "outputs": [],
   "source": []
  },
  {
   "cell_type": "code",
   "execution_count": null,
   "metadata": {},
   "outputs": [],
   "source": []
  },
  {
   "cell_type": "markdown",
   "metadata": {},
   "source": [
    "# 5. Data pre-processing <a id='section_5'></a>\n",
    "Final data preparations before modeling:  \n",
    "[5.1 Skewed features and log transforms](#section_5.1)  \n",
    "[5.2 Multicollinearity](#section_5.2)  \n",
    "[5.3 Final prepping of the data before modeling](#section_5.3)  "
   ]
  },
  {
   "cell_type": "markdown",
   "metadata": {},
   "source": [
    "## 5.1 Skewed features and log transforms <a id='section_5.1'></a>"
   ]
  },
  {
   "cell_type": "code",
   "execution_count": 22,
   "metadata": {},
   "outputs": [],
   "source": [
    "# Make sure all categorical features are encoded\n",
    "\n",
    "enc = ce.TargetEncoder().fit(X_new,y)\n",
    "X_enc = enc.transform(X_new)\n",
    "X_test_enc = enc.transform(X_test_new)"
   ]
  },
  {
   "cell_type": "code",
   "execution_count": 23,
   "metadata": {},
   "outputs": [],
   "source": [
    "# Take log transforms of all features for multicollinearity analysis\n",
    "\n",
    "X_enc = np.log1p(X_enc)\n",
    "X_test_enc = np.log1p(X_test_enc)"
   ]
  },
  {
   "cell_type": "markdown",
   "metadata": {},
   "source": [
    "## 5.2 Multicollinearity <a id='section_5.2'></a>\n",
    "Determine which pairs of features are collinear and only keep the feature of the pair that is most correlated with the target variable."
   ]
  },
  {
   "cell_type": "code",
   "execution_count": 24,
   "metadata": {},
   "outputs": [],
   "source": [
    "# Identify features with highest collinearity\n",
    "\n",
    "corr = X_enc.corr()\n",
    "df_corr = pd.DataFrame(columns=['feat1','feat2','corr(feat1,feat2)'])\n",
    "corr_high = corr[(np.abs(corr)<1.)&(np.abs(corr)>0.95)]\n",
    "for col in corr_high.columns: \n",
    "    if corr_high[col].count()>0:\n",
    "        dat = corr_high[col]\n",
    "        for ii in range(0,len(dat[dat.notnull()].keys())):\n",
    "            df_corr = df_corr.append({'feat1': col,\n",
    "                                      'feat2': dat[dat.notnull()].keys()[ii], \n",
    "                                      'corr(feat1,feat2)': dat[dat.notnull()].values[ii]}, \n",
    "                                      ignore_index=True)\n",
    "cols_collinear = df_corr['feat1'].unique()\n",
    "df_corr = df_corr.sort_values(by='corr(feat1,feat2)', ascending=False).drop_duplicates(subset='corr(feat1,feat2)', keep='first')"
   ]
  },
  {
   "cell_type": "code",
   "execution_count": 25,
   "metadata": {},
   "outputs": [],
   "source": [
    "# For correlated pairs of features, keep the feature that is more correlated with the target variable\n",
    "\n",
    "corr_target = X_enc.corrwith(y)[list(cols_collinear)]\n",
    "\n",
    "feat_better = []\n",
    "feat_worse = []\n",
    "feat_better_corr = []\n",
    "feat_worse_corr = []\n",
    "for ii in range(0,len(df_corr)):\n",
    "    feat1 = df_corr.iloc[ii]['feat1']\n",
    "    feat2 = df_corr.iloc[ii]['feat2']\n",
    "    feat1_corr = corr_target[feat1]\n",
    "    feat2_corr = corr_target[feat2]\n",
    "    if np.abs(feat1_corr) > np.abs(feat2_corr):\n",
    "        feat_better.append(feat1)\n",
    "        feat_worse.append(feat2)\n",
    "        feat_better_corr.append(feat1_corr)\n",
    "        feat_worse_corr.append(feat2_corr)\n",
    "    else:\n",
    "        feat_better.append(feat2)\n",
    "        feat_worse.append(feat1)\n",
    "        feat_better_corr.append(feat2_corr)\n",
    "        feat_worse_corr.append(feat1_corr)\n",
    "df_corr['feat_better'] = feat_better \n",
    "df_corr['feat_worse'] = feat_worse\n",
    "df_corr['corr(feat_better,target)'] = feat_better_corr # correlation of better feature to the target\n",
    "df_corr['corr(feat_worse,target)'] = feat_worse_corr # correlation of worse feature to the target"
   ]
  },
  {
   "cell_type": "code",
   "execution_count": 26,
   "metadata": {},
   "outputs": [
    {
     "data": {
      "text/html": [
       "<div>\n",
       "<style scoped>\n",
       "    .dataframe tbody tr th:only-of-type {\n",
       "        vertical-align: middle;\n",
       "    }\n",
       "\n",
       "    .dataframe tbody tr th {\n",
       "        vertical-align: top;\n",
       "    }\n",
       "\n",
       "    .dataframe thead th {\n",
       "        text-align: right;\n",
       "    }\n",
       "</style>\n",
       "<table border=\"1\" class=\"dataframe\">\n",
       "  <thead>\n",
       "    <tr style=\"text-align: right;\">\n",
       "      <th></th>\n",
       "      <th>feat1</th>\n",
       "      <th>feat2</th>\n",
       "      <th>corr(feat1,feat2)</th>\n",
       "      <th>feat_better</th>\n",
       "      <th>feat_worse</th>\n",
       "      <th>corr(feat_better,target)</th>\n",
       "      <th>corr(feat_worse,target)</th>\n",
       "    </tr>\n",
       "  </thead>\n",
       "  <tbody>\n",
       "    <tr>\n",
       "      <th>310</th>\n",
       "      <td>cont2cat2_interact</td>\n",
       "      <td>cont2cat9_interact</td>\n",
       "      <td>0.999810</td>\n",
       "      <td>cont2cat2_interact</td>\n",
       "      <td>cont2cat9_interact</td>\n",
       "      <td>0.131893</td>\n",
       "      <td>0.130355</td>\n",
       "    </tr>\n",
       "    <tr>\n",
       "      <th>805</th>\n",
       "      <td>cont3cat2_interact</td>\n",
       "      <td>cont3cat9_interact</td>\n",
       "      <td>0.999776</td>\n",
       "      <td>cont3cat2_interact</td>\n",
       "      <td>cont3cat9_interact</td>\n",
       "      <td>0.092117</td>\n",
       "      <td>0.090561</td>\n",
       "    </tr>\n",
       "    <tr>\n",
       "      <th>1253</th>\n",
       "      <td>cont11cat9_interact</td>\n",
       "      <td>cont11cat2_interact</td>\n",
       "      <td>0.999763</td>\n",
       "      <td>cont11cat2_interact</td>\n",
       "      <td>cont11cat9_interact</td>\n",
       "      <td>0.082852</td>\n",
       "      <td>0.081201</td>\n",
       "    </tr>\n",
       "    <tr>\n",
       "      <th>1685</th>\n",
       "      <td>cont12cat2_interact</td>\n",
       "      <td>cont12cat9_interact</td>\n",
       "      <td>0.999762</td>\n",
       "      <td>cont12cat2_interact</td>\n",
       "      <td>cont12cat9_interact</td>\n",
       "      <td>0.082137</td>\n",
       "      <td>0.080482</td>\n",
       "    </tr>\n",
       "    <tr>\n",
       "      <th>559</th>\n",
       "      <td>cont7cat2_interact</td>\n",
       "      <td>cont7cat9_interact</td>\n",
       "      <td>0.999618</td>\n",
       "      <td>cont7cat2_interact</td>\n",
       "      <td>cont7cat9_interact</td>\n",
       "      <td>0.097930</td>\n",
       "      <td>0.095871</td>\n",
       "    </tr>\n",
       "    <tr>\n",
       "      <th>...</th>\n",
       "      <td>...</td>\n",
       "      <td>...</td>\n",
       "      <td>...</td>\n",
       "      <td>...</td>\n",
       "      <td>...</td>\n",
       "      <td>...</td>\n",
       "      <td>...</td>\n",
       "    </tr>\n",
       "    <tr>\n",
       "      <th>953</th>\n",
       "      <td>cont11cat79_interact</td>\n",
       "      <td>cont11cont12_interact</td>\n",
       "      <td>0.956777</td>\n",
       "      <td>cont11cat79_interact</td>\n",
       "      <td>cont11cont12_interact</td>\n",
       "      <td>0.105880</td>\n",
       "      <td>0.075953</td>\n",
       "    </tr>\n",
       "    <tr>\n",
       "      <th>1908</th>\n",
       "      <td>cont7_2</td>\n",
       "      <td>cont7cat80_interact</td>\n",
       "      <td>0.956241</td>\n",
       "      <td>cont7cat80_interact</td>\n",
       "      <td>cont7_2</td>\n",
       "      <td>0.145294</td>\n",
       "      <td>0.088666</td>\n",
       "    </tr>\n",
       "    <tr>\n",
       "      <th>1873</th>\n",
       "      <td>cont11cont12_interact</td>\n",
       "      <td>cont12cat80_interact</td>\n",
       "      <td>0.955637</td>\n",
       "      <td>cont12cat80_interact</td>\n",
       "      <td>cont11cont12_interact</td>\n",
       "      <td>0.119934</td>\n",
       "      <td>0.075953</td>\n",
       "    </tr>\n",
       "    <tr>\n",
       "      <th>921</th>\n",
       "      <td>cont11cat80_interact</td>\n",
       "      <td>cont11cont12_interact</td>\n",
       "      <td>0.955053</td>\n",
       "      <td>cont11cat80_interact</td>\n",
       "      <td>cont11cont12_interact</td>\n",
       "      <td>0.120551</td>\n",
       "      <td>0.075953</td>\n",
       "    </tr>\n",
       "    <tr>\n",
       "      <th>7</th>\n",
       "      <td>cat101</td>\n",
       "      <td>cat101cat12_interact</td>\n",
       "      <td>0.953025</td>\n",
       "      <td>cat101</td>\n",
       "      <td>cat101cat12_interact</td>\n",
       "      <td>0.382801</td>\n",
       "      <td>0.381628</td>\n",
       "    </tr>\n",
       "  </tbody>\n",
       "</table>\n",
       "<p>981 rows × 7 columns</p>\n",
       "</div>"
      ],
      "text/plain": [
       "                      feat1                  feat2  corr(feat1,feat2)  \\\n",
       "310      cont2cat2_interact     cont2cat9_interact           0.999810   \n",
       "805      cont3cat2_interact     cont3cat9_interact           0.999776   \n",
       "1253    cont11cat9_interact    cont11cat2_interact           0.999763   \n",
       "1685    cont12cat2_interact    cont12cat9_interact           0.999762   \n",
       "559      cont7cat2_interact     cont7cat9_interact           0.999618   \n",
       "...                     ...                    ...                ...   \n",
       "953    cont11cat79_interact  cont11cont12_interact           0.956777   \n",
       "1908                cont7_2    cont7cat80_interact           0.956241   \n",
       "1873  cont11cont12_interact   cont12cat80_interact           0.955637   \n",
       "921    cont11cat80_interact  cont11cont12_interact           0.955053   \n",
       "7                    cat101   cat101cat12_interact           0.953025   \n",
       "\n",
       "               feat_better             feat_worse  corr(feat_better,target)  \\\n",
       "310     cont2cat2_interact     cont2cat9_interact                  0.131893   \n",
       "805     cont3cat2_interact     cont3cat9_interact                  0.092117   \n",
       "1253   cont11cat2_interact    cont11cat9_interact                  0.082852   \n",
       "1685   cont12cat2_interact    cont12cat9_interact                  0.082137   \n",
       "559     cont7cat2_interact     cont7cat9_interact                  0.097930   \n",
       "...                    ...                    ...                       ...   \n",
       "953   cont11cat79_interact  cont11cont12_interact                  0.105880   \n",
       "1908   cont7cat80_interact                cont7_2                  0.145294   \n",
       "1873  cont12cat80_interact  cont11cont12_interact                  0.119934   \n",
       "921   cont11cat80_interact  cont11cont12_interact                  0.120551   \n",
       "7                   cat101   cat101cat12_interact                  0.382801   \n",
       "\n",
       "      corr(feat_worse,target)  \n",
       "310                  0.130355  \n",
       "805                  0.090561  \n",
       "1253                 0.081201  \n",
       "1685                 0.080482  \n",
       "559                  0.095871  \n",
       "...                       ...  \n",
       "953                  0.075953  \n",
       "1908                 0.088666  \n",
       "1873                 0.075953  \n",
       "921                  0.075953  \n",
       "7                    0.381628  \n",
       "\n",
       "[981 rows x 7 columns]"
      ]
     },
     "execution_count": 26,
     "metadata": {},
     "output_type": "execute_result"
    }
   ],
   "source": [
    "df_corr"
   ]
  },
  {
   "cell_type": "code",
   "execution_count": 27,
   "metadata": {},
   "outputs": [
    {
     "data": {
      "text/plain": [
       "107"
      ]
     },
     "execution_count": 27,
     "metadata": {},
     "output_type": "execute_result"
    }
   ],
   "source": [
    "# List of columns to remove based on collinearity analysis\n",
    "drop_collinear = list(set(cols_collinear)-(set(df_corr['feat_better'])-set(df_corr['feat_worse'])))\n",
    "len(drop_collinear)"
   ]
  },
  {
   "cell_type": "markdown",
   "metadata": {},
   "source": [
    "## 5.3 Final prepping of the data before modeling <a id='section_5.3'></a>"
   ]
  },
  {
   "cell_type": "code",
   "execution_count": 28,
   "metadata": {},
   "outputs": [],
   "source": [
    "import category_encoders as ce\n",
    "from sklearn.preprocessing import RobustScaler\n",
    "from sklearn.preprocessing import StandardScaler\n",
    "\n",
    "\n",
    "X_clean = X_new.copy()\n",
    "y_clean = y.copy()\n",
    "X_test_clean = X_test_new.copy()\n",
    "\n",
    "# Performing encoding\n",
    "enc = ce.TargetEncoder().fit(X_clean[cat_cols],y)\n",
    "X_clean[cat_cols] = enc.transform(X_clean[cat_cols])\n",
    "X_test_clean[cat_cols] = enc.transform(X_test_clean[cat_cols])\n",
    "\n",
    "# Transforming skewed columns \n",
    "X_clean = np.log1p(X_clean) \n",
    "X_test_clean = np.log1p(X_test_clean) \n",
    "    \n",
    "# Removing collinear columns\n",
    "cols_remove = drop_collinear\n",
    "X_clean = X_clean.drop(cols_remove, axis=1)\n",
    "X_test_clean = X_test_clean.drop(cols_remove, axis=1)\n",
    "\n",
    "# Scaling the data\n",
    "scaler = StandardScaler().fit(X_clean)\n",
    "X_clean[X_clean.columns] = scaler.transform(X_clean)\n",
    "X_test_clean[X_test_clean.columns] = scaler.transform(X_test_clean)\n",
    "\n",
    "# Revising list of features to take into account the addition of new features\n",
    "num_cols_final = [x for x in list(set(list(num_cols)+list(num_cols_new))-set(cols_remove)) if x in X_clean.columns]\n",
    "cat_cols_final = [x for x in list(set(list(cat_cols)+list(cat_cols_new))-set(cols_remove)) if x in X_clean.columns]"
   ]
  },
  {
   "cell_type": "code",
   "execution_count": 29,
   "metadata": {},
   "outputs": [
    {
     "name": "stdout",
     "output_type": "stream",
     "text": [
      "X_clean shape: (188318, 222)\n",
      "X_test_clean shape: (125546, 222)\n"
     ]
    }
   ],
   "source": [
    "print('X_clean shape:', X_clean.shape)\n",
    "print('X_test_clean shape:', X_test_clean.shape)"
   ]
  },
  {
   "cell_type": "code",
   "execution_count": null,
   "metadata": {},
   "outputs": [],
   "source": []
  },
  {
   "cell_type": "code",
   "execution_count": null,
   "metadata": {},
   "outputs": [],
   "source": []
  },
  {
   "cell_type": "markdown",
   "metadata": {},
   "source": [
    "# 6. Modeling  <a id='section_6'></a>"
   ]
  },
  {
   "cell_type": "markdown",
   "metadata": {},
   "source": [
    "[6.1 LGBMRegressor](#section_6.1)   \n",
    "[6.2 XGBRegressor](#section_6.2)   \n",
    "[6.3 Keras](#section_6.3)  \n",
    "\n",
    "Model hyperparameters were tuned using RandomizedSearchCV and GridSearchCV."
   ]
  },
  {
   "cell_type": "code",
   "execution_count": 30,
   "metadata": {},
   "outputs": [],
   "source": [
    "from sklearn.model_selection import cross_val_score\n",
    "from sklearn.model_selection import KFold\n",
    "from sklearn.metrics import mean_absolute_error\n",
    "\n",
    "from lightgbm import LGBMRegressor\n",
    "from xgboost import XGBRegressor"
   ]
  },
  {
   "cell_type": "code",
   "execution_count": 31,
   "metadata": {},
   "outputs": [],
   "source": [
    "# Table to compare the results of fitting different models\n",
    "models_fit_df = pd.DataFrame(columns=['model','model_clf','mean(CV)', 'std(CV)'])"
   ]
  },
  {
   "cell_type": "markdown",
   "metadata": {},
   "source": [
    "## 6.1 LGBMRegressor  <a id='section_6.1'></a>"
   ]
  },
  {
   "cell_type": "code",
   "execution_count": 32,
   "metadata": {},
   "outputs": [
    {
     "name": "stdout",
     "output_type": "stream",
     "text": [
      "LGBMRegressor initial selection: 113 / 222\n"
     ]
    }
   ],
   "source": [
    "from sklearn.feature_selection import SelectFromModel\n",
    "\n",
    "# Feature selection using baseline model\n",
    "\n",
    "model = LGBMRegressor(random_state=0)\n",
    "\n",
    "selector = SelectFromModel(estimator=model, threshold='median').fit(X_clean, y_clean)\n",
    "\n",
    "keep_cols = X_clean.columns[selector.get_support(indices=True)]\n",
    "drop_cols = list(set(X_clean.columns)-set(keep_cols))\n",
    "\n",
    "X_selected = X_clean[keep_cols]\n",
    "X_test_selected = X_test_clean[keep_cols]\n",
    "\n",
    "print('LGBMRegressor initial selection:', len(X_selected.columns),'/',len(X_clean.columns))"
   ]
  },
  {
   "cell_type": "code",
   "execution_count": 33,
   "metadata": {},
   "outputs": [
    {
     "name": "stdout",
     "output_type": "stream",
     "text": [
      "LGBMRegressor Mean CV score: 0.41407 +/- 0.0002\n",
      "CPU times: user 1min, sys: 1.61 s, total: 1min 1s\n",
      "Wall time: 1min 43s\n"
     ]
    }
   ],
   "source": [
    "%%time\n",
    "\n",
    "model = LGBMRegressor(n_estimators=1200,\n",
    "                      learning_rate=0.03,\n",
    "                      max_depth=-1,\n",
    "                      subsample=0.2,\n",
    "                      colsample_bytree=0.2,\n",
    "                      random_state=0)\n",
    "\n",
    "\n",
    "# Train model\n",
    "lgb_clf = model.fit(X_selected, y_clean)\n",
    "\n",
    "# Cross validation scores for model\n",
    "scores = cross_val_score(lgb_clf, \n",
    "                         X_selected, y_clean, \n",
    "                         scoring='neg_mean_absolute_error', \n",
    "                         cv=KFold(n_splits=3, shuffle=True, random_state=0),n_jobs=-1) \n",
    "\n",
    "\n",
    "print(\"LGBMRegressor Mean CV score: {} +/- {}\".format(-np.round(np.mean(scores),5),np.round(np.std(scores),4)))\n",
    "\n",
    "models_fit_df.loc[len(models_fit_df)] = ['LGBMRegressor', model,\n",
    "                                         -np.round(np.mean(scores),3), np.round(np.std(-scores),4)]\n"
   ]
  },
  {
   "cell_type": "code",
   "execution_count": 34,
   "metadata": {},
   "outputs": [
    {
     "name": "stdout",
     "output_type": "stream",
     "text": [
      "Features selected by LGBMClassifier: 113 / 113\n",
      "Fraction of features selected by LGBMClassifier: 1.0\n",
      "Minimum feature importance: 0.0010277777777777778\n"
     ]
    },
    {
     "data": {
      "text/html": [
       "<div>\n",
       "<style scoped>\n",
       "    .dataframe tbody tr th:only-of-type {\n",
       "        vertical-align: middle;\n",
       "    }\n",
       "\n",
       "    .dataframe tbody tr th {\n",
       "        vertical-align: top;\n",
       "    }\n",
       "\n",
       "    .dataframe thead th {\n",
       "        text-align: right;\n",
       "    }\n",
       "</style>\n",
       "<table border=\"1\" class=\"dataframe\">\n",
       "  <thead>\n",
       "    <tr style=\"text-align: right;\">\n",
       "      <th></th>\n",
       "      <th>feature</th>\n",
       "      <th>importance</th>\n",
       "    </tr>\n",
       "  </thead>\n",
       "  <tbody>\n",
       "    <tr>\n",
       "      <th>62</th>\n",
       "      <td>cont14</td>\n",
       "      <td>0.042833</td>\n",
       "    </tr>\n",
       "    <tr>\n",
       "      <th>106</th>\n",
       "      <td>cont2cont7_interact</td>\n",
       "      <td>0.027917</td>\n",
       "    </tr>\n",
       "    <tr>\n",
       "      <th>107</th>\n",
       "      <td>cont2cont3_interact</td>\n",
       "      <td>0.020583</td>\n",
       "    </tr>\n",
       "    <tr>\n",
       "      <th>52</th>\n",
       "      <td>cat113</td>\n",
       "      <td>0.020417</td>\n",
       "    </tr>\n",
       "    <tr>\n",
       "      <th>110</th>\n",
       "      <td>cont7cont11_interact</td>\n",
       "      <td>0.020389</td>\n",
       "    </tr>\n",
       "    <tr>\n",
       "      <th>57</th>\n",
       "      <td>cont6</td>\n",
       "      <td>0.020222</td>\n",
       "    </tr>\n",
       "    <tr>\n",
       "      <th>112</th>\n",
       "      <td>cont7_3</td>\n",
       "      <td>0.019833</td>\n",
       "    </tr>\n",
       "    <tr>\n",
       "      <th>109</th>\n",
       "      <td>cont7cont3_interact</td>\n",
       "      <td>0.019778</td>\n",
       "    </tr>\n",
       "    <tr>\n",
       "      <th>108</th>\n",
       "      <td>cont2cont12_interact</td>\n",
       "      <td>0.019611</td>\n",
       "    </tr>\n",
       "    <tr>\n",
       "      <th>51</th>\n",
       "      <td>cat112</td>\n",
       "      <td>0.019389</td>\n",
       "    </tr>\n",
       "    <tr>\n",
       "      <th>61</th>\n",
       "      <td>cont13</td>\n",
       "      <td>0.019194</td>\n",
       "    </tr>\n",
       "    <tr>\n",
       "      <th>58</th>\n",
       "      <td>cont8</td>\n",
       "      <td>0.018750</td>\n",
       "    </tr>\n",
       "    <tr>\n",
       "      <th>59</th>\n",
       "      <td>cont9</td>\n",
       "      <td>0.018556</td>\n",
       "    </tr>\n",
       "    <tr>\n",
       "      <th>53</th>\n",
       "      <td>cat116</td>\n",
       "      <td>0.018444</td>\n",
       "    </tr>\n",
       "    <tr>\n",
       "      <th>103</th>\n",
       "      <td>cont7cat80_interact</td>\n",
       "      <td>0.018417</td>\n",
       "    </tr>\n",
       "  </tbody>\n",
       "</table>\n",
       "</div>"
      ],
      "text/plain": [
       "                  feature  importance\n",
       "62                 cont14    0.042833\n",
       "106   cont2cont7_interact    0.027917\n",
       "107   cont2cont3_interact    0.020583\n",
       "52                 cat113    0.020417\n",
       "110  cont7cont11_interact    0.020389\n",
       "57                  cont6    0.020222\n",
       "112               cont7_3    0.019833\n",
       "109   cont7cont3_interact    0.019778\n",
       "108  cont2cont12_interact    0.019611\n",
       "51                 cat112    0.019389\n",
       "61                 cont13    0.019194\n",
       "58                  cont8    0.018750\n",
       "59                  cont9    0.018556\n",
       "53                 cat116    0.018444\n",
       "103   cont7cat80_interact    0.018417"
      ]
     },
     "execution_count": 34,
     "metadata": {},
     "output_type": "execute_result"
    }
   ],
   "source": [
    "# Feature names from the preprocessor \n",
    "features = X_selected.columns\n",
    "\n",
    "# Need to normalize the importances for LightGBM\n",
    "importances = pd.Series(lgb_clf.feature_importances_, name='importance') \n",
    "\n",
    "# Creating dataframe of features sorted by importance\n",
    "lgb_fi = pd.concat([pd.Series(list(features), name='feature'), \n",
    "                    importances/sum(importances)], \n",
    "                    axis=1).sort_values(by='importance', ascending=False)\n",
    "\n",
    "print('Features selected by LGBMClassifier:', len(np.where(lgb_fi['importance']!=0)[0]), '/', len(lgb_fi))\n",
    "print('Fraction of features selected by LGBMClassifier:', np.round(len(np.where(lgb_fi['importance']!=0)[0])/len(lgb_fi),2))\n",
    "print('Minimum feature importance:',min(lgb_fi['importance'][lgb_fi['importance']!=0]))\n",
    "lgb_fi[:15]"
   ]
  },
  {
   "cell_type": "code",
   "execution_count": 35,
   "metadata": {},
   "outputs": [],
   "source": [
    "# LGBMRegressor predictions on the train data\n",
    "y_pred_lgb = lgb_clf.predict(X_selected)\n",
    "\n",
    "# Saving LGBMRegressor predictions on the test data\n",
    "y_test_lgb = lgb_clf.predict(X_test_selected)\n",
    "output = pd.DataFrame({'id': X_test_selected.index, \n",
    "                       'loss': np.expm1(y_test_lgb)})\n",
    "output.to_csv('./output/submission_lgb_selected.csv', index=False)"
   ]
  },
  {
   "cell_type": "code",
   "execution_count": 36,
   "metadata": {},
   "outputs": [
    {
     "name": "stdout",
     "output_type": "stream",
     "text": [
      "LGBMRegressor training score: 1090.7985679389294\n",
      "LGBMRegressor training MAE: 0.39884117639468813\n"
     ]
    }
   ],
   "source": [
    "print('LGBMRegressor training score:',mean_absolute_error(np.expm1(y_pred_lgb),np.expm1(y_clean)))\n",
    "print('LGBMRegressor training MAE:',np.mean(np.abs(y_pred_lgb-y_clean)))"
   ]
  },
  {
   "cell_type": "code",
   "execution_count": null,
   "metadata": {},
   "outputs": [],
   "source": []
  },
  {
   "cell_type": "markdown",
   "metadata": {},
   "source": [
    "## 6.2 XGBRegressor  <a id='section_6.2'></a>"
   ]
  },
  {
   "cell_type": "code",
   "execution_count": 37,
   "metadata": {},
   "outputs": [
    {
     "name": "stderr",
     "output_type": "stream",
     "text": [
      "/Users/alishakundert/Library/Python/3.7/lib/python/site-packages/xgboost/core.py:587: FutureWarning: Series.base is deprecated and will be removed in a future version\n",
      "  if getattr(data, 'base', None) is not None and \\\n"
     ]
    },
    {
     "name": "stdout",
     "output_type": "stream",
     "text": [
      "XGBRegressor initial selection: 105 / 222\n"
     ]
    }
   ],
   "source": [
    "from sklearn.feature_selection import SelectFromModel\n",
    "\n",
    "# Feature selection using baseline model\n",
    "\n",
    "model = XGBRegressor(objective='reg:squarederror',random_state=0)\n",
    "\n",
    "selector = SelectFromModel(estimator=model,threshold=10**-4.).fit(X_clean, y_clean)\n",
    "\n",
    "keep_cols = X_clean.columns[selector.get_support(indices=True)]\n",
    "drop_cols = list(set(X_clean.columns)-set(keep_cols))\n",
    "\n",
    "X_selected = X_clean[keep_cols]\n",
    "X_test_selected = X_test_clean[keep_cols]\n",
    "\n",
    "print('XGBRegressor initial selection:', len(X_selected.columns),'/',len(X_clean.columns))"
   ]
  },
  {
   "cell_type": "code",
   "execution_count": 38,
   "metadata": {},
   "outputs": [
    {
     "name": "stdout",
     "output_type": "stream",
     "text": [
      "XGBRegressor Mean CV score: 0.41551 +/- 0.0004\n",
      "CPU times: user 6min 43s, sys: 3.12 s, total: 6min 46s\n",
      "Wall time: 14min 32s\n"
     ]
    }
   ],
   "source": [
    "%%time\n",
    "\n",
    "model = XGBRegressor(n_estimators=500,\n",
    "                     learning_rate=0.1,\n",
    "                     max_depth=7,\n",
    "                     min_child_weight=5,\n",
    "                     subsample=1,\n",
    "                     colsample_bytree=0.2,\n",
    "                     reg_lambda=20,\n",
    "                     reg_alpha=2,\n",
    "                     gamma=2,\n",
    "                     objective='reg:squarederror',\n",
    "                     random_state=0)\n",
    "\n",
    "# Train model\n",
    "xgb_clf = model.fit(X_selected, y_clean)\n",
    "\n",
    "# Cross validation scores for model\n",
    "scores = cross_val_score(xgb_clf, \n",
    "                         X_selected, y_clean, \n",
    "                         scoring='neg_mean_absolute_error', \n",
    "                         cv=KFold(n_splits=3, shuffle=True, random_state=0),n_jobs=3) \n",
    "\n",
    "\n",
    "print(\"XGBRegressor Mean CV score: {} +/- {}\".format(-np.round(np.mean(scores),5),np.round(np.std(scores),4)))\n",
    "\n",
    "models_fit_df.loc[len(models_fit_df)] = ['XGBRegressor', model,\n",
    "                                         -np.round(np.mean(scores),3), np.round(np.std(-scores),4)]\n",
    "\n"
   ]
  },
  {
   "cell_type": "code",
   "execution_count": 39,
   "metadata": {},
   "outputs": [
    {
     "name": "stdout",
     "output_type": "stream",
     "text": [
      "Features selected by XGBoost: 105 / 105\n",
      "Fraction of features selected by XGBoost: 1.0\n",
      "Minimum feature importance: 0.0005994295352138579\n"
     ]
    },
    {
     "data": {
      "text/html": [
       "<div>\n",
       "<style scoped>\n",
       "    .dataframe tbody tr th:only-of-type {\n",
       "        vertical-align: middle;\n",
       "    }\n",
       "\n",
       "    .dataframe tbody tr th {\n",
       "        vertical-align: top;\n",
       "    }\n",
       "\n",
       "    .dataframe thead th {\n",
       "        text-align: right;\n",
       "    }\n",
       "</style>\n",
       "<table border=\"1\" class=\"dataframe\">\n",
       "  <thead>\n",
       "    <tr style=\"text-align: right;\">\n",
       "      <th></th>\n",
       "      <th>feature</th>\n",
       "      <th>importance</th>\n",
       "    </tr>\n",
       "  </thead>\n",
       "  <tbody>\n",
       "    <tr>\n",
       "      <th>50</th>\n",
       "      <td>cat80cat12_interact</td>\n",
       "      <td>0.196128</td>\n",
       "    </tr>\n",
       "    <tr>\n",
       "      <th>54</th>\n",
       "      <td>cat80cat72_interact</td>\n",
       "      <td>0.108663</td>\n",
       "    </tr>\n",
       "    <tr>\n",
       "      <th>48</th>\n",
       "      <td>cat80cat101_interact</td>\n",
       "      <td>0.092192</td>\n",
       "    </tr>\n",
       "    <tr>\n",
       "      <th>56</th>\n",
       "      <td>cat79cat12_interact</td>\n",
       "      <td>0.062016</td>\n",
       "    </tr>\n",
       "    <tr>\n",
       "      <th>24</th>\n",
       "      <td>cat80</td>\n",
       "      <td>0.037295</td>\n",
       "    </tr>\n",
       "    <tr>\n",
       "      <th>77</th>\n",
       "      <td>cat12cat72_interact</td>\n",
       "      <td>0.035421</td>\n",
       "    </tr>\n",
       "    <tr>\n",
       "      <th>84</th>\n",
       "      <td>cat87cat13_interact</td>\n",
       "      <td>0.023529</td>\n",
       "    </tr>\n",
       "    <tr>\n",
       "      <th>20</th>\n",
       "      <td>cat57</td>\n",
       "      <td>0.023460</td>\n",
       "    </tr>\n",
       "    <tr>\n",
       "      <th>55</th>\n",
       "      <td>cat79cat101_interact</td>\n",
       "      <td>0.021633</td>\n",
       "    </tr>\n",
       "    <tr>\n",
       "      <th>63</th>\n",
       "      <td>cat101cat81_interact</td>\n",
       "      <td>0.019765</td>\n",
       "    </tr>\n",
       "    <tr>\n",
       "      <th>15</th>\n",
       "      <td>cat44</td>\n",
       "      <td>0.018657</td>\n",
       "    </tr>\n",
       "    <tr>\n",
       "      <th>69</th>\n",
       "      <td>cat100cat81_interact</td>\n",
       "      <td>0.016100</td>\n",
       "    </tr>\n",
       "    <tr>\n",
       "      <th>49</th>\n",
       "      <td>cat80cat100_interact</td>\n",
       "      <td>0.012862</td>\n",
       "    </tr>\n",
       "    <tr>\n",
       "      <th>1</th>\n",
       "      <td>cat4</td>\n",
       "      <td>0.012799</td>\n",
       "    </tr>\n",
       "    <tr>\n",
       "      <th>19</th>\n",
       "      <td>cat53</td>\n",
       "      <td>0.011818</td>\n",
       "    </tr>\n",
       "  </tbody>\n",
       "</table>\n",
       "</div>"
      ],
      "text/plain": [
       "                 feature  importance\n",
       "50   cat80cat12_interact    0.196128\n",
       "54   cat80cat72_interact    0.108663\n",
       "48  cat80cat101_interact    0.092192\n",
       "56   cat79cat12_interact    0.062016\n",
       "24                 cat80    0.037295\n",
       "77   cat12cat72_interact    0.035421\n",
       "84   cat87cat13_interact    0.023529\n",
       "20                 cat57    0.023460\n",
       "55  cat79cat101_interact    0.021633\n",
       "63  cat101cat81_interact    0.019765\n",
       "15                 cat44    0.018657\n",
       "69  cat100cat81_interact    0.016100\n",
       "49  cat80cat100_interact    0.012862\n",
       "1                   cat4    0.012799\n",
       "19                 cat53    0.011818"
      ]
     },
     "execution_count": 39,
     "metadata": {},
     "output_type": "execute_result"
    }
   ],
   "source": [
    "# Feature names from the preprocessor \n",
    "features = X_selected.columns\n",
    "\n",
    "# Creating dataframe of features sorted by importance\n",
    "xgb_fi = pd.concat([pd.Series(features, name='feature'), \n",
    "                    pd.Series(xgb_clf.feature_importances_, name='importance')], \n",
    "                    axis=1).sort_values(by='importance', ascending=False)\n",
    "\n",
    "print('Features selected by XGBoost:', len(np.where(xgb_fi['importance']!=0)[0]), '/', len(xgb_fi))\n",
    "print('Fraction of features selected by XGBoost:', np.round(len(np.where(xgb_fi['importance']!=0)[0])/len(xgb_fi),2))\n",
    "print('Minimum feature importance:',min(xgb_fi['importance'][xgb_fi['importance']!=0]))\n",
    "xgb_fi[:15]"
   ]
  },
  {
   "cell_type": "code",
   "execution_count": 40,
   "metadata": {},
   "outputs": [],
   "source": [
    "# XGBRegressor predictions on the train data\n",
    "y_pred_xgb = xgb_clf.predict(X_selected)\n",
    "\n",
    "# Saving XGBRegressor predictions on the test data\n",
    "y_test_xgb = xgb_clf.predict(X_test_selected)\n",
    "output = pd.DataFrame({'id': X_test_selected.index, \n",
    "                       'loss': np.expm1(y_test_xgb)})\n",
    "output.to_csv('./output/submission_xgb_selected.csv', index=False)"
   ]
  },
  {
   "cell_type": "code",
   "execution_count": 41,
   "metadata": {},
   "outputs": [
    {
     "name": "stdout",
     "output_type": "stream",
     "text": [
      "XGBRegressor training score: 1100.3890443984308\n",
      "XGBRegressor training MAE: 0.4018527056948673\n"
     ]
    }
   ],
   "source": [
    "print('XGBRegressor training score:',mean_absolute_error(np.expm1(y_pred_xgb),np.expm1(y_clean)))\n",
    "print('XGBRegressor training MAE:',np.mean(np.abs(y_pred_xgb-y_clean)))"
   ]
  },
  {
   "cell_type": "code",
   "execution_count": null,
   "metadata": {},
   "outputs": [],
   "source": []
  },
  {
   "cell_type": "markdown",
   "metadata": {},
   "source": [
    "## 6.3 Keras <a id='section_6.3'></a>\n",
    "reference: https://www.tensorflow.org/tutorials/keras/regression"
   ]
  },
  {
   "cell_type": "code",
   "execution_count": 42,
   "metadata": {},
   "outputs": [],
   "source": [
    "import tensorflow as tf\n",
    "from tensorflow import keras\n",
    "from tensorflow.keras import layers\n",
    "\n",
    "import tensorflow_docs as tfdocs\n",
    "import tensorflow_docs.plots\n",
    "import tensorflow_docs.modeling"
   ]
  },
  {
   "cell_type": "code",
   "execution_count": 43,
   "metadata": {},
   "outputs": [],
   "source": [
    "np.random.seed(1)\n",
    "tf.random.set_seed(1)"
   ]
  },
  {
   "cell_type": "code",
   "execution_count": 44,
   "metadata": {},
   "outputs": [
    {
     "name": "stdout",
     "output_type": "stream",
     "text": [
      "Model: \"sequential\"\n",
      "_________________________________________________________________\n",
      "Layer (type)                 Output Shape              Param #   \n",
      "=================================================================\n",
      "dense (Dense)                (None, 150)               33450     \n",
      "_________________________________________________________________\n",
      "batch_normalization (BatchNo (None, 150)               600       \n",
      "_________________________________________________________________\n",
      "dropout (Dropout)            (None, 150)               0         \n",
      "_________________________________________________________________\n",
      "dense_1 (Dense)              (None, 100)               15100     \n",
      "_________________________________________________________________\n",
      "batch_normalization_1 (Batch (None, 100)               400       \n",
      "_________________________________________________________________\n",
      "dropout_1 (Dropout)          (None, 100)               0         \n",
      "_________________________________________________________________\n",
      "dense_2 (Dense)              (None, 50)                5050      \n",
      "_________________________________________________________________\n",
      "batch_normalization_2 (Batch (None, 50)                200       \n",
      "_________________________________________________________________\n",
      "dropout_2 (Dropout)          (None, 50)                0         \n",
      "_________________________________________________________________\n",
      "dense_3 (Dense)              (None, 1)                 51        \n",
      "=================================================================\n",
      "Total params: 54,851\n",
      "Trainable params: 54,251\n",
      "Non-trainable params: 600\n",
      "_________________________________________________________________\n"
     ]
    }
   ],
   "source": [
    "\n",
    "keras_clf = keras.Sequential([\n",
    "    layers.Dense(150, activation='relu', kernel_initializer='he_uniform', input_shape=[len(X_clean.columns)]), # input and hidden layer #1\n",
    "    layers.BatchNormalization(),\n",
    "    layers.Dropout(0.2),\n",
    "    \n",
    "    layers.Dense(100, activation='relu', kernel_initializer='he_uniform'),\n",
    "    layers.BatchNormalization(),\n",
    "    layers.Dropout(0.1),\n",
    "    \n",
    "    layers.Dense(50, activation='relu', kernel_initializer='he_uniform'),\n",
    "    layers.BatchNormalization(),\n",
    "    layers.Dropout(0.1),\n",
    "    \n",
    "    layers.Dense(1)  # output layer\n",
    "])\n",
    "\n",
    "\n",
    "#optimizer = tf.keras.optimizers.RMSprop(0.001)\n",
    "#optimizer = keras.optimizers.SGD(learning_rate=0.01, momentum=0.0, nesterov=False)\n",
    "#optimizer = keras.optimizers.Adadelta(learning_rate=1.0, rho=0.95)\n",
    "optimizer = keras.optimizers.Adam(lr=0.001)\n",
    "\n",
    "keras_clf.compile(loss='mae',\n",
    "                  optimizer=optimizer,\n",
    "                  metrics=['mae', 'mse'])\n",
    "\n",
    "keras_clf.summary()"
   ]
  },
  {
   "cell_type": "code",
   "execution_count": 45,
   "metadata": {},
   "outputs": [
    {
     "name": "stdout",
     "output_type": "stream",
     "text": [
      "Train on 169486 samples, validate on 18832 samples\n",
      "Epoch 1/100\n",
      "169486/169486 [==============================] - 31s 185us/sample - loss: 0.9067 - mae: 0.9067 - mse: 2.5318 - val_loss: 0.4301 - val_mae: 0.4301 - val_mse: 0.3097\n",
      "Epoch 2/100\n",
      "169486/169486 [==============================] - 22s 129us/sample - loss: 0.5305 - mae: 0.5305 - mse: 0.4577 - val_loss: 0.4261 - val_mae: 0.4261 - val_mse: 0.3040\n",
      "Epoch 3/100\n",
      "169486/169486 [==============================] - 21s 124us/sample - loss: 0.5076 - mae: 0.5076 - mse: 0.4181 - val_loss: 0.4213 - val_mae: 0.4213 - val_mse: 0.2984\n",
      "Epoch 4/100\n",
      "169486/169486 [==============================] - 21s 125us/sample - loss: 0.4953 - mae: 0.4953 - mse: 0.4000 - val_loss: 0.4212 - val_mae: 0.4212 - val_mse: 0.2959\n",
      "Epoch 5/100\n",
      "169486/169486 [==============================] - 21s 125us/sample - loss: 0.4889 - mae: 0.4889 - mse: 0.3918 - val_loss: 0.4183 - val_mae: 0.4183 - val_mse: 0.2971\n",
      "Epoch 6/100\n",
      "169486/169486 [==============================] - 21s 124us/sample - loss: 0.4820 - mae: 0.4820 - mse: 0.3811 - val_loss: 0.4213 - val_mae: 0.4213 - val_mse: 0.2992\n",
      "Epoch 7/100\n",
      "169486/169486 [==============================] - 21s 126us/sample - loss: 0.4759 - mae: 0.4759 - mse: 0.3722 - val_loss: 0.4239 - val_mae: 0.4239 - val_mse: 0.3013\n",
      "Epoch 8/100\n",
      "169486/169486 [==============================] - 21s 124us/sample - loss: 0.4722 - mae: 0.4722 - mse: 0.3664 - val_loss: 0.4167 - val_mae: 0.4167 - val_mse: 0.2915\n",
      "Epoch 9/100\n",
      "169486/169486 [==============================] - 22s 127us/sample - loss: 0.4653 - mae: 0.4653 - mse: 0.3569 - val_loss: 0.4233 - val_mae: 0.4233 - val_mse: 0.2990\n",
      "Epoch 10/100\n",
      "169486/169486 [==============================] - 21s 124us/sample - loss: 0.4614 - mae: 0.4614 - mse: 0.3509 - val_loss: 0.4190 - val_mae: 0.4190 - val_mse: 0.2963\n",
      "Epoch 11/100\n",
      "169486/169486 [==============================] - 21s 126us/sample - loss: 0.4569 - mae: 0.4569 - mse: 0.3462 - val_loss: 0.4185 - val_mae: 0.4185 - val_mse: 0.2935\n",
      "Epoch 12/100\n",
      "169486/169486 [==============================] - 21s 126us/sample - loss: 0.4543 - mae: 0.4543 - mse: 0.3414 - val_loss: 0.4167 - val_mae: 0.4167 - val_mse: 0.2909\n",
      "Epoch 13/100\n",
      "169486/169486 [==============================] - 22s 129us/sample - loss: 0.4510 - mae: 0.4510 - mse: 0.3375 - val_loss: 0.4137 - val_mae: 0.4137 - val_mse: 0.2901\n",
      "Epoch 14/100\n",
      "169486/169486 [==============================] - 21s 127us/sample - loss: 0.4485 - mae: 0.4485 - mse: 0.3341 - val_loss: 0.4200 - val_mae: 0.4200 - val_mse: 0.2987\n",
      "Epoch 15/100\n",
      "169486/169486 [==============================] - 21s 125us/sample - loss: 0.4461 - mae: 0.4461 - mse: 0.3309 - val_loss: 0.4171 - val_mae: 0.4171 - val_mse: 0.2899\n",
      "Epoch 16/100\n",
      "169486/169486 [==============================] - 22s 128us/sample - loss: 0.4433 - mae: 0.4433 - mse: 0.3278 - val_loss: 0.4158 - val_mae: 0.4158 - val_mse: 0.2899\n",
      "Epoch 17/100\n",
      "169486/169486 [==============================] - 21s 125us/sample - loss: 0.4414 - mae: 0.4414 - mse: 0.3252 - val_loss: 0.4151 - val_mae: 0.4151 - val_mse: 0.2923\n",
      "Epoch 18/100\n",
      "169486/169486 [==============================] - 21s 126us/sample - loss: 0.4398 - mae: 0.4398 - mse: 0.3227 - val_loss: 0.4168 - val_mae: 0.4168 - val_mse: 0.2899\n",
      "Epoch 19/100\n",
      "169486/169486 [==============================] - 22s 131us/sample - loss: 0.4385 - mae: 0.4385 - mse: 0.3213 - val_loss: 0.4208 - val_mae: 0.4208 - val_mse: 0.3016\n",
      "Epoch 20/100\n",
      "169486/169486 [==============================] - 21s 124us/sample - loss: 0.4370 - mae: 0.4370 - mse: 0.3189 - val_loss: 0.4143 - val_mae: 0.4143 - val_mse: 0.2886\n",
      "Epoch 21/100\n",
      "169486/169486 [==============================] - 22s 130us/sample - loss: 0.4351 - mae: 0.4351 - mse: 0.3166 - val_loss: 0.4153 - val_mae: 0.4153 - val_mse: 0.2904\n",
      "Epoch 22/100\n",
      "169486/169486 [==============================] - 21s 125us/sample - loss: 0.4346 - mae: 0.4346 - mse: 0.3167 - val_loss: 0.4152 - val_mae: 0.4152 - val_mse: 0.2897\n",
      "Epoch 23/100\n",
      "169486/169486 [==============================] - 22s 131us/sample - loss: 0.4336 - mae: 0.4336 - mse: 0.3154 - val_loss: 0.4148 - val_mae: 0.4148 - val_mse: 0.2906\n",
      "Epoch 24/100\n",
      "169486/169486 [==============================] - 21s 126us/sample - loss: 0.4326 - mae: 0.4326 - mse: 0.3143 - val_loss: 0.4170 - val_mae: 0.4170 - val_mse: 0.2943\n",
      "Epoch 25/100\n",
      "169486/169486 [==============================] - 22s 130us/sample - loss: 0.4307 - mae: 0.4307 - mse: 0.3119 - val_loss: 0.4154 - val_mae: 0.4154 - val_mse: 0.2933\n",
      "Epoch 26/100\n",
      "169486/169486 [==============================] - 21s 126us/sample - loss: 0.4304 - mae: 0.4304 - mse: 0.3113 - val_loss: 0.4130 - val_mae: 0.4130 - val_mse: 0.2891\n",
      "Epoch 27/100\n",
      "169486/169486 [==============================] - 21s 126us/sample - loss: 0.4298 - mae: 0.4298 - mse: 0.3106 - val_loss: 0.4150 - val_mae: 0.4150 - val_mse: 0.2922\n",
      "Epoch 28/100\n",
      "169486/169486 [==============================] - 22s 128us/sample - loss: 0.4289 - mae: 0.4289 - mse: 0.3096 - val_loss: 0.4178 - val_mae: 0.4178 - val_mse: 0.2904\n",
      "Epoch 29/100\n",
      "169486/169486 [==============================] - 21s 126us/sample - loss: 0.4288 - mae: 0.4288 - mse: 0.3096 - val_loss: 0.4160 - val_mae: 0.4160 - val_mse: 0.2938\n",
      "Epoch 30/100\n",
      "169486/169486 [==============================] - 21s 126us/sample - loss: 0.4274 - mae: 0.4274 - mse: 0.3078 - val_loss: 0.4133 - val_mae: 0.4133 - val_mse: 0.2885\n",
      "Epoch 31/100\n",
      "169486/169486 [==============================] - 21s 126us/sample - loss: 0.4273 - mae: 0.4273 - mse: 0.3082 - val_loss: 0.4143 - val_mae: 0.4143 - val_mse: 0.2891\n",
      "Epoch 32/100\n",
      "169486/169486 [==============================] - 21s 126us/sample - loss: 0.4264 - mae: 0.4264 - mse: 0.3070 - val_loss: 0.4145 - val_mae: 0.4145 - val_mse: 0.2909\n",
      "Epoch 33/100\n",
      "169486/169486 [==============================] - 21s 126us/sample - loss: 0.4260 - mae: 0.4260 - mse: 0.3061 - val_loss: 0.4159 - val_mae: 0.4159 - val_mse: 0.2897\n",
      "Epoch 34/100\n",
      "169486/169486 [==============================] - 21s 125us/sample - loss: 0.4264 - mae: 0.4264 - mse: 0.3065 - val_loss: 0.4137 - val_mae: 0.4137 - val_mse: 0.2904\n",
      "Epoch 35/100\n",
      "169486/169486 [==============================] - 21s 126us/sample - loss: 0.4263 - mae: 0.4263 - mse: 0.3071 - val_loss: 0.4137 - val_mae: 0.4137 - val_mse: 0.2901\n",
      "Epoch 36/100\n",
      "169486/169486 [==============================] - 21s 126us/sample - loss: 0.4257 - mae: 0.4257 - mse: 0.3059 - val_loss: 0.4137 - val_mae: 0.4137 - val_mse: 0.2891\n",
      "Epoch 37/100\n",
      "169486/169486 [==============================] - 21s 126us/sample - loss: 0.4252 - mae: 0.4252 - mse: 0.3054 - val_loss: 0.4148 - val_mae: 0.4148 - val_mse: 0.2902\n",
      "Epoch 38/100\n",
      "169486/169486 [==============================] - 21s 126us/sample - loss: 0.4250 - mae: 0.4250 - mse: 0.3056 - val_loss: 0.4136 - val_mae: 0.4136 - val_mse: 0.2898\n",
      "Epoch 39/100\n",
      "169486/169486 [==============================] - 21s 126us/sample - loss: 0.4250 - mae: 0.4250 - mse: 0.3052 - val_loss: 0.4148 - val_mae: 0.4148 - val_mse: 0.2888\n",
      "Epoch 40/100\n",
      "169486/169486 [==============================] - 22s 128us/sample - loss: 0.4246 - mae: 0.4246 - mse: 0.3047 - val_loss: 0.4145 - val_mae: 0.4145 - val_mse: 0.2891\n",
      "Epoch 41/100\n",
      "169486/169486 [==============================] - 22s 129us/sample - loss: 0.4239 - mae: 0.4239 - mse: 0.3043 - val_loss: 0.4140 - val_mae: 0.4140 - val_mse: 0.2892\n",
      "Epoch 00041: early stopping\n",
      "CPU times: user 24min 23s, sys: 3min 31s, total: 27min 55s\n",
      "Wall time: 14min 51s\n"
     ]
    }
   ],
   "source": [
    "%%time\n",
    "\n",
    "EPOCHS = 100\n",
    "\n",
    "early_stop = keras.callbacks.EarlyStopping(monitor='val_mae', mode='min', patience=15, verbose=1)\n",
    "\n",
    "early_history = keras_clf.fit(X_clean, y_clean, \n",
    "                    epochs=EPOCHS, validation_split = 0.1, verbose=1, \n",
    "                    callbacks=[early_stop])"
   ]
  },
  {
   "cell_type": "code",
   "execution_count": 46,
   "metadata": {},
   "outputs": [
    {
     "data": {
      "text/html": [
       "<div>\n",
       "<style scoped>\n",
       "    .dataframe tbody tr th:only-of-type {\n",
       "        vertical-align: middle;\n",
       "    }\n",
       "\n",
       "    .dataframe tbody tr th {\n",
       "        vertical-align: top;\n",
       "    }\n",
       "\n",
       "    .dataframe thead th {\n",
       "        text-align: right;\n",
       "    }\n",
       "</style>\n",
       "<table border=\"1\" class=\"dataframe\">\n",
       "  <thead>\n",
       "    <tr style=\"text-align: right;\">\n",
       "      <th></th>\n",
       "      <th>loss</th>\n",
       "      <th>mae</th>\n",
       "      <th>mse</th>\n",
       "      <th>val_loss</th>\n",
       "      <th>val_mae</th>\n",
       "      <th>val_mse</th>\n",
       "      <th>epoch</th>\n",
       "    </tr>\n",
       "  </thead>\n",
       "  <tbody>\n",
       "    <tr>\n",
       "      <th>31</th>\n",
       "      <td>0.426429</td>\n",
       "      <td>0.426429</td>\n",
       "      <td>0.307035</td>\n",
       "      <td>0.414503</td>\n",
       "      <td>0.414503</td>\n",
       "      <td>0.290920</td>\n",
       "      <td>31</td>\n",
       "    </tr>\n",
       "    <tr>\n",
       "      <th>32</th>\n",
       "      <td>0.425974</td>\n",
       "      <td>0.425974</td>\n",
       "      <td>0.306080</td>\n",
       "      <td>0.415910</td>\n",
       "      <td>0.415910</td>\n",
       "      <td>0.289702</td>\n",
       "      <td>32</td>\n",
       "    </tr>\n",
       "    <tr>\n",
       "      <th>33</th>\n",
       "      <td>0.426434</td>\n",
       "      <td>0.426433</td>\n",
       "      <td>0.306480</td>\n",
       "      <td>0.413664</td>\n",
       "      <td>0.413664</td>\n",
       "      <td>0.290434</td>\n",
       "      <td>33</td>\n",
       "    </tr>\n",
       "    <tr>\n",
       "      <th>34</th>\n",
       "      <td>0.426327</td>\n",
       "      <td>0.426327</td>\n",
       "      <td>0.307144</td>\n",
       "      <td>0.413729</td>\n",
       "      <td>0.413729</td>\n",
       "      <td>0.290082</td>\n",
       "      <td>34</td>\n",
       "    </tr>\n",
       "    <tr>\n",
       "      <th>35</th>\n",
       "      <td>0.425722</td>\n",
       "      <td>0.425722</td>\n",
       "      <td>0.305906</td>\n",
       "      <td>0.413657</td>\n",
       "      <td>0.413657</td>\n",
       "      <td>0.289145</td>\n",
       "      <td>35</td>\n",
       "    </tr>\n",
       "    <tr>\n",
       "      <th>36</th>\n",
       "      <td>0.425192</td>\n",
       "      <td>0.425193</td>\n",
       "      <td>0.305439</td>\n",
       "      <td>0.414791</td>\n",
       "      <td>0.414791</td>\n",
       "      <td>0.290151</td>\n",
       "      <td>36</td>\n",
       "    </tr>\n",
       "    <tr>\n",
       "      <th>37</th>\n",
       "      <td>0.424963</td>\n",
       "      <td>0.424963</td>\n",
       "      <td>0.305571</td>\n",
       "      <td>0.413595</td>\n",
       "      <td>0.413595</td>\n",
       "      <td>0.289810</td>\n",
       "      <td>37</td>\n",
       "    </tr>\n",
       "    <tr>\n",
       "      <th>38</th>\n",
       "      <td>0.425003</td>\n",
       "      <td>0.425003</td>\n",
       "      <td>0.305238</td>\n",
       "      <td>0.414842</td>\n",
       "      <td>0.414842</td>\n",
       "      <td>0.288778</td>\n",
       "      <td>38</td>\n",
       "    </tr>\n",
       "    <tr>\n",
       "      <th>39</th>\n",
       "      <td>0.424603</td>\n",
       "      <td>0.424603</td>\n",
       "      <td>0.304738</td>\n",
       "      <td>0.414530</td>\n",
       "      <td>0.414530</td>\n",
       "      <td>0.289109</td>\n",
       "      <td>39</td>\n",
       "    </tr>\n",
       "    <tr>\n",
       "      <th>40</th>\n",
       "      <td>0.423895</td>\n",
       "      <td>0.423895</td>\n",
       "      <td>0.304273</td>\n",
       "      <td>0.413989</td>\n",
       "      <td>0.413989</td>\n",
       "      <td>0.289232</td>\n",
       "      <td>40</td>\n",
       "    </tr>\n",
       "  </tbody>\n",
       "</table>\n",
       "</div>"
      ],
      "text/plain": [
       "        loss       mae       mse  val_loss   val_mae   val_mse  epoch\n",
       "31  0.426429  0.426429  0.307035  0.414503  0.414503  0.290920     31\n",
       "32  0.425974  0.425974  0.306080  0.415910  0.415910  0.289702     32\n",
       "33  0.426434  0.426433  0.306480  0.413664  0.413664  0.290434     33\n",
       "34  0.426327  0.426327  0.307144  0.413729  0.413729  0.290082     34\n",
       "35  0.425722  0.425722  0.305906  0.413657  0.413657  0.289145     35\n",
       "36  0.425192  0.425193  0.305439  0.414791  0.414791  0.290151     36\n",
       "37  0.424963  0.424963  0.305571  0.413595  0.413595  0.289810     37\n",
       "38  0.425003  0.425003  0.305238  0.414842  0.414842  0.288778     38\n",
       "39  0.424603  0.424603  0.304738  0.414530  0.414530  0.289109     39\n",
       "40  0.423895  0.423895  0.304273  0.413989  0.413989  0.289232     40"
      ]
     },
     "execution_count": 46,
     "metadata": {},
     "output_type": "execute_result"
    }
   ],
   "source": [
    "# Putting keras output for each epoch into a table\n",
    "\n",
    "early_hist = pd.DataFrame(early_history.history)\n",
    "early_hist['epoch'] = early_history.epoch\n",
    "early_hist[-10:]"
   ]
  },
  {
   "cell_type": "code",
   "execution_count": 47,
   "metadata": {},
   "outputs": [
    {
     "data": {
      "image/png": "[encoded data removed]",
      "text/plain": [
       "<Figure size 432x288 with 1 Axes>"
      ]
     },
     "metadata": {
      "needs_background": "light"
     },
     "output_type": "display_data"
    }
   ],
   "source": [
    "# Plotting change in MAE with increasing number of epochs\n",
    "\n",
    "plotter = tfdocs.plots.HistoryPlotter()\n",
    "\n",
    "plotter.plot({'Early Stopping': early_history}, metric = \"mae\")\n",
    "plt.ylim([0.4, 0.5])\n",
    "plt.ylabel('MAE');"
   ]
  },
  {
   "cell_type": "code",
   "execution_count": 48,
   "metadata": {},
   "outputs": [
    {
     "name": "stdout",
     "output_type": "stream",
     "text": [
      "188318/188318 - 8s - loss: 0.4038 - mae: 0.4038 - mse: 0.2801\n",
      "Training set Mean Abs Error: 0.40383509\n"
     ]
    }
   ],
   "source": [
    "loss, mae, mse = keras_clf.evaluate(X_clean, y_clean, verbose=2)\n",
    "print(\"Training set Mean Abs Error: {:5.8f}\".format(mae))"
   ]
  },
  {
   "cell_type": "code",
   "execution_count": 49,
   "metadata": {},
   "outputs": [
    {
     "name": "stdout",
     "output_type": "stream",
     "text": [
      "min val_mae: 0.41303807497024536\n",
      "avg val_mae: 0.4146371146043142\n"
     ]
    }
   ],
   "source": [
    "print('min val_mae:', np.min(early_hist['val_mae']))\n",
    "print('avg val_mae:', np.mean(early_hist['val_mae'][-15:]))"
   ]
  },
  {
   "cell_type": "code",
   "execution_count": 50,
   "metadata": {},
   "outputs": [],
   "source": [
    "# keras predictions on the train data\n",
    "y_pred_keras = keras_clf.predict(X_clean).flatten()\n",
    "\n",
    "# Saving keras predictions on the test data\n",
    "y_test_keras = keras_clf.predict(X_test_clean).flatten()\n",
    "output = pd.DataFrame({'id': X_test_clean.index, \n",
    "                       'loss': np.expm1(y_test_keras)})\n",
    "output.to_csv('./output/submission_keras.csv', index=False)"
   ]
  },
  {
   "cell_type": "code",
   "execution_count": 51,
   "metadata": {},
   "outputs": [
    {
     "name": "stdout",
     "output_type": "stream",
     "text": [
      "keras training score: 1111.7834652717252\n",
      "keras training MAE: 0.4038350061375241\n"
     ]
    }
   ],
   "source": [
    "print('keras training score:',mean_absolute_error(np.expm1(y_pred_keras),np.expm1(y_clean)))\n",
    "print('keras training MAE:',np.mean(np.abs(y_pred_keras-y_clean)))"
   ]
  },
  {
   "cell_type": "code",
   "execution_count": null,
   "metadata": {},
   "outputs": [],
   "source": []
  },
  {
   "cell_type": "code",
   "execution_count": null,
   "metadata": {},
   "outputs": [],
   "source": []
  },
  {
   "cell_type": "markdown",
   "metadata": {},
   "source": [
    "# 7. Model Ensembling <a id='section_7'></a>\n",
    "\n",
    "[7.1 Comparing model fits](#section_7.1)   \n",
    "[7.2 Voting ensemble](#section_7.2)   \n",
    "[7.3 Stacking ensemble](#section_7.3)  "
   ]
  },
  {
   "cell_type": "markdown",
   "metadata": {},
   "source": [
    "##  7.1 Comparing model fits <a id='section_7.1'></a>"
   ]
  },
  {
   "cell_type": "code",
   "execution_count": 52,
   "metadata": {},
   "outputs": [
    {
     "data": {
      "text/html": [
       "<div>\n",
       "<style scoped>\n",
       "    .dataframe tbody tr th:only-of-type {\n",
       "        vertical-align: middle;\n",
       "    }\n",
       "\n",
       "    .dataframe tbody tr th {\n",
       "        vertical-align: top;\n",
       "    }\n",
       "\n",
       "    .dataframe thead th {\n",
       "        text-align: right;\n",
       "    }\n",
       "</style>\n",
       "<table border=\"1\" class=\"dataframe\">\n",
       "  <thead>\n",
       "    <tr style=\"text-align: right;\">\n",
       "      <th></th>\n",
       "      <th>model</th>\n",
       "      <th>model_clf</th>\n",
       "      <th>mean(CV)</th>\n",
       "      <th>std(CV)</th>\n",
       "    </tr>\n",
       "  </thead>\n",
       "  <tbody>\n",
       "    <tr>\n",
       "      <th>0</th>\n",
       "      <td>LGBMRegressor</td>\n",
       "      <td>LGBMRegressor(boosting_type='gbdt', class_weig...</td>\n",
       "      <td>0.414</td>\n",
       "      <td>0.0002</td>\n",
       "    </tr>\n",
       "    <tr>\n",
       "      <th>1</th>\n",
       "      <td>XGBRegressor</td>\n",
       "      <td>XGBRegressor(base_score=0.5, booster='gbtree',...</td>\n",
       "      <td>0.416</td>\n",
       "      <td>0.0004</td>\n",
       "    </tr>\n",
       "  </tbody>\n",
       "</table>\n",
       "</div>"
      ],
      "text/plain": [
       "           model                                          model_clf  mean(CV)  \\\n",
       "0  LGBMRegressor  LGBMRegressor(boosting_type='gbdt', class_weig...     0.414   \n",
       "1   XGBRegressor  XGBRegressor(base_score=0.5, booster='gbtree',...     0.416   \n",
       "\n",
       "   std(CV)  \n",
       "0   0.0002  \n",
       "1   0.0004  "
      ]
     },
     "execution_count": 52,
     "metadata": {},
     "output_type": "execute_result"
    }
   ],
   "source": [
    "models_fit_df"
   ]
  },
  {
   "cell_type": "markdown",
   "metadata": {},
   "source": [
    "Scoring on the Kaggle private leaderboard, calculated using 70% of the test data:\n",
    "- LGBMRegressor: 1135.47485\n",
    "- XGBRegressor:  1135.67412\n",
    "- Keras:         1150.33700"
   ]
  },
  {
   "cell_type": "markdown",
   "metadata": {},
   "source": [
    "## 7.2 Voting ensemble <a id='section_7.2'></a>"
   ]
  },
  {
   "cell_type": "code",
   "execution_count": 53,
   "metadata": {},
   "outputs": [],
   "source": [
    "# Voting predictions on training set\n",
    "y_pred_voting = ((1.*y_pred_lgb) + (1.*y_pred_xgb) + (1.*y_pred_keras))/3.\n",
    "\n",
    "# Voting predictions on test set\n",
    "y_test_voting = ((1.*y_test_lgb) + (1.*y_test_xgb) + (1.*y_test_keras))/3.\n",
    "\n",
    "# Voting predictions with just lgb and xgb\n",
    "y_test_voting_lgbxgb = ((1.*y_test_lgb) + (1.*y_test_xgb))/2."
   ]
  },
  {
   "cell_type": "code",
   "execution_count": 54,
   "metadata": {},
   "outputs": [],
   "source": [
    "# Saving voting predictions on the test data\n",
    "output = pd.DataFrame({'id': X_test_clean.index, \n",
    "                       'loss': np.expm1(y_test_voting)})\n",
    "output.to_csv('./output/submission_voting.csv', index=False)\n",
    "\n",
    "#  Voting predictions with just lgb and xgb\n",
    "output = pd.DataFrame({'id': X_test_clean.index, \n",
    "                       'loss': np.expm1(y_test_voting_lgbxgb)})\n",
    "output.to_csv('./output/submission_voting_lgbxgb.csv', index=False)"
   ]
  },
  {
   "cell_type": "markdown",
   "metadata": {},
   "source": [
    "Scoring results:  \n",
    "Averaging LGB and XGB results with equal weighting:         1133.25998 (top 45%)  \n",
    "Averaging LGB, XGB, and keras results with equal weighting: 1129.37730 (top 37%)"
   ]
  },
  {
   "cell_type": "markdown",
   "metadata": {},
   "source": [
    "## 7.3 Stacking ensemble <a id='section_7.3'></a>"
   ]
  },
  {
   "cell_type": "code",
   "execution_count": 55,
   "metadata": {},
   "outputs": [],
   "source": [
    "# Creating a dataframe of the predicted values\n",
    "\n",
    "# Training set predictions\n",
    "y_pred_df = pd.DataFrame()\n",
    "y_pred_df['lgb'] = y_pred_lgb\n",
    "y_pred_df['xgb'] = y_pred_xgb\n",
    "y_pred_df['keras'] = y_pred_keras\n",
    "\n",
    "# Test set predictions\n",
    "y_test_df = pd.DataFrame()\n",
    "y_test_df['lgb'] = y_test_lgb\n",
    "y_test_df['xgb'] = y_test_xgb\n",
    "y_test_df['keras'] = y_test_keras"
   ]
  },
  {
   "cell_type": "code",
   "execution_count": 56,
   "metadata": {},
   "outputs": [
    {
     "name": "stdout",
     "output_type": "stream",
     "text": [
      "[0.82756237 0.06142018 0.14816301]\n"
     ]
    }
   ],
   "source": [
    "from sklearn.linear_model import Ridge\n",
    "\n",
    "stacking_clf = Ridge(alpha=189).fit(y_pred_df,y_clean)\n",
    "\n",
    "print(stacking_clf.coef_)"
   ]
  },
  {
   "cell_type": "code",
   "execution_count": 57,
   "metadata": {},
   "outputs": [],
   "source": [
    "# Stacking predictions on training data\n",
    "y_pred_stacking = stacking_clf.predict(y_pred_df)\n",
    "\n",
    "# Stacking predictions on test data\n",
    "y_test_stacking = stacking_clf.predict(y_test_df)\n",
    "\n",
    "# Saving stacking predictions on the test data\n",
    "output = pd.DataFrame({'id': X_test_clean.index, \n",
    "                       'loss': np.expm1(y_test_stacking)})\n",
    "output.to_csv('./output/submission_stacking.csv', index=False)"
   ]
  },
  {
   "cell_type": "markdown",
   "metadata": {},
   "source": [
    "Scoring results:  \n",
    "Stacking ensemble of LGB, XGB, keras with Ridge as meta-model: 1128.77685 (top 36%)"
   ]
  },
  {
   "cell_type": "code",
   "execution_count": null,
   "metadata": {},
   "outputs": [],
   "source": []
  }
 ],
 "metadata": {
  "kernelspec": {
   "display_name": "Python 3",
   "language": "python",
   "name": "python3"
  },
  "language_info": {
   "codemirror_mode": {
    "name": "ipython",
    "version": 3
   },
   "file_extension": ".py",
   "mimetype": "text/x-python",
   "name": "python",
   "nbconvert_exporter": "python",
   "pygments_lexer": "ipython3",
   "version": "3.7.6"
  }
 },
 "nbformat": 4,
 "nbformat_minor": 2
}
